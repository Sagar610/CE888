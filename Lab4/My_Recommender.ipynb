{
  "nbformat": 4,
  "nbformat_minor": 0,
  "metadata": {
    "colab": {
      "name": "My_Recommender.ipynb",
      "provenance": [],
      "collapsed_sections": [],
      "include_colab_link": true
    },
    "kernelspec": {
      "name": "python3",
      "display_name": "Python 3"
    },
    "language_info": {
      "name": "python"
    }
  },
  "cells": [
    {
      "cell_type": "markdown",
      "metadata": {
        "id": "view-in-github",
        "colab_type": "text"
      },
      "source": [
        "<a href=\"https://colab.research.google.com/github/Sagar610/CE888/blob/main/Lab4/My_Recommender.ipynb\" target=\"_parent\"><img src=\"https://colab.research.google.com/assets/colab-badge.svg\" alt=\"Open In Colab\"/></a>"
      ]
    },
    {
      "cell_type": "markdown",
      "metadata": {
        "id": "TeZZnCrPHmx5"
      },
      "source": [
        "**Import packages/libraries**"
      ]
    },
    {
      "cell_type": "code",
      "metadata": {
        "id": "9L5q8QaxHjXg"
      },
      "source": [
        "import pandas as pd\n",
        "import numpy as np\n",
        "import matplotlib.pyplot as plt"
      ],
      "execution_count": null,
      "outputs": []
    },
    {
      "cell_type": "markdown",
      "metadata": {
        "id": "22vevN4bHvtq"
      },
      "source": [
        "**Load the data files**"
      ]
    },
    {
      "cell_type": "code",
      "metadata": {
        "id": "yl0in2nEHjaS"
      },
      "source": [
        "data=pd.read_csv('https://raw.githubusercontent.com/albanda/CE888/master/lab4-recommender/jester-data-1.csv', header=None)"
      ],
      "execution_count": null,
      "outputs": []
    },
    {
      "cell_type": "code",
      "metadata": {
        "id": "AVWuAvbBHjcu"
      },
      "source": [
        "test_data=pd.DataFrame(data)\n",
        "test_data=pd.concat([test_data.loc[:, 0], test_data.loc[:, 1:].replace(99.00, np.NaN)], axis=1)\n",
        "test_data.drop(columns=[0], inplace=True)"
      ],
      "execution_count": null,
      "outputs": []
    },
    {
      "cell_type": "code",
      "metadata": {
        "id": "Z5gQlLk-Hjft"
      },
      "source": [
        "data=pd.concat([data.loc[:, 0], data.loc[:, 1:].replace(99.00, np.NaN)], axis=1)\n",
        "data.drop(columns=[0], inplace=True)"
      ],
      "execution_count": null,
      "outputs": []
    },
    {
      "cell_type": "code",
      "metadata": {
        "id": "M940P3OxHjid"
      },
      "source": [
        "val_data=pd.read_csv('https://raw.githubusercontent.com/albanda/CE888/master/lab4-recommender/jester-data-1.csv', header=None)\n",
        "val_data.drop(columns=[0], inplace=True)\n",
        "# val_data.head()"
      ],
      "execution_count": null,
      "outputs": []
    },
    {
      "cell_type": "markdown",
      "metadata": {
        "id": "A2UVxwruH5Nn"
      },
      "source": [
        "**Highest and lowest rated joke**"
      ]
    },
    {
      "cell_type": "code",
      "metadata": {
        "colab": {
          "base_uri": "https://localhost:8080/"
        },
        "id": "sKmlAvP_HjlW",
        "outputId": "5318943a-e700-42b0-881e-8cf72ca9d23f"
      },
      "source": [
        "print('Joke with highest rating : ', test_data.max(axis=0).idxmax())\n",
        "print('Joke with lowest rating : ', test_data.min(axis=0).idxmin())"
      ],
      "execution_count": null,
      "outputs": [
        {
          "output_type": "stream",
          "text": [
            "Joke with highest rating :  45\n",
            "Joke with lowest rating :  1\n"
          ],
          "name": "stdout"
        }
      ]
    },
    {
      "cell_type": "code",
      "metadata": {
        "id": "RewiLrLxHjoG"
      },
      "source": [
        "# val_data=pd.DataFrame(data)\n",
        "# val_data.drop(columns=[0], inplace=True)"
      ],
      "execution_count": null,
      "outputs": []
    },
    {
      "cell_type": "markdown",
      "metadata": {
        "id": "G_h8Y7K4H_44"
      },
      "source": [
        "**Prepare Validation Data**"
      ]
    },
    {
      "cell_type": "code",
      "metadata": {
        "colab": {
          "base_uri": "https://localhost:8080/"
        },
        "id": "mlbfpaVBHjq7",
        "outputId": "f3096696-0e4a-48b3-e80a-6bcee1eb1b32"
      },
      "source": [
        "arr = val_data.values\n",
        "arr.shape"
      ],
      "execution_count": null,
      "outputs": [
        {
          "output_type": "execute_result",
          "data": {
            "text/plain": [
              "(24983, 100)"
            ]
          },
          "metadata": {
            "tags": []
          },
          "execution_count": 8
        }
      ]
    },
    {
      "cell_type": "code",
      "metadata": {
        "colab": {
          "base_uri": "https://localhost:8080/"
        },
        "id": "KnwmHs6SHjuC",
        "outputId": "c7315e51-8aab-43ce-a9f7-bfc79df39c64"
      },
      "source": [
        "rated = np.where(arr!=99)\n",
        "print(len(rated[0]), rated[1].shape)"
      ],
      "execution_count": null,
      "outputs": [
        {
          "output_type": "stream",
          "text": [
            "1810455 (1810455,)\n"
          ],
          "name": "stdout"
        }
      ]
    },
    {
      "cell_type": "code",
      "metadata": {
        "id": "GiU7JAFfHjxD"
      },
      "source": [
        "# data.drop(columns=[0], inplace=True)"
      ],
      "execution_count": null,
      "outputs": []
    },
    {
      "cell_type": "code",
      "metadata": {
        "colab": {
          "base_uri": "https://localhost:8080/"
        },
        "id": "fpbRV-s7Hjzw",
        "outputId": "2d92546c-8661-4c6d-ca76-d3ab89159435"
      },
      "source": [
        "len(np.where(arr!=99)[1])"
      ],
      "execution_count": null,
      "outputs": [
        {
          "output_type": "execute_result",
          "data": {
            "text/plain": [
              "1810455"
            ]
          },
          "metadata": {
            "tags": []
          },
          "execution_count": 11
        }
      ]
    },
    {
      "cell_type": "code",
      "metadata": {
        "id": "1kKy-46GHj2i"
      },
      "source": [
        "def replace(orig, percentage=0.1):\n",
        "  \"\"\"\n",
        "  Replaces 'percentage'% of the original values in 'orig' with 99's\n",
        "  :param orig: original data array\n",
        "  :param percentage: percentage of values to replace (0<percentage<1)\n",
        "  \"\"\"\n",
        "  new_data = orig.copy()\n",
        "  rated = np.where(arr!=99)\n",
        "  n_rated = len(rated[0])\n",
        "  idx = np.random.choice(n_rated, size=int(percentage*n_rated), replace=False)\n",
        "  new_data[rated[0][idx], rated[1][idx]] = 99\n",
        "  return new_data, (rated[0][idx], rated[1][idx])"
      ],
      "execution_count": null,
      "outputs": []
    },
    {
      "cell_type": "code",
      "metadata": {
        "id": "PdLcCsGfHj5f"
      },
      "source": [
        "new_arr, idx = replace(arr, 0.1)"
      ],
      "execution_count": null,
      "outputs": []
    },
    {
      "cell_type": "code",
      "metadata": {
        "colab": {
          "base_uri": "https://localhost:8080/"
        },
        "id": "Y5IK6wY9Hj8g",
        "outputId": "77a8bdcf-de2e-47ef-e3b6-cdf78187b4dd"
      },
      "source": [
        "arr[idx[0][0], idx[1][0]]"
      ],
      "execution_count": null,
      "outputs": [
        {
          "output_type": "execute_result",
          "data": {
            "text/plain": [
              "-4.03"
            ]
          },
          "metadata": {
            "tags": []
          },
          "execution_count": 14
        }
      ]
    },
    {
      "cell_type": "code",
      "metadata": {
        "colab": {
          "base_uri": "https://localhost:8080/"
        },
        "id": "jk67kukZHj-u",
        "outputId": "3e1f3cfb-684d-4f6a-ff01-f3bcc7efd0ca"
      },
      "source": [
        "new_arr[idx[0][0], idx[1][0]]"
      ],
      "execution_count": null,
      "outputs": [
        {
          "output_type": "execute_result",
          "data": {
            "text/plain": [
              "99.0"
            ]
          },
          "metadata": {
            "tags": []
          },
          "execution_count": 15
        }
      ]
    },
    {
      "cell_type": "code",
      "metadata": {
        "colab": {
          "base_uri": "https://localhost:8080/",
          "height": 244
        },
        "id": "_6nRqUjgHkBw",
        "outputId": "2d2032d1-1451-410c-c17b-6d6574f941d7"
      },
      "source": [
        "val_data=pd.DataFrame(new_arr)\n",
        "val_data=pd.DataFrame(val_data.loc[:, 0:].replace(99.00, np.NaN))\n",
        "val_data.head()"
      ],
      "execution_count": null,
      "outputs": [
        {
          "output_type": "execute_result",
          "data": {
            "text/html": [
              "<div>\n",
              "<style scoped>\n",
              "    .dataframe tbody tr th:only-of-type {\n",
              "        vertical-align: middle;\n",
              "    }\n",
              "\n",
              "    .dataframe tbody tr th {\n",
              "        vertical-align: top;\n",
              "    }\n",
              "\n",
              "    .dataframe thead th {\n",
              "        text-align: right;\n",
              "    }\n",
              "</style>\n",
              "<table border=\"1\" class=\"dataframe\">\n",
              "  <thead>\n",
              "    <tr style=\"text-align: right;\">\n",
              "      <th></th>\n",
              "      <th>0</th>\n",
              "      <th>1</th>\n",
              "      <th>2</th>\n",
              "      <th>3</th>\n",
              "      <th>4</th>\n",
              "      <th>5</th>\n",
              "      <th>6</th>\n",
              "      <th>7</th>\n",
              "      <th>8</th>\n",
              "      <th>9</th>\n",
              "      <th>10</th>\n",
              "      <th>11</th>\n",
              "      <th>12</th>\n",
              "      <th>13</th>\n",
              "      <th>14</th>\n",
              "      <th>15</th>\n",
              "      <th>16</th>\n",
              "      <th>17</th>\n",
              "      <th>18</th>\n",
              "      <th>19</th>\n",
              "      <th>20</th>\n",
              "      <th>21</th>\n",
              "      <th>22</th>\n",
              "      <th>23</th>\n",
              "      <th>24</th>\n",
              "      <th>25</th>\n",
              "      <th>26</th>\n",
              "      <th>27</th>\n",
              "      <th>28</th>\n",
              "      <th>29</th>\n",
              "      <th>30</th>\n",
              "      <th>31</th>\n",
              "      <th>32</th>\n",
              "      <th>33</th>\n",
              "      <th>34</th>\n",
              "      <th>35</th>\n",
              "      <th>36</th>\n",
              "      <th>37</th>\n",
              "      <th>38</th>\n",
              "      <th>39</th>\n",
              "      <th>...</th>\n",
              "      <th>60</th>\n",
              "      <th>61</th>\n",
              "      <th>62</th>\n",
              "      <th>63</th>\n",
              "      <th>64</th>\n",
              "      <th>65</th>\n",
              "      <th>66</th>\n",
              "      <th>67</th>\n",
              "      <th>68</th>\n",
              "      <th>69</th>\n",
              "      <th>70</th>\n",
              "      <th>71</th>\n",
              "      <th>72</th>\n",
              "      <th>73</th>\n",
              "      <th>74</th>\n",
              "      <th>75</th>\n",
              "      <th>76</th>\n",
              "      <th>77</th>\n",
              "      <th>78</th>\n",
              "      <th>79</th>\n",
              "      <th>80</th>\n",
              "      <th>81</th>\n",
              "      <th>82</th>\n",
              "      <th>83</th>\n",
              "      <th>84</th>\n",
              "      <th>85</th>\n",
              "      <th>86</th>\n",
              "      <th>87</th>\n",
              "      <th>88</th>\n",
              "      <th>89</th>\n",
              "      <th>90</th>\n",
              "      <th>91</th>\n",
              "      <th>92</th>\n",
              "      <th>93</th>\n",
              "      <th>94</th>\n",
              "      <th>95</th>\n",
              "      <th>96</th>\n",
              "      <th>97</th>\n",
              "      <th>98</th>\n",
              "      <th>99</th>\n",
              "    </tr>\n",
              "  </thead>\n",
              "  <tbody>\n",
              "    <tr>\n",
              "      <th>0</th>\n",
              "      <td>-7.82</td>\n",
              "      <td>8.79</td>\n",
              "      <td>-9.66</td>\n",
              "      <td>-8.16</td>\n",
              "      <td>-7.52</td>\n",
              "      <td>-8.50</td>\n",
              "      <td>NaN</td>\n",
              "      <td>4.17</td>\n",
              "      <td>-8.98</td>\n",
              "      <td>-4.76</td>\n",
              "      <td>-8.50</td>\n",
              "      <td>NaN</td>\n",
              "      <td>-7.18</td>\n",
              "      <td>8.45</td>\n",
              "      <td>-7.18</td>\n",
              "      <td>-7.52</td>\n",
              "      <td>-7.43</td>\n",
              "      <td>-9.81</td>\n",
              "      <td>-9.85</td>\n",
              "      <td>NaN</td>\n",
              "      <td>-9.37</td>\n",
              "      <td>1.50</td>\n",
              "      <td>-4.37</td>\n",
              "      <td>NaN</td>\n",
              "      <td>-8.50</td>\n",
              "      <td>1.12</td>\n",
              "      <td>7.82</td>\n",
              "      <td>2.86</td>\n",
              "      <td>9.13</td>\n",
              "      <td>-7.43</td>\n",
              "      <td>2.14</td>\n",
              "      <td>-4.08</td>\n",
              "      <td>-9.08</td>\n",
              "      <td>7.82</td>\n",
              "      <td>NaN</td>\n",
              "      <td>NaN</td>\n",
              "      <td>-9.17</td>\n",
              "      <td>-8.40</td>\n",
              "      <td>-8.40</td>\n",
              "      <td>-8.40</td>\n",
              "      <td>...</td>\n",
              "      <td>8.59</td>\n",
              "      <td>3.59</td>\n",
              "      <td>-6.84</td>\n",
              "      <td>-9.03</td>\n",
              "      <td>2.82</td>\n",
              "      <td>NaN</td>\n",
              "      <td>-9.08</td>\n",
              "      <td>8.30</td>\n",
              "      <td>5.68</td>\n",
              "      <td>-4.81</td>\n",
              "      <td>NaN</td>\n",
              "      <td>NaN</td>\n",
              "      <td>NaN</td>\n",
              "      <td>NaN</td>\n",
              "      <td>NaN</td>\n",
              "      <td>NaN</td>\n",
              "      <td>NaN</td>\n",
              "      <td>-9.42</td>\n",
              "      <td>NaN</td>\n",
              "      <td>NaN</td>\n",
              "      <td>NaN</td>\n",
              "      <td>-7.72</td>\n",
              "      <td>NaN</td>\n",
              "      <td>NaN</td>\n",
              "      <td>NaN</td>\n",
              "      <td>NaN</td>\n",
              "      <td>NaN</td>\n",
              "      <td>NaN</td>\n",
              "      <td>NaN</td>\n",
              "      <td>NaN</td>\n",
              "      <td>2.82</td>\n",
              "      <td>NaN</td>\n",
              "      <td>NaN</td>\n",
              "      <td>NaN</td>\n",
              "      <td>NaN</td>\n",
              "      <td>NaN</td>\n",
              "      <td>NaN</td>\n",
              "      <td>NaN</td>\n",
              "      <td>NaN</td>\n",
              "      <td>NaN</td>\n",
              "    </tr>\n",
              "    <tr>\n",
              "      <th>1</th>\n",
              "      <td>4.08</td>\n",
              "      <td>-0.29</td>\n",
              "      <td>6.36</td>\n",
              "      <td>NaN</td>\n",
              "      <td>-2.38</td>\n",
              "      <td>NaN</td>\n",
              "      <td>-0.73</td>\n",
              "      <td>-5.34</td>\n",
              "      <td>8.88</td>\n",
              "      <td>9.22</td>\n",
              "      <td>NaN</td>\n",
              "      <td>8.64</td>\n",
              "      <td>4.42</td>\n",
              "      <td>7.43</td>\n",
              "      <td>4.56</td>\n",
              "      <td>-0.97</td>\n",
              "      <td>4.66</td>\n",
              "      <td>-0.68</td>\n",
              "      <td>3.30</td>\n",
              "      <td>-1.21</td>\n",
              "      <td>0.87</td>\n",
              "      <td>8.64</td>\n",
              "      <td>8.35</td>\n",
              "      <td>9.17</td>\n",
              "      <td>0.05</td>\n",
              "      <td>7.57</td>\n",
              "      <td>4.71</td>\n",
              "      <td>0.87</td>\n",
              "      <td>NaN</td>\n",
              "      <td>6.99</td>\n",
              "      <td>6.50</td>\n",
              "      <td>-0.92</td>\n",
              "      <td>7.14</td>\n",
              "      <td>9.03</td>\n",
              "      <td>-1.80</td>\n",
              "      <td>0.73</td>\n",
              "      <td>7.09</td>\n",
              "      <td>3.40</td>\n",
              "      <td>-0.87</td>\n",
              "      <td>NaN</td>\n",
              "      <td>...</td>\n",
              "      <td>NaN</td>\n",
              "      <td>-3.35</td>\n",
              "      <td>-9.03</td>\n",
              "      <td>4.47</td>\n",
              "      <td>4.08</td>\n",
              "      <td>-3.83</td>\n",
              "      <td>8.74</td>\n",
              "      <td>1.12</td>\n",
              "      <td>0.78</td>\n",
              "      <td>7.52</td>\n",
              "      <td>-5.0</td>\n",
              "      <td>2.77</td>\n",
              "      <td>8.3</td>\n",
              "      <td>7.77</td>\n",
              "      <td>7.33</td>\n",
              "      <td>6.21</td>\n",
              "      <td>7.72</td>\n",
              "      <td>8.98</td>\n",
              "      <td>8.64</td>\n",
              "      <td>NaN</td>\n",
              "      <td>3.93</td>\n",
              "      <td>NaN</td>\n",
              "      <td>4.85</td>\n",
              "      <td>6.07</td>\n",
              "      <td>NaN</td>\n",
              "      <td>4.51</td>\n",
              "      <td>-0.05</td>\n",
              "      <td>3.69</td>\n",
              "      <td>4.56</td>\n",
              "      <td>0.58</td>\n",
              "      <td>2.82</td>\n",
              "      <td>-4.95</td>\n",
              "      <td>-0.29</td>\n",
              "      <td>7.86</td>\n",
              "      <td>-0.19</td>\n",
              "      <td>-2.14</td>\n",
              "      <td>3.06</td>\n",
              "      <td>0.34</td>\n",
              "      <td>-4.32</td>\n",
              "      <td>1.07</td>\n",
              "    </tr>\n",
              "    <tr>\n",
              "      <th>2</th>\n",
              "      <td>NaN</td>\n",
              "      <td>NaN</td>\n",
              "      <td>NaN</td>\n",
              "      <td>NaN</td>\n",
              "      <td>9.03</td>\n",
              "      <td>9.27</td>\n",
              "      <td>9.03</td>\n",
              "      <td>9.27</td>\n",
              "      <td>NaN</td>\n",
              "      <td>NaN</td>\n",
              "      <td>7.33</td>\n",
              "      <td>7.57</td>\n",
              "      <td>9.37</td>\n",
              "      <td>6.17</td>\n",
              "      <td>-6.36</td>\n",
              "      <td>-6.89</td>\n",
              "      <td>-7.86</td>\n",
              "      <td>9.03</td>\n",
              "      <td>9.03</td>\n",
              "      <td>9.03</td>\n",
              "      <td>7.28</td>\n",
              "      <td>NaN</td>\n",
              "      <td>8.25</td>\n",
              "      <td>NaN</td>\n",
              "      <td>NaN</td>\n",
              "      <td>7.48</td>\n",
              "      <td>7.28</td>\n",
              "      <td>7.28</td>\n",
              "      <td>8.93</td>\n",
              "      <td>NaN</td>\n",
              "      <td>6.17</td>\n",
              "      <td>7.28</td>\n",
              "      <td>NaN</td>\n",
              "      <td>NaN</td>\n",
              "      <td>NaN</td>\n",
              "      <td>7.33</td>\n",
              "      <td>NaN</td>\n",
              "      <td>6.17</td>\n",
              "      <td>9.08</td>\n",
              "      <td>NaN</td>\n",
              "      <td>...</td>\n",
              "      <td>6.46</td>\n",
              "      <td>7.28</td>\n",
              "      <td>NaN</td>\n",
              "      <td>NaN</td>\n",
              "      <td>7.04</td>\n",
              "      <td>7.28</td>\n",
              "      <td>NaN</td>\n",
              "      <td>7.28</td>\n",
              "      <td>8.25</td>\n",
              "      <td>NaN</td>\n",
              "      <td>NaN</td>\n",
              "      <td>NaN</td>\n",
              "      <td>NaN</td>\n",
              "      <td>NaN</td>\n",
              "      <td>NaN</td>\n",
              "      <td>8.93</td>\n",
              "      <td>NaN</td>\n",
              "      <td>NaN</td>\n",
              "      <td>NaN</td>\n",
              "      <td>9.08</td>\n",
              "      <td>NaN</td>\n",
              "      <td>NaN</td>\n",
              "      <td>NaN</td>\n",
              "      <td>NaN</td>\n",
              "      <td>NaN</td>\n",
              "      <td>NaN</td>\n",
              "      <td>NaN</td>\n",
              "      <td>NaN</td>\n",
              "      <td>NaN</td>\n",
              "      <td>9.03</td>\n",
              "      <td>NaN</td>\n",
              "      <td>NaN</td>\n",
              "      <td>NaN</td>\n",
              "      <td>9.08</td>\n",
              "      <td>NaN</td>\n",
              "      <td>NaN</td>\n",
              "      <td>NaN</td>\n",
              "      <td>NaN</td>\n",
              "      <td>NaN</td>\n",
              "      <td>NaN</td>\n",
              "    </tr>\n",
              "    <tr>\n",
              "      <th>3</th>\n",
              "      <td>NaN</td>\n",
              "      <td>8.35</td>\n",
              "      <td>NaN</td>\n",
              "      <td>NaN</td>\n",
              "      <td>NaN</td>\n",
              "      <td>8.16</td>\n",
              "      <td>NaN</td>\n",
              "      <td>6.21</td>\n",
              "      <td>NaN</td>\n",
              "      <td>1.84</td>\n",
              "      <td>7.33</td>\n",
              "      <td>6.60</td>\n",
              "      <td>6.31</td>\n",
              "      <td>8.11</td>\n",
              "      <td>NaN</td>\n",
              "      <td>-6.65</td>\n",
              "      <td>1.17</td>\n",
              "      <td>-6.60</td>\n",
              "      <td>-3.64</td>\n",
              "      <td>-2.09</td>\n",
              "      <td>5.34</td>\n",
              "      <td>NaN</td>\n",
              "      <td>NaN</td>\n",
              "      <td>NaN</td>\n",
              "      <td>NaN</td>\n",
              "      <td>NaN</td>\n",
              "      <td>3.93</td>\n",
              "      <td>6.75</td>\n",
              "      <td>6.60</td>\n",
              "      <td>NaN</td>\n",
              "      <td>6.65</td>\n",
              "      <td>NaN</td>\n",
              "      <td>NaN</td>\n",
              "      <td>7.57</td>\n",
              "      <td>6.21</td>\n",
              "      <td>6.65</td>\n",
              "      <td>NaN</td>\n",
              "      <td>-8.30</td>\n",
              "      <td>7.18</td>\n",
              "      <td>2.82</td>\n",
              "      <td>...</td>\n",
              "      <td>0.00</td>\n",
              "      <td>-3.69</td>\n",
              "      <td>NaN</td>\n",
              "      <td>NaN</td>\n",
              "      <td>7.82</td>\n",
              "      <td>0.24</td>\n",
              "      <td>NaN</td>\n",
              "      <td>7.28</td>\n",
              "      <td>-2.33</td>\n",
              "      <td>NaN</td>\n",
              "      <td>NaN</td>\n",
              "      <td>NaN</td>\n",
              "      <td>NaN</td>\n",
              "      <td>NaN</td>\n",
              "      <td>NaN</td>\n",
              "      <td>NaN</td>\n",
              "      <td>NaN</td>\n",
              "      <td>NaN</td>\n",
              "      <td>NaN</td>\n",
              "      <td>NaN</td>\n",
              "      <td>NaN</td>\n",
              "      <td>NaN</td>\n",
              "      <td>NaN</td>\n",
              "      <td>NaN</td>\n",
              "      <td>0.63</td>\n",
              "      <td>NaN</td>\n",
              "      <td>NaN</td>\n",
              "      <td>-2.33</td>\n",
              "      <td>NaN</td>\n",
              "      <td>NaN</td>\n",
              "      <td>NaN</td>\n",
              "      <td>NaN</td>\n",
              "      <td>NaN</td>\n",
              "      <td>0.53</td>\n",
              "      <td>NaN</td>\n",
              "      <td>NaN</td>\n",
              "      <td>NaN</td>\n",
              "      <td>NaN</td>\n",
              "      <td>NaN</td>\n",
              "      <td>NaN</td>\n",
              "    </tr>\n",
              "    <tr>\n",
              "      <th>4</th>\n",
              "      <td>8.50</td>\n",
              "      <td>4.61</td>\n",
              "      <td>-4.17</td>\n",
              "      <td>-5.39</td>\n",
              "      <td>1.36</td>\n",
              "      <td>1.60</td>\n",
              "      <td>NaN</td>\n",
              "      <td>4.61</td>\n",
              "      <td>-0.44</td>\n",
              "      <td>5.73</td>\n",
              "      <td>8.25</td>\n",
              "      <td>6.84</td>\n",
              "      <td>-3.93</td>\n",
              "      <td>7.23</td>\n",
              "      <td>-2.33</td>\n",
              "      <td>-9.66</td>\n",
              "      <td>2.72</td>\n",
              "      <td>-1.36</td>\n",
              "      <td>2.57</td>\n",
              "      <td>4.51</td>\n",
              "      <td>NaN</td>\n",
              "      <td>6.12</td>\n",
              "      <td>8.30</td>\n",
              "      <td>-1.26</td>\n",
              "      <td>7.77</td>\n",
              "      <td>1.89</td>\n",
              "      <td>-1.17</td>\n",
              "      <td>5.68</td>\n",
              "      <td>8.45</td>\n",
              "      <td>4.61</td>\n",
              "      <td>8.06</td>\n",
              "      <td>-9.47</td>\n",
              "      <td>7.28</td>\n",
              "      <td>5.68</td>\n",
              "      <td>2.48</td>\n",
              "      <td>3.20</td>\n",
              "      <td>-1.26</td>\n",
              "      <td>6.80</td>\n",
              "      <td>NaN</td>\n",
              "      <td>2.48</td>\n",
              "      <td>...</td>\n",
              "      <td>7.38</td>\n",
              "      <td>6.17</td>\n",
              "      <td>4.71</td>\n",
              "      <td>-2.28</td>\n",
              "      <td>7.38</td>\n",
              "      <td>4.56</td>\n",
              "      <td>7.14</td>\n",
              "      <td>4.22</td>\n",
              "      <td>3.01</td>\n",
              "      <td>3.83</td>\n",
              "      <td>NaN</td>\n",
              "      <td>NaN</td>\n",
              "      <td>NaN</td>\n",
              "      <td>NaN</td>\n",
              "      <td>NaN</td>\n",
              "      <td>NaN</td>\n",
              "      <td>4.13</td>\n",
              "      <td>NaN</td>\n",
              "      <td>NaN</td>\n",
              "      <td>NaN</td>\n",
              "      <td>5.24</td>\n",
              "      <td>5.92</td>\n",
              "      <td>0.87</td>\n",
              "      <td>7.28</td>\n",
              "      <td>3.93</td>\n",
              "      <td>NaN</td>\n",
              "      <td>6.31</td>\n",
              "      <td>4.71</td>\n",
              "      <td>2.82</td>\n",
              "      <td>2.96</td>\n",
              "      <td>5.19</td>\n",
              "      <td>5.58</td>\n",
              "      <td>4.27</td>\n",
              "      <td>5.19</td>\n",
              "      <td>5.73</td>\n",
              "      <td>1.55</td>\n",
              "      <td>3.11</td>\n",
              "      <td>6.55</td>\n",
              "      <td>NaN</td>\n",
              "      <td>1.60</td>\n",
              "    </tr>\n",
              "  </tbody>\n",
              "</table>\n",
              "<p>5 rows × 100 columns</p>\n",
              "</div>"
            ],
            "text/plain": [
              "     0     1     2     3     4     5   ...    94    95    96    97    98    99\n",
              "0 -7.82  8.79 -9.66 -8.16 -7.52 -8.50  ...   NaN   NaN   NaN   NaN   NaN   NaN\n",
              "1  4.08 -0.29  6.36   NaN -2.38   NaN  ... -0.19 -2.14  3.06  0.34 -4.32  1.07\n",
              "2   NaN   NaN   NaN   NaN  9.03  9.27  ...   NaN   NaN   NaN   NaN   NaN   NaN\n",
              "3   NaN  8.35   NaN   NaN   NaN  8.16  ...   NaN   NaN   NaN   NaN   NaN   NaN\n",
              "4  8.50  4.61 -4.17 -5.39  1.36  1.60  ...  5.73  1.55  3.11  6.55   NaN  1.60\n",
              "\n",
              "[5 rows x 100 columns]"
            ]
          },
          "metadata": {
            "tags": []
          },
          "execution_count": 16
        }
      ]
    },
    {
      "cell_type": "markdown",
      "metadata": {
        "id": "qkkLmzXhIQQE"
      },
      "source": [
        "**Training**"
      ]
    },
    {
      "cell_type": "code",
      "metadata": {
        "id": "wCY9zJr4ITfN"
      },
      "source": [
        "n_latent_factors = 2\n",
        "\n",
        "user_ratings = data.values\n",
        "# Initialise as random values\n",
        "latent_user_preferences = np.random.random((user_ratings.shape[0], n_latent_factors))\n",
        "latent_item_features = np.random.random((user_ratings.shape[1], n_latent_factors))"
      ],
      "execution_count": null,
      "outputs": []
    },
    {
      "cell_type": "code",
      "metadata": {
        "id": "oCkvyN7MITh8"
      },
      "source": [
        "def predict_rating(user_id, item_id):\n",
        "    \"\"\" Predict a rating given a user_id and an item_id.\n",
        "    \"\"\"\n",
        "    user_preference = latent_user_preferences[user_id]\n",
        "    item_preference = latent_item_features[item_id]\n",
        "    return user_preference.dot(item_preference)\n",
        "\n",
        "\n",
        "def train(user_id, item_id, rating, alpha=0.0001):\n",
        "    #print(item_id)\n",
        "    predicted_rating = predict_rating(user_id, item_id)\n",
        "    err =  predicted_rating - rating\n",
        "    #print(err)\n",
        "    user_pref_values = latent_user_preferences[user_id]\n",
        "    latent_user_preferences[user_id] -= alpha * err * latent_item_features[item_id]\n",
        "    latent_item_features[item_id] -= alpha * err * user_pref_values\n",
        "    return err\n",
        "    \n",
        "\n",
        "def sgd(iterations):\n",
        "    \"\"\" Iterate over all users and all items and train for \n",
        "        a certain number of iterations\n",
        "    \"\"\"\n",
        "    mse_history = []\n",
        "    for iteration in range(iterations):\n",
        "        error = []\n",
        "        for user_id in range(latent_user_preferences.shape[0]):\n",
        "            for item_id in range(latent_item_features.shape[0]):\n",
        "                rating = user_ratings[user_id, item_id]\n",
        "                if not np.isnan(rating):\n",
        "                    err = train(user_id, item_id, rating)\n",
        "                    error.append(err)\n",
        "        mse = (np.array(error) ** 2).mean()   \n",
        "        if (iteration % 2) == 0:\n",
        "            print('Iteration %d/%d:\\tMSE=%.6f' % (iteration, iterations, mse))\n",
        "            mse_history.append(mse)\n",
        "    return mse_history"
      ],
      "execution_count": null,
      "outputs": []
    },
    {
      "cell_type": "code",
      "metadata": {
        "colab": {
          "base_uri": "https://localhost:8080/"
        },
        "id": "21PNBvhoITk2",
        "outputId": "37473d5b-6b31-456b-e9f1-cc68b7bcc074"
      },
      "source": [
        "num_iter = 10\n",
        "hist = sgd(num_iter)  # Note how the MSE decreases with the number of iterations"
      ],
      "execution_count": null,
      "outputs": [
        {
          "output_type": "stream",
          "text": [
            "Iteration 0/10:\tMSE=26.116208\n",
            "Iteration 2/10:\tMSE=24.908351\n",
            "Iteration 4/10:\tMSE=24.437912\n",
            "Iteration 6/10:\tMSE=23.962835\n",
            "Iteration 8/10:\tMSE=23.485365\n"
          ],
          "name": "stdout"
        }
      ]
    },
    {
      "cell_type": "code",
      "metadata": {
        "colab": {
          "base_uri": "https://localhost:8080/",
          "height": 279
        },
        "id": "vsPNQU6cITnR",
        "outputId": "e8f763f3-5fa7-4135-a1fd-23864d9128f0"
      },
      "source": [
        "plt.figure()\n",
        "plt.plot(np.arange(0, num_iter, 2), hist)\n",
        "plt.xlabel(\"Iterations\")\n",
        "plt.ylabel(\"MSE\")\n",
        "plt.show()"
      ],
      "execution_count": null,
      "outputs": [
        {
          "output_type": "display_data",
          "data": {
            "image/png": "[encoded data removed]",
            "text/plain": [
              "<Figure size 432x288 with 1 Axes>"
            ]
          },
          "metadata": {
            "tags": [],
            "needs_background": "light"
          }
        }
      ]
    },
    {
      "cell_type": "markdown",
      "metadata": {
        "id": "ni9HUazdIb84"
      },
      "source": [
        "**Predicting**"
      ]
    },
    {
      "cell_type": "code",
      "metadata": {
        "colab": {
          "base_uri": "https://localhost:8080/"
        },
        "id": "WEKh0G8LITqJ",
        "outputId": "39b75a9b-ce3f-4650-83ca-2ed5fa6949f4"
      },
      "source": [
        "predictions = latent_user_preferences.dot(latent_item_features.T)\n",
        "predictions"
      ],
      "execution_count": null,
      "outputs": [
        {
          "output_type": "execute_result",
          "data": {
            "text/plain": [
              "array([[1.37119291, 0.88721572, 0.81629843, ..., 1.57100251, 0.73347136,\n",
              "        2.0417654 ],\n",
              "       [1.0201576 , 0.6610902 , 0.76048674, ..., 1.33035314, 0.48031865,\n",
              "        1.70999342],\n",
              "       [1.51382578, 0.9798433 , 0.95264006, ..., 1.78866034, 0.78781528,\n",
              "        2.31826292],\n",
              "       ...,\n",
              "       [0.94217773, 0.60992436, 0.6062222 , ..., 1.12727393, 0.48463793,\n",
              "        1.45944467],\n",
              "       [1.61397531, 1.04451065, 0.99200245, ..., 1.88203766, 0.85003408,\n",
              "        2.44213586],\n",
              "       [2.13601814, 1.38292214, 1.39839011, ..., 2.58098324, 1.08847371,\n",
              "        3.33865983]])"
            ]
          },
          "metadata": {
            "tags": []
          },
          "execution_count": 21
        }
      ]
    },
    {
      "cell_type": "markdown",
      "metadata": {
        "id": "FDp7FauZIgcM"
      },
      "source": [
        "**Predicting on Validation set**"
      ]
    },
    {
      "cell_type": "code",
      "metadata": {
        "id": "msZQssanIdgB"
      },
      "source": [
        "val_data=pd.read_csv('https://raw.githubusercontent.com/albanda/CE888/master/lab4-recommender/jester-data-1.csv', header=None)\n",
        "val_data.drop(columns=[0], inplace=True)\n",
        "val_data=pd.DataFrame(val_data.loc[:, 0:].replace(99.00, np.NaN))\n",
        "\n",
        "v_data=pd.DataFrame(new_arr)\n",
        "v_data=pd.DataFrame(v_data.loc[:, 0:].replace(99.00, np.NaN))\n",
        "\n",
        "v_user_ratings=v_data.values\n",
        "\n",
        "v_values = [zip(v_user_ratings[i], predictions[i]) for i in range(predictions.shape[0])]\n",
        "v_comparison_data = pd.DataFrame(v_values)\n",
        "v_comparison_data.columns = data.columns\n",
        "\n",
        "# v_comparison_data"
      ],
      "execution_count": null,
      "outputs": []
    },
    {
      "cell_type": "code",
      "metadata": {
        "colab": {
          "base_uri": "https://localhost:8080/"
        },
        "id": "msPh_xmMIdio",
        "outputId": "8b59ab89-9afe-4b1c-e428-2de20fa82a9a"
      },
      "source": [
        "val_user_ratings=val_data.values\n",
        "\n",
        "error = []\n",
        "\n",
        "for user_id in range(latent_user_preferences.shape[0]):\n",
        "    for item_id in range(latent_item_features.shape[0]):\n",
        "        rating = val_user_ratings[user_id, item_id]\n",
        "        \n",
        "        if not np.isnan(rating):\n",
        "             val_predicted_rating = predict_rating(user_id, item_id)\n",
        "             err =  val_predicted_rating - rating\n",
        "             \n",
        "            #  err = train(user_id, item_id, rating)\n",
        "             error.append(err)\n",
        "val_mse = (np.array(error) ** 2).mean()\n",
        "print('MSE on Validation Set :', val_mse)"
      ],
      "execution_count": null,
      "outputs": [
        {
          "output_type": "stream",
          "text": [
            "MSE on Validation Set : 23.11972335601653\n"
          ],
          "name": "stdout"
        }
      ]
    },
    {
      "cell_type": "markdown",
      "metadata": {
        "id": "FOYmUSLXInCY"
      },
      "source": [
        "**Predicting on Test Set**"
      ]
    },
    {
      "cell_type": "code",
      "metadata": {
        "colab": {
          "base_uri": "https://localhost:8080/",
          "height": 590
        },
        "id": "dw6jU1uDIdld",
        "outputId": "13fb2ba7-b375-4d78-9576-049212ece94f"
      },
      "source": [
        "test_user_ratings=test_data.values\n",
        "values = [zip(test_user_ratings[i], predictions[i]) for i in range(predictions.shape[0])]\n",
        "comparison_data = pd.DataFrame(values)\n",
        "comparison_data.columns = data.columns\n",
        "comparison_data"
      ],
      "execution_count": null,
      "outputs": [
        {
          "output_type": "execute_result",
          "data": {
            "text/html": [
              "<div>\n",
              "<style scoped>\n",
              "    .dataframe tbody tr th:only-of-type {\n",
              "        vertical-align: middle;\n",
              "    }\n",
              "\n",
              "    .dataframe tbody tr th {\n",
              "        vertical-align: top;\n",
              "    }\n",
              "\n",
              "    .dataframe thead th {\n",
              "        text-align: right;\n",
              "    }\n",
              "</style>\n",
              "<table border=\"1\" class=\"dataframe\">\n",
              "  <thead>\n",
              "    <tr style=\"text-align: right;\">\n",
              "      <th></th>\n",
              "      <th>1</th>\n",
              "      <th>2</th>\n",
              "      <th>3</th>\n",
              "      <th>4</th>\n",
              "      <th>5</th>\n",
              "      <th>6</th>\n",
              "      <th>7</th>\n",
              "      <th>8</th>\n",
              "      <th>9</th>\n",
              "      <th>10</th>\n",
              "      <th>11</th>\n",
              "      <th>12</th>\n",
              "      <th>13</th>\n",
              "      <th>14</th>\n",
              "      <th>15</th>\n",
              "      <th>16</th>\n",
              "      <th>17</th>\n",
              "      <th>18</th>\n",
              "      <th>19</th>\n",
              "      <th>20</th>\n",
              "      <th>21</th>\n",
              "      <th>22</th>\n",
              "      <th>23</th>\n",
              "      <th>24</th>\n",
              "      <th>25</th>\n",
              "      <th>26</th>\n",
              "      <th>27</th>\n",
              "      <th>28</th>\n",
              "      <th>29</th>\n",
              "      <th>30</th>\n",
              "      <th>31</th>\n",
              "      <th>32</th>\n",
              "      <th>33</th>\n",
              "      <th>34</th>\n",
              "      <th>35</th>\n",
              "      <th>36</th>\n",
              "      <th>37</th>\n",
              "      <th>38</th>\n",
              "      <th>39</th>\n",
              "      <th>40</th>\n",
              "      <th>...</th>\n",
              "      <th>61</th>\n",
              "      <th>62</th>\n",
              "      <th>63</th>\n",
              "      <th>64</th>\n",
              "      <th>65</th>\n",
              "      <th>66</th>\n",
              "      <th>67</th>\n",
              "      <th>68</th>\n",
              "      <th>69</th>\n",
              "      <th>70</th>\n",
              "      <th>71</th>\n",
              "      <th>72</th>\n",
              "      <th>73</th>\n",
              "      <th>74</th>\n",
              "      <th>75</th>\n",
              "      <th>76</th>\n",
              "      <th>77</th>\n",
              "      <th>78</th>\n",
              "      <th>79</th>\n",
              "      <th>80</th>\n",
              "      <th>81</th>\n",
              "      <th>82</th>\n",
              "      <th>83</th>\n",
              "      <th>84</th>\n",
              "      <th>85</th>\n",
              "      <th>86</th>\n",
              "      <th>87</th>\n",
              "      <th>88</th>\n",
              "      <th>89</th>\n",
              "      <th>90</th>\n",
              "      <th>91</th>\n",
              "      <th>92</th>\n",
              "      <th>93</th>\n",
              "      <th>94</th>\n",
              "      <th>95</th>\n",
              "      <th>96</th>\n",
              "      <th>97</th>\n",
              "      <th>98</th>\n",
              "      <th>99</th>\n",
              "      <th>100</th>\n",
              "    </tr>\n",
              "  </thead>\n",
              "  <tbody>\n",
              "    <tr>\n",
              "      <th>0</th>\n",
              "      <td>(-7.82, 1.371192906407282)</td>\n",
              "      <td>(8.79, 0.88721572491683)</td>\n",
              "      <td>(-9.66, 0.8162984300071945)</td>\n",
              "      <td>(-8.16, -0.5997324445638713)</td>\n",
              "      <td>(-7.52, 0.8657118124885171)</td>\n",
              "      <td>(-8.5, 2.248826460432192)</td>\n",
              "      <td>(-9.85, 0.12536587319293563)</td>\n",
              "      <td>(4.17, -0.36958231262859265)</td>\n",
              "      <td>(-8.98, 0.008727424087226937)</td>\n",
              "      <td>(-4.76, 1.510832596517051)</td>\n",
              "      <td>(-8.5, 2.453839842410009)</td>\n",
              "      <td>(-6.75, 2.242110311962255)</td>\n",
              "      <td>(-7.18, -1.419624714094703)</td>\n",
              "      <td>(8.45, 2.3143026939526763)</td>\n",
              "      <td>(-7.18, -1.4783888363983966)</td>\n",
              "      <td>(-7.52, -2.768112214053257)</td>\n",
              "      <td>(-7.43, -0.621740066251762)</td>\n",
              "      <td>(-9.81, -0.2634503256356638)</td>\n",
              "      <td>(-9.85, 0.7147185984464948)</td>\n",
              "      <td>(-9.85, -0.2606890151277029)</td>\n",
              "      <td>(-9.37, 2.7985285803240663)</td>\n",
              "      <td>(1.5, 1.615419439142313)</td>\n",
              "      <td>(-4.37, 0.7588278025464471)</td>\n",
              "      <td>(-9.81, -1.1256437506834718)</td>\n",
              "      <td>(-8.5, 1.0904687885994637)</td>\n",
              "      <td>(1.12, 2.1353368877049297)</td>\n",
              "      <td>(7.82, 3.665684955932497)</td>\n",
              "      <td>(2.86, 2.206010494830985)</td>\n",
              "      <td>(9.13, 3.5166682919893315)</td>\n",
              "      <td>(-7.43, 0.2693423559632399)</td>\n",
              "      <td>(2.14, 2.926729292467969)</td>\n",
              "      <td>(-4.08, 3.7041968804369128)</td>\n",
              "      <td>(-9.08, -0.6314437631227132)</td>\n",
              "      <td>(7.82, 1.6409964898443345)</td>\n",
              "      <td>(5.05, 3.54521396707734)</td>\n",
              "      <td>(4.95, 3.7146971092576107)</td>\n",
              "      <td>(-9.17, -0.8055781247521023)</td>\n",
              "      <td>(-8.4, 1.804647016228208)</td>\n",
              "      <td>(-8.4, 1.8456856663495353)</td>\n",
              "      <td>(-8.4, 1.6839374546086783)</td>\n",
              "      <td>...</td>\n",
              "      <td>(8.59, 3.161889430399631)</td>\n",
              "      <td>(3.59, 3.5588696621172904)</td>\n",
              "      <td>(-6.84, 1.0335286237706836)</td>\n",
              "      <td>(-9.03, -0.12981629035561587)</td>\n",
              "      <td>(2.82, 3.0149178084689647)</td>\n",
              "      <td>(-1.36, 3.131458744175178)</td>\n",
              "      <td>(-9.08, -0.17572391534407053)</td>\n",
              "      <td>(8.3, 3.206117428081213)</td>\n",
              "      <td>(5.68, 3.2616633434599627)</td>\n",
              "      <td>(-4.81, 1.2180110476628379)</td>\n",
              "      <td>(nan, 0.11511425869772847)</td>\n",
              "      <td>(nan, 3.301218242688117)</td>\n",
              "      <td>(nan, 1.8611787627269316)</td>\n",
              "      <td>(nan, -0.7210817463136705)</td>\n",
              "      <td>(nan, 0.3910467482288031)</td>\n",
              "      <td>(nan, 2.9552364450439605)</td>\n",
              "      <td>(nan, 1.4186242113436571)</td>\n",
              "      <td>(-9.42, 2.413162000104338)</td>\n",
              "      <td>(nan, 0.9471502263531456)</td>\n",
              "      <td>(nan, 1.8932397000561294)</td>\n",
              "      <td>(nan, 2.3863887591553854)</td>\n",
              "      <td>(-7.72, 1.52083390858026)</td>\n",
              "      <td>(nan, 2.5979306075955955)</td>\n",
              "      <td>(nan, 1.3241941604874767)</td>\n",
              "      <td>(nan, 1.5773611779901522)</td>\n",
              "      <td>(nan, 0.7609025179442039)</td>\n",
              "      <td>(nan, 2.320645591952802)</td>\n",
              "      <td>(nan, 2.637264507947941)</td>\n",
              "      <td>(nan, 3.9292261240696433)</td>\n",
              "      <td>(nan, 1.2195542471228955)</td>\n",
              "      <td>(2.82, 2.419312319975789)</td>\n",
              "      <td>(nan, 1.6977013804685919)</td>\n",
              "      <td>(nan, 3.04302226621304)</td>\n",
              "      <td>(nan, 1.5797033019279614)</td>\n",
              "      <td>(nan, 1.6443849522190928)</td>\n",
              "      <td>(nan, 1.9633332417870328)</td>\n",
              "      <td>(-5.63, 2.1570112300581457)</td>\n",
              "      <td>(nan, 1.5710025060259802)</td>\n",
              "      <td>(nan, 0.7334713619577152)</td>\n",
              "      <td>(nan, 2.041765400611075)</td>\n",
              "    </tr>\n",
              "    <tr>\n",
              "      <th>1</th>\n",
              "      <td>(4.08, 1.0201576015060807)</td>\n",
              "      <td>(-0.29, 0.6610901975916155)</td>\n",
              "      <td>(6.36, 0.7604867353001966)</td>\n",
              "      <td>(4.37, -0.7854202393130082)</td>\n",
              "      <td>(-2.38, 0.7717125579677488)</td>\n",
              "      <td>(-9.66, 1.8610569830801147)</td>\n",
              "      <td>(-0.73, -0.13984367738732958)</td>\n",
              "      <td>(-5.34, -0.31901847360799584)</td>\n",
              "      <td>(8.88, -0.08664021671808794)</td>\n",
              "      <td>(9.22, 1.5774496061573564)</td>\n",
              "      <td>(6.75, 1.8979375961707867)</td>\n",
              "      <td>(8.64, 1.853144084040641)</td>\n",
              "      <td>(4.42, -1.2014912373434374)</td>\n",
              "      <td>(7.43, 1.6773823696432961)</td>\n",
              "      <td>(4.56, -1.2817717185905162)</td>\n",
              "      <td>(-0.97, -2.344151437283684)</td>\n",
              "      <td>(4.66, -0.6071601441188842)</td>\n",
              "      <td>(-0.68, -0.33898992163403796)</td>\n",
              "      <td>(3.3, 0.4485565657245327)</td>\n",
              "      <td>(-1.21, -0.4621451578389759)</td>\n",
              "      <td>(0.87, 2.4153783202573402)</td>\n",
              "      <td>(8.64, 1.203443214669288)</td>\n",
              "      <td>(8.35, 0.5155820130957104)</td>\n",
              "      <td>(9.17, -0.9226033654425391)</td>\n",
              "      <td>(0.05, 0.9716086225238728)</td>\n",
              "      <td>(7.57, 1.630062308120268)</td>\n",
              "      <td>(4.71, 3.105349665704422)</td>\n",
              "      <td>(0.87, 1.763810295440631)</td>\n",
              "      <td>(-0.39, 2.84285222931721)</td>\n",
              "      <td>(6.99, 0.28049141924200943)</td>\n",
              "      <td>(6.5, 2.3304611576782355)</td>\n",
              "      <td>(-0.92, 2.986012569802375)</td>\n",
              "      <td>(7.14, -0.5452012881523051)</td>\n",
              "      <td>(9.03, 1.4203280095374893)</td>\n",
              "      <td>(-1.8, 2.9936156455171448)</td>\n",
              "      <td>(0.73, 3.127557668493743)</td>\n",
              "      <td>(7.09, -0.7176292287689491)</td>\n",
              "      <td>(3.4, 1.5568884661249314)</td>\n",
              "      <td>(-0.87, 1.5867525126736801)</td>\n",
              "      <td>(7.91, 1.48280358889597)</td>\n",
              "      <td>...</td>\n",
              "      <td>(-6.7, 2.5145400992521587)</td>\n",
              "      <td>(-3.35, 2.891907653953163)</td>\n",
              "      <td>(-9.03, 0.6803809659697805)</td>\n",
              "      <td>(4.47, -0.04529034880547203)</td>\n",
              "      <td>(4.08, 2.447202239017023)</td>\n",
              "      <td>(-3.83, 2.6252922632004054)</td>\n",
              "      <td>(8.74, -0.2941267964704807)</td>\n",
              "      <td>(1.12, 2.643844178579372)</td>\n",
              "      <td>(0.78, 2.649798003285714)</td>\n",
              "      <td>(7.52, 0.9619261552479342)</td>\n",
              "      <td>(-5.0, -0.24328958925399716)</td>\n",
              "      <td>(2.77, 2.7129335808017685)</td>\n",
              "      <td>(8.3, 1.4376603342620917)</td>\n",
              "      <td>(7.77, -0.6100110738513174)</td>\n",
              "      <td>(7.33, 0.4323994076175783)</td>\n",
              "      <td>(6.21, 2.480639456461398)</td>\n",
              "      <td>(7.72, 1.1528917675615828)</td>\n",
              "      <td>(8.98, 1.940291580680513)</td>\n",
              "      <td>(8.64, 0.7100383437028945)</td>\n",
              "      <td>(8.2, 1.6994097662280656)</td>\n",
              "      <td>(3.93, 2.048888885439057)</td>\n",
              "      <td>(4.85, 1.2572029648730079)</td>\n",
              "      <td>(4.85, 2.3257101742043944)</td>\n",
              "      <td>(6.07, 1.1880815054702762)</td>\n",
              "      <td>(8.98, 1.4158840234662304)</td>\n",
              "      <td>(4.51, 0.7193553702940018)</td>\n",
              "      <td>(-0.05, 2.1329522620596393)</td>\n",
              "      <td>(3.69, 2.0462888978408724)</td>\n",
              "      <td>(4.56, 3.2073918779288917)</td>\n",
              "      <td>(0.58, 1.1666436297528135)</td>\n",
              "      <td>(2.82, 2.179800771411859)</td>\n",
              "      <td>(-4.95, 1.6506134999678297)</td>\n",
              "      <td>(-0.29, 2.4767996659581826)</td>\n",
              "      <td>(7.86, 1.411236613808805)</td>\n",
              "      <td>(-0.19, 1.207438758303038)</td>\n",
              "      <td>(-2.14, 1.81431069908081)</td>\n",
              "      <td>(3.06, 1.8156295824947044)</td>\n",
              "      <td>(0.34, 1.3303531400002924)</td>\n",
              "      <td>(-4.32, 0.48031864736978425)</td>\n",
              "      <td>(1.07, 1.7099934170597606)</td>\n",
              "    </tr>\n",
              "    <tr>\n",
              "      <th>2</th>\n",
              "      <td>(nan, 1.5138257825640136)</td>\n",
              "      <td>(nan, 0.9798433041694268)</td>\n",
              "      <td>(nan, 0.9526400636919049)</td>\n",
              "      <td>(nan, -0.7760198733700587)</td>\n",
              "      <td>(9.03, 0.9986186762294103)</td>\n",
              "      <td>(9.27, 2.545859268232037)</td>\n",
              "      <td>(9.03, 0.060132489861808844)</td>\n",
              "      <td>(9.27, -0.4228181470106267)</td>\n",
              "      <td>(nan, -0.02163654790167603)</td>\n",
              "      <td>(nan, 1.8202314628396639)</td>\n",
              "      <td>(7.33, 2.733366746398474)</td>\n",
              "      <td>(7.57, 2.5374653359988013)</td>\n",
              "      <td>(9.37, -1.6160837947212188)</td>\n",
              "      <td>(6.17, 2.540116285145573)</td>\n",
              "      <td>(-6.36, -1.6932366708579278)</td>\n",
              "      <td>(-6.89, -3.151647705625727)</td>\n",
              "      <td>(-7.86, -0.7349637460169656)</td>\n",
              "      <td>(9.03, -0.3388653420849828)</td>\n",
              "      <td>(9.03, 0.7611316392001117)</td>\n",
              "      <td>(9.03, -0.3778590000344018)</td>\n",
              "      <td>(7.28, 3.2015457567320995)</td>\n",
              "      <td>(nan, 1.783988484089444)</td>\n",
              "      <td>(8.25, 0.8213154760705598)</td>\n",
              "      <td>(nan, -1.2713196982224517)</td>\n",
              "      <td>(nan, 1.2577277083822407)</td>\n",
              "      <td>(7.48, 2.3713535331817397)</td>\n",
              "      <td>(7.28, 4.173951773479042)</td>\n",
              "      <td>(7.28, 2.476632602816653)</td>\n",
              "      <td>(8.93, 3.9585207167537124)</td>\n",
              "      <td>(nan, 0.32425605078323083)</td>\n",
              "      <td>(6.17, 3.282542710137476)</td>\n",
              "      <td>(7.28, 4.166778581838381)</td>\n",
              "      <td>(nan, -0.7224485092140547)</td>\n",
              "      <td>(nan, 1.8786609711859203)</td>\n",
              "      <td>(8.98, 4.0335271505670764)</td>\n",
              "      <td>(7.33, 4.223275189346276)</td>\n",
              "      <td>(nan, -0.9290922433639643)</td>\n",
              "      <td>(6.17, 2.0643059507857275)</td>\n",
              "      <td>(9.08, 2.109389047108974)</td>\n",
              "      <td>(7.33, 1.9363191598872471)</td>\n",
              "      <td>...</td>\n",
              "      <td>(6.46, 3.5452272113443057)</td>\n",
              "      <td>(7.28, 4.011040992489499)</td>\n",
              "      <td>(nan, 1.1113021851078966)</td>\n",
              "      <td>(nan, -0.1260973554952382)</td>\n",
              "      <td>(7.04, 3.3970726556055855)</td>\n",
              "      <td>(7.28, 3.5564208536276447)</td>\n",
              "      <td>(nan, -0.24886491627185622)</td>\n",
              "      <td>(7.28, 3.6264240997749444)</td>\n",
              "      <td>(8.25, 3.675870963567221)</td>\n",
              "      <td>(nan, 1.3634240994900793)</td>\n",
              "      <td>(nan, 0.0166409863499094)</td>\n",
              "      <td>(nan, 3.7308583612447728)</td>\n",
              "      <td>(nan, 2.072562008299926)</td>\n",
              "      <td>(nan, -0.8207793945724833)</td>\n",
              "      <td>(nan, 0.4792236503234194)</td>\n",
              "      <td>(8.93, 3.35731977022863)</td>\n",
              "      <td>(nan, 1.5989106948322622)</td>\n",
              "      <td>(nan, 2.7128408288171886)</td>\n",
              "      <td>(nan, 1.0474753270688204)</td>\n",
              "      <td>(9.08, 2.1878374796881697)</td>\n",
              "      <td>(nan, 2.726435140420389)</td>\n",
              "      <td>(nan, 1.7212439961175685)</td>\n",
              "      <td>(nan, 3.0000852448684845)</td>\n",
              "      <td>(nan, 1.5300636819372837)</td>\n",
              "      <td>(nan, 1.8228110519581548)</td>\n",
              "      <td>(nan, 0.8915096124003162)</td>\n",
              "      <td>(nan, 2.6985031924424634)</td>\n",
              "      <td>(nan, 2.93986200341518)</td>\n",
              "      <td>(nan, 4.433333712487344)</td>\n",
              "      <td>(9.03, 1.433481221602961)</td>\n",
              "      <td>(nan, 2.798515557909647)</td>\n",
              "      <td>(nan, 2.004422695474651)</td>\n",
              "      <td>(nan, 3.431017747521102)</td>\n",
              "      <td>(9.08, 1.8232512293965868)</td>\n",
              "      <td>(nan, 1.810072635812395)</td>\n",
              "      <td>(nan, 2.2862926927737743)</td>\n",
              "      <td>(nan, 2.4521766735341326)</td>\n",
              "      <td>(nan, 1.7886603379219785)</td>\n",
              "      <td>(nan, 0.7878152823847133)</td>\n",
              "      <td>(nan, 2.3182629236449177)</td>\n",
              "    </tr>\n",
              "    <tr>\n",
              "      <th>3</th>\n",
              "      <td>(nan, 1.9676958312897739)</td>\n",
              "      <td>(8.35, 1.2737946352604799)</td>\n",
              "      <td>(nan, 1.2653129688223956)</td>\n",
              "      <td>(nan, -1.0686045758461968)</td>\n",
              "      <td>(1.8, 1.3205657619263074)</td>\n",
              "      <td>(8.16, 3.3423492457388764)</td>\n",
              "      <td>(-2.82, 0.03698334721448782)</td>\n",
              "      <td>(6.21, -0.5573674421590399)</td>\n",
              "      <td>(nan, -0.04457479109438852)</td>\n",
              "      <td>(1.84, 2.4460566132505406)</td>\n",
              "      <td>(7.33, 3.5656463213442513)</td>\n",
              "      <td>(6.6, 3.3309235624294957)</td>\n",
              "      <td>(6.31, -2.126278676531643)</td>\n",
              "      <td>(8.11, 3.293834896156855)</td>\n",
              "      <td>(-7.23, -2.2330213593770223)</td>\n",
              "      <td>(-6.65, -4.14685312195648)</td>\n",
              "      <td>(1.17, -0.9808587027128827)</td>\n",
              "      <td>(-6.6, -0.46571988131345826)</td>\n",
              "      <td>(-3.64, 0.974636873538376)</td>\n",
              "      <td>(-2.09, -0.5385217437266172)</td>\n",
              "      <td>(5.34, 4.220295756673745)</td>\n",
              "      <td>(nan, 2.319137382183079)</td>\n",
              "      <td>(nan, 1.0589074774756595)</td>\n",
              "      <td>(nan, -1.6675203773472935)</td>\n",
              "      <td>(nan, 1.663132365001307)</td>\n",
              "      <td>(2.91, 3.0896353038507494)</td>\n",
              "      <td>(3.93, 5.492161106406789)</td>\n",
              "      <td>(6.75, 3.240816330191748)</td>\n",
              "      <td>(6.6, 5.185356026899269)</td>\n",
              "      <td>(nan, 0.43562286716474163)</td>\n",
              "      <td>(6.65, 4.293728844721617)</td>\n",
              "      <td>(-6.12, 5.456696101898663)</td>\n",
              "      <td>(nan, -0.9523714018890344)</td>\n",
              "      <td>(7.57, 2.4771438363962277)</td>\n",
              "      <td>(6.21, 5.305730279810089)</td>\n",
              "      <td>(6.65, 5.553754172446255)</td>\n",
              "      <td>(nan, -1.2285435581992816)</td>\n",
              "      <td>(-8.3, 2.721063553508427)</td>\n",
              "      <td>(7.18, 2.7795452394229394)</td>\n",
              "      <td>(2.82, 2.5574813942458507)</td>\n",
              "      <td>...</td>\n",
              "      <td>(0.0, 4.636781749831765)</td>\n",
              "      <td>(-3.69, 5.25674187723041)</td>\n",
              "      <td>(nan, 1.4288461453684387)</td>\n",
              "      <td>(nan, -0.1548431127185742)</td>\n",
              "      <td>(7.82, 4.451628367803076)</td>\n",
              "      <td>(0.24, 4.674894106132536)</td>\n",
              "      <td>(nan, -0.3523401587333062)</td>\n",
              "      <td>(7.28, 4.759350866645251)</td>\n",
              "      <td>(-2.33, 4.817374555742154)</td>\n",
              "      <td>(nan, 1.7820463205424122)</td>\n",
              "      <td>(nan, -0.03647323615112502)</td>\n",
              "      <td>(nan, 4.894802156048396)</td>\n",
              "      <td>(nan, 2.7033048207264962)</td>\n",
              "      <td>(nan, -1.0798513892476675)</td>\n",
              "      <td>(nan, 0.64789120523907)</td>\n",
              "      <td>(nan, 4.413706660288688)</td>\n",
              "      <td>(nan, 2.095503583288376)</td>\n",
              "      <td>(nan, 3.5517937717187955)</td>\n",
              "      <td>(nan, 1.3624735424471335)</td>\n",
              "      <td>(nan, 2.8951642333389764)</td>\n",
              "      <td>(nan, 3.5921652570982396)</td>\n",
              "      <td>(nan, 2.2595077327650435)</td>\n",
              "      <td>(nan, 3.9689575354959614)</td>\n",
              "      <td>(nan, 2.024641096529305)</td>\n",
              "      <td>(0.63, 2.412127160965842)</td>\n",
              "      <td>(nan, 1.1858692201700904)</td>\n",
              "      <td>(nan, 3.579347941604385)</td>\n",
              "      <td>(-2.33, 3.8361516087007823)</td>\n",
              "      <td>(nan, 5.812700325391776)</td>\n",
              "      <td>(nan, 1.9090665924657535)</td>\n",
              "      <td>(nan, 3.7046542718184505)</td>\n",
              "      <td>(nan, 2.673836891133572)</td>\n",
              "      <td>(nan, 4.497285409710277)</td>\n",
              "      <td>(0.53, 2.411570581375464)</td>\n",
              "      <td>(nan, 2.34994111988068)</td>\n",
              "      <td>(nan, 3.034222551824076)</td>\n",
              "      <td>(nan, 3.2246210581565533)</td>\n",
              "      <td>(nan, 2.3534648226228496)</td>\n",
              "      <td>(nan, 1.012466734691356)</td>\n",
              "      <td>(nan, 3.0470436167044848)</td>\n",
              "    </tr>\n",
              "    <tr>\n",
              "      <th>4</th>\n",
              "      <td>(8.5, 1.2177718022345165)</td>\n",
              "      <td>(4.61, 0.7881335006664184)</td>\n",
              "      <td>(-4.17, 0.7534152137364547)</td>\n",
              "      <td>(-5.39, -0.5956415043719766)</td>\n",
              "      <td>(1.36, 0.7925561048133355)</td>\n",
              "      <td>(1.6, 2.0321199318706946)</td>\n",
              "      <td>(7.04, 0.06803663027260129)</td>\n",
              "      <td>(4.61, -0.336413047519545)</td>\n",
              "      <td>(-0.44, -0.009549037524899034)</td>\n",
              "      <td>(5.73, 1.4260087696357007)</td>\n",
              "      <td>(8.25, 2.1927124803203157)</td>\n",
              "      <td>(6.84, 2.0256135595692917)</td>\n",
              "      <td>(-3.93, -1.2877749288995373)</td>\n",
              "      <td>(7.23, 2.0471028563018066)</td>\n",
              "      <td>(-2.33, -1.3467552719277776)</td>\n",
              "      <td>(-9.66, -2.5112751319447257)</td>\n",
              "      <td>(2.72, -0.5790326088056768)</td>\n",
              "      <td>(-1.36, -0.2605332885161517)</td>\n",
              "      <td>(2.57, 0.6192968740202668)</td>\n",
              "      <td>(4.51, -0.28133921779354637)</td>\n",
              "      <td>(8.2, 2.547315430872171)</td>\n",
              "      <td>(6.12, 1.4349661456642337)</td>\n",
              "      <td>(8.3, 0.6648251468377298)</td>\n",
              "      <td>(-1.26, -1.0155106172435724)</td>\n",
              "      <td>(7.77, 0.9982354823642404)</td>\n",
              "      <td>(1.89, 1.904104495875987)</td>\n",
              "      <td>(-1.17, 3.325771013406498)</td>\n",
              "      <td>(5.68, 1.98194773483943)</td>\n",
              "      <td>(8.45, 3.1652616324907465)</td>\n",
              "      <td>(4.61, 0.2540854141735703)</td>\n",
              "      <td>(8.06, 2.627680797630529)</td>\n",
              "      <td>(-9.47, 3.3324841021806693)</td>\n",
              "      <td>(7.28, -0.5748003683085207)</td>\n",
              "      <td>(5.68, 1.494434033156945)</td>\n",
              "      <td>(2.48, 3.2146733659671267)</td>\n",
              "      <td>(3.2, 3.366651010110011)</td>\n",
              "      <td>(-1.26, -0.737414954203214)</td>\n",
              "      <td>(6.8, 1.6425241206709906)</td>\n",
              "      <td>(4.51, 1.6788468454905359)</td>\n",
              "      <td>(2.48, 1.5382410709248904)</td>\n",
              "      <td>...</td>\n",
              "      <td>(7.38, 2.838223515914994)</td>\n",
              "      <td>(6.17, 3.206021182972656)</td>\n",
              "      <td>(4.71, 0.9014385115094742)</td>\n",
              "      <td>(-2.28, -0.1057635666576602)</td>\n",
              "      <td>(7.38, 2.7154995472161816)</td>\n",
              "      <td>(4.56, 2.8359759453814735)</td>\n",
              "      <td>(7.14, -0.186412746802075)</td>\n",
              "      <td>(4.22, 2.8954094232540197)</td>\n",
              "      <td>(3.01, 2.938169870002249)</td>\n",
              "      <td>(3.83, 1.0920822677160256)</td>\n",
              "      <td>(nan, 0.041133264791257576)</td>\n",
              "      <td>(nan, 2.979560257583638)</td>\n",
              "      <td>(nan, 1.662770713654719)</td>\n",
              "      <td>(nan, -0.6540596060241624)</td>\n",
              "      <td>(nan, 0.3735705087105067)</td>\n",
              "      <td>(nan, 2.676954954326997)</td>\n",
              "      <td>(4.13, 1.277997059882241)</td>\n",
              "      <td>(nan, 2.1700751694775775)</td>\n",
              "      <td>(nan, 0.8421713947675626)</td>\n",
              "      <td>(nan, 1.7354347575193403)</td>\n",
              "      <td>(5.24, 2.1701700823018237)</td>\n",
              "      <td>(5.92, 1.3740215385652004)</td>\n",
              "      <td>(0.87, 2.3802285131503287)</td>\n",
              "      <td>(7.28, 1.2137195812801465)</td>\n",
              "      <td>(3.93, 1.4458877182618042)</td>\n",
              "      <td>(-0.63, 0.704232861948984)</td>\n",
              "      <td>(6.31, 2.1364837238516166)</td>\n",
              "      <td>(4.71, 2.3578216184202287)</td>\n",
              "      <td>(2.82, 3.542358270069788)</td>\n",
              "      <td>(2.96, 1.131266767399434)</td>\n",
              "      <td>(5.19, 2.2191773252043023)</td>\n",
              "      <td>(5.58, 1.5797342742217564)</td>\n",
              "      <td>(4.27, 2.742073252403916)</td>\n",
              "      <td>(5.19, 1.446780824598035)</td>\n",
              "      <td>(5.73, 1.457429895069897)</td>\n",
              "      <td>(1.55, 1.8093420696895355)</td>\n",
              "      <td>(3.11, 1.9548283219735305)</td>\n",
              "      <td>(6.55, 1.4252315145017804)</td>\n",
              "      <td>(1.8, 0.6392597352011411)</td>\n",
              "      <td>(1.6, 1.8487817846181627)</td>\n",
              "    </tr>\n",
              "    <tr>\n",
              "      <th>...</th>\n",
              "      <td>...</td>\n",
              "      <td>...</td>\n",
              "      <td>...</td>\n",
              "      <td>...</td>\n",
              "      <td>...</td>\n",
              "      <td>...</td>\n",
              "      <td>...</td>\n",
              "      <td>...</td>\n",
              "      <td>...</td>\n",
              "      <td>...</td>\n",
              "      <td>...</td>\n",
              "      <td>...</td>\n",
              "      <td>...</td>\n",
              "      <td>...</td>\n",
              "      <td>...</td>\n",
              "      <td>...</td>\n",
              "      <td>...</td>\n",
              "      <td>...</td>\n",
              "      <td>...</td>\n",
              "      <td>...</td>\n",
              "      <td>...</td>\n",
              "      <td>...</td>\n",
              "      <td>...</td>\n",
              "      <td>...</td>\n",
              "      <td>...</td>\n",
              "      <td>...</td>\n",
              "      <td>...</td>\n",
              "      <td>...</td>\n",
              "      <td>...</td>\n",
              "      <td>...</td>\n",
              "      <td>...</td>\n",
              "      <td>...</td>\n",
              "      <td>...</td>\n",
              "      <td>...</td>\n",
              "      <td>...</td>\n",
              "      <td>...</td>\n",
              "      <td>...</td>\n",
              "      <td>...</td>\n",
              "      <td>...</td>\n",
              "      <td>...</td>\n",
              "      <td>...</td>\n",
              "      <td>...</td>\n",
              "      <td>...</td>\n",
              "      <td>...</td>\n",
              "      <td>...</td>\n",
              "      <td>...</td>\n",
              "      <td>...</td>\n",
              "      <td>...</td>\n",
              "      <td>...</td>\n",
              "      <td>...</td>\n",
              "      <td>...</td>\n",
              "      <td>...</td>\n",
              "      <td>...</td>\n",
              "      <td>...</td>\n",
              "      <td>...</td>\n",
              "      <td>...</td>\n",
              "      <td>...</td>\n",
              "      <td>...</td>\n",
              "      <td>...</td>\n",
              "      <td>...</td>\n",
              "      <td>...</td>\n",
              "      <td>...</td>\n",
              "      <td>...</td>\n",
              "      <td>...</td>\n",
              "      <td>...</td>\n",
              "      <td>...</td>\n",
              "      <td>...</td>\n",
              "      <td>...</td>\n",
              "      <td>...</td>\n",
              "      <td>...</td>\n",
              "      <td>...</td>\n",
              "      <td>...</td>\n",
              "      <td>...</td>\n",
              "      <td>...</td>\n",
              "      <td>...</td>\n",
              "      <td>...</td>\n",
              "      <td>...</td>\n",
              "      <td>...</td>\n",
              "      <td>...</td>\n",
              "      <td>...</td>\n",
              "      <td>...</td>\n",
              "    </tr>\n",
              "    <tr>\n",
              "      <th>24978</th>\n",
              "      <td>(0.44, 1.9290154104595651)</td>\n",
              "      <td>(7.43, 1.2492090637182878)</td>\n",
              "      <td>(9.08, 1.3094678579299521)</td>\n",
              "      <td>(2.33, -1.2004771919155763)</td>\n",
              "      <td>(3.2, 1.3521254998101657)</td>\n",
              "      <td>(6.75, 3.361348628976355)</td>\n",
              "      <td>(-8.79, -0.06880229826694904)</td>\n",
              "      <td>(-0.53, -0.5662638739438485)</td>\n",
              "      <td>(-8.74, -0.08567124548099207)</td>\n",
              "      <td>(7.23, 2.6023083546296726)</td>\n",
              "      <td>(-0.53, 3.5281368196651908)</td>\n",
              "      <td>(5.63, 3.3488333259861927)</td>\n",
              "      <td>(-7.14, -2.1499639959786987)</td>\n",
              "      <td>(-4.08, 3.209056748135848)</td>\n",
              "      <td>(-3.5, -2.271085147073845)</td>\n",
              "      <td>(-8.2, -4.1936402316384225)</td>\n",
              "      <td>(-3.98, -1.0267400834780345)</td>\n",
              "      <td>(-9.22, -0.5210042767652403)</td>\n",
              "      <td>(-0.15, 0.9179867364845723)</td>\n",
              "      <td>(-6.46, -0.6488036256307121)</td>\n",
              "      <td>(5.63, 4.287540656301195)</td>\n",
              "      <td>(-0.92, 2.274261763718667)</td>\n",
              "      <td>(-2.91, 1.0160176293309906)</td>\n",
              "      <td>(-4.17, -1.673107672017103)</td>\n",
              "      <td>(2.82, 1.7026853424884814)</td>\n",
              "      <td>(3.4, 3.047552163161055)</td>\n",
              "      <td>(8.64, 5.554600163918526)</td>\n",
              "      <td>(6.84, 3.2323412443874915)</td>\n",
              "      <td>(6.8, 5.1854905680427255)</td>\n",
              "      <td>(-0.87, 0.463159620470154)</td>\n",
              "      <td>(7.38, 4.278274965063286)</td>\n",
              "      <td>(-3.5, 5.453137357367755)</td>\n",
              "      <td>(8.88, -0.9676359669429507)</td>\n",
              "      <td>(7.43, 2.5183303801887362)</td>\n",
              "      <td>(5.39, 5.361872251505574)</td>\n",
              "      <td>(2.23, 5.608557347045305)</td>\n",
              "      <td>(-0.68, -1.2577010187578312)</td>\n",
              "      <td>(3.4, 2.7641276977832745)</td>\n",
              "      <td>(-0.58, 2.821158531511423)</td>\n",
              "      <td>(4.42, 2.6108467465324297)</td>\n",
              "      <td>...</td>\n",
              "      <td>(8.59, 4.61869504529758)</td>\n",
              "      <td>(3.45, 5.263431079332984)</td>\n",
              "      <td>(0.87, 1.3608480967531777)</td>\n",
              "      <td>(9.27, -0.12868331354796392)</td>\n",
              "      <td>(-4.66, 4.456113213785527)</td>\n",
              "      <td>(5.73, 4.716174546487787)</td>\n",
              "      <td>(-0.49, -0.41904918485855874)</td>\n",
              "      <td>(8.35, 4.782299058736628)</td>\n",
              "      <td>(1.94, 4.823240956906047)</td>\n",
              "      <td>(5.0, 1.772133495042107)</td>\n",
              "      <td>(-9.66, -0.18399783562554367)</td>\n",
              "      <td>(8.98, 4.914337351473426)</td>\n",
              "      <td>(8.98, 2.6740302041733477)</td>\n",
              "      <td>(-9.81, -1.0917626211119622)</td>\n",
              "      <td>(9.13, 0.6989089050770849)</td>\n",
              "      <td>(9.08, 4.454017224093535)</td>\n",
              "      <td>(9.08, 2.0982268662024453)</td>\n",
              "      <td>(3.98, 3.5472835567583614)</td>\n",
              "      <td>(0.73, 1.3381084679136273)</td>\n",
              "      <td>(9.03, 2.969331558540185)</td>\n",
              "      <td>(8.98, 3.6447803085549246)</td>\n",
              "      <td>(9.22, 2.2717466578550725)</td>\n",
              "      <td>(8.93, 4.067992151490039)</td>\n",
              "      <td>(9.13, 2.076278599133431)</td>\n",
              "      <td>(9.27, 2.4739257597190893)</td>\n",
              "      <td>(-1.99, 1.2316231050009518)</td>\n",
              "      <td>(-9.95, 3.6921435683649997)</td>\n",
              "      <td>(-9.9, 3.798680692656582)</td>\n",
              "      <td>(9.13, 5.826461295543317)</td>\n",
              "      <td>(8.83, 1.9884000535633615)</td>\n",
              "      <td>(8.83, 3.803017316090124)</td>\n",
              "      <td>(-1.21, 2.7959273525575554)</td>\n",
              "      <td>(9.22, 4.504788150682682)</td>\n",
              "      <td>(-6.7, 2.4705003507115406)</td>\n",
              "      <td>(8.45, 2.296548590250887)</td>\n",
              "      <td>(9.03, 3.13393687185684)</td>\n",
              "      <td>(6.55, 3.2562472203488713)</td>\n",
              "      <td>(8.69, 2.380002172712877)</td>\n",
              "      <td>(8.79, 0.9630995082334498)</td>\n",
              "      <td>(7.43, 3.073194811636739)</td>\n",
              "    </tr>\n",
              "    <tr>\n",
              "      <th>24979</th>\n",
              "      <td>(9.13, 0.3233632565842941)</td>\n",
              "      <td>(-8.16, 0.20974586337894982)</td>\n",
              "      <td>(8.59, 0.27107262312366454)</td>\n",
              "      <td>(9.08, -0.31544012790601866)</td>\n",
              "      <td>(0.87, 0.2696259930044014)</td>\n",
              "      <td>(-8.93, 0.6267408664479192)</td>\n",
              "      <td>(-3.5, -0.09001363614428319)</td>\n",
              "      <td>(5.78, -0.10975398306016475)</td>\n",
              "      <td>(-8.11, -0.04571534654562802)</td>\n",
              "      <td>(4.9, 0.5888696798657845)</td>\n",
              "      <td>(8.88, 0.6157659031296298)</td>\n",
              "      <td>(-8.69, 0.6236611685743815)</td>\n",
              "      <td>(-7.48, -0.4093179170507517)</td>\n",
              "      <td>(-8.83, 0.5229763578059775)</td>\n",
              "      <td>(-1.75, -0.4419299885502302)</td>\n",
              "      <td>(6.6, -0.798830557433995)</td>\n",
              "      <td>(3.54, -0.22079123375720397)</td>\n",
              "      <td>(1.5, -0.13547368952248331)</td>\n",
              "      <td>(7.67, 0.12587698077576637)</td>\n",
              "      <td>(-0.44, -0.19904978410421673)</td>\n",
              "      <td>(9.22, 0.8309319226915246)</td>\n",
              "      <td>(8.74, 0.3817702099578389)</td>\n",
              "      <td>(9.03, 0.15382662204316755)</td>\n",
              "      <td>(9.08, -0.3091257530649691)</td>\n",
              "      <td>(8.93, 0.3393922825964828)</td>\n",
              "      <td>(3.74, 0.524798303978342)</td>\n",
              "      <td>(3.2, 1.0584174725573234)</td>\n",
              "      <td>(-9.17, 0.5831004295630514)</td>\n",
              "      <td>(-8.98, 0.9454955504058795)</td>\n",
              "      <td>(8.79, 0.10460729201658053)</td>\n",
              "      <td>(-7.67, 0.7686799324188429)</td>\n",
              "      <td>(-3.06, 0.9915870972900809)</td>\n",
              "      <td>(9.13, -0.18759403792066492)</td>\n",
              "      <td>(8.4, 0.4892935932977799)</td>\n",
              "      <td>(-0.63, 1.018668584967606)</td>\n",
              "      <td>(-7.18, 1.0626627433177966)</td>\n",
              "      <td>(0.58, -0.2506516581054694)</td>\n",
              "      <td>(8.88, 0.5354813566531221)</td>\n",
              "      <td>(9.27, 0.5448164794757171)</td>\n",
              "      <td>(8.5, 0.515079685232129)</td>\n",
              "      <td>...</td>\n",
              "      <td>(2.77, 0.8288158084253158)</td>\n",
              "      <td>(8.11, 0.9645055072993334)</td>\n",
              "      <td>(-7.96, 0.19830721382238928)</td>\n",
              "      <td>(8.93, -0.004303427658431447)</td>\n",
              "      <td>(-0.87, 0.8157043660178572)</td>\n",
              "      <td>(-5.87, 0.8900641420452566)</td>\n",
              "      <td>(8.88, -0.12525224970880924)</td>\n",
              "      <td>(-1.12, 0.8886944517941158)</td>\n",
              "      <td>(-8.74, 0.8836493184064697)</td>\n",
              "      <td>(8.74, 0.3158285419492153)</td>\n",
              "      <td>(nan, -0.1415822495437461)</td>\n",
              "      <td>(nan, 0.910267686680439)</td>\n",
              "      <td>(nan, 0.4660793903329435)</td>\n",
              "      <td>(nan, -0.2077685491366911)</td>\n",
              "      <td>(nan, 0.1647838950620797)</td>\n",
              "      <td>(4.9, 0.8415584433103853)</td>\n",
              "      <td>(nan, 0.38453431357700113)</td>\n",
              "      <td>(nan, 0.6434229885587983)</td>\n",
              "      <td>(nan, 0.22611510846706032)</td>\n",
              "      <td>(nan, 0.5956710280805857)</td>\n",
              "      <td>(-0.29, 0.7030326747873381)</td>\n",
              "      <td>(0.92, 0.4231382985851155)</td>\n",
              "      <td>(-0.78, 0.8141852833833578)</td>\n",
              "      <td>(0.15, 0.41635409491575365)</td>\n",
              "      <td>(-0.1, 0.4962927320537046)</td>\n",
              "      <td>(0.0, 0.25805128312273057)</td>\n",
              "      <td>(-0.19, 0.755739722834094)</td>\n",
              "      <td>(-0.87, 0.6651185915314224)</td>\n",
              "      <td>(-1.36, 1.0723336893317856)</td>\n",
              "      <td>(-0.58, 0.4206149963442785)</td>\n",
              "      <td>(-1.17, 0.765384364677319)</td>\n",
              "      <td>(-5.73, 0.5991521949675293)</td>\n",
              "      <td>(-1.46, 0.8267886693785731)</td>\n",
              "      <td>(0.24, 0.4935672990029285)</td>\n",
              "      <td>(9.22, 0.3795962708652638)</td>\n",
              "      <td>(-8.2, 0.6443899858082511)</td>\n",
              "      <td>(-7.23, 0.6168261712444527)</td>\n",
              "      <td>(-8.59, 0.45334614293569037)</td>\n",
              "      <td>(9.13, 0.13943523932813168)</td>\n",
              "      <td>(8.45, 0.5794433423501527)</td>\n",
              "    </tr>\n",
              "    <tr>\n",
              "      <th>24980</th>\n",
              "      <td>(nan, 0.9421777312441482)</td>\n",
              "      <td>(nan, 0.60992435993742)</td>\n",
              "      <td>(nan, 0.6062221978068233)</td>\n",
              "      <td>(nan, -0.5124727690533496)</td>\n",
              "      <td>(-7.77, 0.6326182364031236)</td>\n",
              "      <td>(nan, 1.600836704126788)</td>\n",
              "      <td>(6.7, 0.017158382438569618)</td>\n",
              "      <td>(-6.75, -0.26698421946288575)</td>\n",
              "      <td>(nan, -0.02156319859453235)</td>\n",
              "      <td>(nan, 1.1722977115202884)</td>\n",
              "      <td>(nan, 1.7074835486709092)</td>\n",
              "      <td>(nan, 1.5953589445511784)</td>\n",
              "      <td>(-6.46, -1.0184536926705228)</td>\n",
              "      <td>(-1.65, 1.5770585498834389)</td>\n",
              "      <td>(-6.8, -1.0696508014015622)</td>\n",
              "      <td>(-6.41, -1.9862798485299131)</td>\n",
              "      <td>(-6.99, -0.469998756197143)</td>\n",
              "      <td>(7.23, -0.22333472822446002)</td>\n",
              "      <td>(6.75, 0.46648210447522337)</td>\n",
              "      <td>(-6.99, -0.2584893851114563)</td>\n",
              "      <td>(6.55, 2.021560537168105)</td>\n",
              "      <td>(nan, 1.1104597122921347)</td>\n",
              "      <td>(nan, 0.5069135184633579)</td>\n",
              "      <td>(nan, -0.7986477542745836)</td>\n",
              "      <td>(nan, 0.7967240671111488)</td>\n",
              "      <td>(0.49, 1.4794856526711566)</td>\n",
              "      <td>(-0.53, 2.6306644796340746)</td>\n",
              "      <td>(-6.94, 1.552066116314305)</td>\n",
              "      <td>(-0.49, 2.4834013894684395)</td>\n",
              "      <td>(nan, 0.20877520494100918)</td>\n",
              "      <td>(6.46, 2.0562965235518016)</td>\n",
              "      <td>(-0.53, 2.6133338086808147)</td>\n",
              "      <td>(nan, -0.4561951430679218)</td>\n",
              "      <td>(nan, 1.1865837001914716)</td>\n",
              "      <td>(-7.86, 2.541344978719077)</td>\n",
              "      <td>(-0.34, 2.6601230052378866)</td>\n",
              "      <td>(nan, -0.5885338522347986)</td>\n",
              "      <td>(-6.94, 1.3034129723718624)</td>\n",
              "      <td>(nan, 1.331413762778805)</td>\n",
              "      <td>(nan, 1.2251231963434204)</td>\n",
              "      <td>...</td>\n",
              "      <td>(0.49, 2.220579618530058)</td>\n",
              "      <td>(-0.24, 2.5176242339431694)</td>\n",
              "      <td>(nan, 0.6839552168100658)</td>\n",
              "      <td>(nan, -0.07402138539833143)</td>\n",
              "      <td>(-3.11, 2.1320230755793257)</td>\n",
              "      <td>(-6.65, 2.239143456238766)</td>\n",
              "      <td>(nan, -0.1690940756590877)</td>\n",
              "      <td>(-0.58, 2.279495988166297)</td>\n",
              "      <td>(6.31, 2.307195588144102)</td>\n",
              "      <td>(nan, 0.853416022088848)</td>\n",
              "      <td>(nan, -0.018240415218823535)</td>\n",
              "      <td>(-7.86, 2.3443492322057446)</td>\n",
              "      <td>(nan, 1.29452909003157)</td>\n",
              "      <td>(nan, -0.5172310374493203)</td>\n",
              "      <td>(nan, 0.3105589312996659)</td>\n",
              "      <td>(nan, 2.1140489764521186)</td>\n",
              "      <td>(nan, 1.0036049494101948)</td>\n",
              "      <td>(nan, 1.7010219905273563)</td>\n",
              "      <td>(nan, 0.6523961293483577)</td>\n",
              "      <td>(nan, 1.3869571333868305)</td>\n",
              "      <td>(nan, 1.7206560448685497)</td>\n",
              "      <td>(nan, 1.08220058890321)</td>\n",
              "      <td>(nan, 1.901354634959723)</td>\n",
              "      <td>(nan, 0.9699231935451975)</td>\n",
              "      <td>(nan, 1.1555534633138942)</td>\n",
              "      <td>(nan, 0.5681829108144405)</td>\n",
              "      <td>(nan, 1.714832608876213)</td>\n",
              "      <td>(nan, 1.8370357067212595)</td>\n",
              "      <td>(nan, 2.7839240958750637)</td>\n",
              "      <td>(nan, 0.9147166005808698)</td>\n",
              "      <td>(nan, 1.774769471614362)</td>\n",
              "      <td>(nan, 1.2812086897770947)</td>\n",
              "      <td>(nan, 2.1539052117992323)</td>\n",
              "      <td>(nan, 1.1552718817437537)</td>\n",
              "      <td>(nan, 1.1251678216893073)</td>\n",
              "      <td>(nan, 1.4536895118110091)</td>\n",
              "      <td>(nan, 1.5445197540393911)</td>\n",
              "      <td>(nan, 1.1272739284187248)</td>\n",
              "      <td>(nan, 0.4846379337565916)</td>\n",
              "      <td>(nan, 1.4594446721505705)</td>\n",
              "    </tr>\n",
              "    <tr>\n",
              "      <th>24981</th>\n",
              "      <td>(nan, 1.6139753075382648)</td>\n",
              "      <td>(nan, 1.0445106457686195)</td>\n",
              "      <td>(nan, 0.9920024536512413)</td>\n",
              "      <td>(nan, -0.7749557890781508)</td>\n",
              "      <td>(-9.71, 1.044967839748926)</td>\n",
              "      <td>(nan, 2.685250840648988)</td>\n",
              "      <td>(4.56, 0.10012199805681375)</td>\n",
              "      <td>(-8.3, -0.44398525563908725)</td>\n",
              "      <td>(nan, -0.00868080795627278)</td>\n",
              "      <td>(nan, 1.87061083041491)</td>\n",
              "      <td>(nan, 2.9030283265706913)</td>\n",
              "      <td>(nan, 2.676752075713437)</td>\n",
              "      <td>(-9.47, -1.7005524617509746)</td>\n",
              "      <td>(nan, 2.7150270378480603)</td>\n",
              "      <td>(3.45, -1.7771616969515114)</td>\n",
              "      <td>(-0.92, -3.31617038994374)</td>\n",
              "      <td>(-4.51, -0.7612503170813835)</td>\n",
              "      <td>(-4.13, -0.33919537734542493)</td>\n",
              "      <td>(-5.73, 0.824336430516706)</td>\n",
              "      <td>(-9.51, -0.3614264742844543)</td>\n",
              "      <td>(2.82, 3.3618622628892214)</td>\n",
              "      <td>(nan, 1.9017665320070583)</td>\n",
              "      <td>(nan, 0.8832173289608328)</td>\n",
              "      <td>(nan, -1.3422746666437915)</td>\n",
              "      <td>(nan, 1.3161704981017064)</td>\n",
              "      <td>(-0.49, 2.521840718587793)</td>\n",
              "      <td>(2.91, 4.391676622494348)</td>\n",
              "      <td>(2.62, 2.6215460489174465)</td>\n",
              "      <td>(8.3, 4.185417041097126)</td>\n",
              "      <td>(nan, 0.33333354856279584)</td>\n",
              "      <td>(3.06, 3.476069868990072)</td>\n",
              "      <td>(5.44, 4.406890163427479)</td>\n",
              "      <td>(nan, -0.7585937093115065)</td>\n",
              "      <td>(nan, 1.9721376999046876)</td>\n",
              "      <td>(-0.68, 4.24537666329902)</td>\n",
              "      <td>(2.04, 4.446465463648948)</td>\n",
              "      <td>(nan, -0.9722852737967246)</td>\n",
              "      <td>(nan, 2.167777154468548)</td>\n",
              "      <td>(1.55, 2.215946049510522)</td>\n",
              "      <td>(nan, 2.0288944534784026)</td>\n",
              "      <td>...</td>\n",
              "      <td>(-8.83, 3.754723596950686)</td>\n",
              "      <td>(-0.78, 4.238684103417204)</td>\n",
              "      <td>(nan, 1.198502294876867)</td>\n",
              "      <td>(nan, -0.14236306168092988)</td>\n",
              "      <td>(4.51, 3.590278299129813)</td>\n",
              "      <td>(-2.48, 3.746051463215716)</td>\n",
              "      <td>(nan, -0.2400887376063948)</td>\n",
              "      <td>(1.26, 3.8264006161254605)</td>\n",
              "      <td>(5.78, 3.8845829329357606)</td>\n",
              "      <td>(nan, 1.4450137212743124)</td>\n",
              "      <td>(nan, 0.0685552274994481)</td>\n",
              "      <td>(nan, 3.93800108475354)</td>\n",
              "      <td>(nan, 2.2014948978024624)</td>\n",
              "      <td>(nan, -0.8637202841582876)</td>\n",
              "      <td>(-4.56, 0.48907432345141644)</td>\n",
              "      <td>(nan, 3.535870903754884)</td>\n",
              "      <td>(nan, 1.6896358527377782)</td>\n",
              "      <td>(nan, 2.869926534160545)</td>\n",
              "      <td>(nan, 1.1159438588682478)</td>\n",
              "      <td>(3.16, 2.2876466332610375)</td>\n",
              "      <td>(nan, 2.864567124656677)</td>\n",
              "      <td>(nan, 1.815695508043035)</td>\n",
              "      <td>(nan, 3.1378706873686792)</td>\n",
              "      <td>(nan, 1.5999451265057252)</td>\n",
              "      <td>(nan, 1.9059657612329617)</td>\n",
              "      <td>(nan, 0.9268150314965621)</td>\n",
              "      <td>(nan, 2.8142453349844088)</td>\n",
              "      <td>(nan, 3.121348669922959)</td>\n",
              "      <td>(nan, 4.682744112541663)</td>\n",
              "      <td>(nan, 1.4882584112254538)</td>\n",
              "      <td>(nan, 2.924976953773387)</td>\n",
              "      <td>(nan, 2.0771622972802564)</td>\n",
              "      <td>(nan, 3.625126982505816)</td>\n",
              "      <td>(nan, 1.9074221691955244)</td>\n",
              "      <td>(nan, 1.9322881355598343)</td>\n",
              "      <td>(nan, 2.3829214689657143)</td>\n",
              "      <td>(nan, 2.5818356680334933)</td>\n",
              "      <td>(nan, 1.882037661180383)</td>\n",
              "      <td>(nan, 0.8500340777147626)</td>\n",
              "      <td>(nan, 2.442135862736466)</td>\n",
              "    </tr>\n",
              "    <tr>\n",
              "      <th>24982</th>\n",
              "      <td>(2.43, 2.1360181367431528)</td>\n",
              "      <td>(2.67, 1.382922140143106)</td>\n",
              "      <td>(-3.98, 1.398390105115026)</td>\n",
              "      <td>(4.27, -1.2150271378451218)</td>\n",
              "      <td>(-2.28, 1.454228044490479)</td>\n",
              "      <td>(7.33, 3.6587421304192635)</td>\n",
              "      <td>(2.33, 0.002343311476005491)</td>\n",
              "      <td>(4.56, -0.6121900325477597)</td>\n",
              "      <td>(6.75, -0.0634910585782374)</td>\n",
              "      <td>(4.61, 2.7288262277846975)</td>\n",
              "      <td>(-3.16, 3.882386338080187)</td>\n",
              "      <td>(7.38, 3.645866159304448)</td>\n",
              "      <td>(-8.2, -2.3317296793210853)</td>\n",
              "      <td>(9.08, 3.568391847033318)</td>\n",
              "      <td>(-8.83, -2.453532347454509)</td>\n",
              "      <td>(-7.77, -4.547755211514455)</td>\n",
              "      <td>(5.49, -1.0882119681775215)</td>\n",
              "      <td>(1.36, -0.5287463856919378)</td>\n",
              "      <td>(-9.32, 1.0445195432540817)</td>\n",
              "      <td>(7.04, -0.628080872023576)</td>\n",
              "      <td>(7.28, 4.6353612501324255)</td>\n",
              "      <td>(3.2, 2.517779684149774)</td>\n",
              "      <td>(-0.05, 1.141546407992099)</td>\n",
              "      <td>(-1.26, -1.8239705622822453)</td>\n",
              "      <td>(6.94, 1.831398164393018)</td>\n",
              "      <td>(5.49, 3.3606431558840364)</td>\n",
              "      <td>(1.21, 6.0232928455630885)</td>\n",
              "      <td>(5.0, 3.53791934960975)</td>\n",
              "      <td>(7.38, 5.665653293829746)</td>\n",
              "      <td>(2.33, 0.4858773431431781)</td>\n",
              "      <td>(3.35, 4.6858375904791405)</td>\n",
              "      <td>(6.17, 5.960794931012529)</td>\n",
              "      <td>(-4.81, -1.0460692978217956)</td>\n",
              "      <td>(3.79, 2.7213882368459883)</td>\n",
              "      <td>(6.26, 5.817329565282497)</td>\n",
              "      <td>(8.54, 6.087842785567696)</td>\n",
              "      <td>(5.29, -1.3528186565824971)</td>\n",
              "      <td>(1.12, 2.9885745377990762)</td>\n",
              "      <td>(0.83, 3.0519505188793654)</td>\n",
              "      <td>(0.19, 2.8135487202133014)</td>\n",
              "      <td>...</td>\n",
              "      <td>(6.17, 5.059715429931605)</td>\n",
              "      <td>(-0.29, 5.74600923407097)</td>\n",
              "      <td>(0.83, 1.5367126619178595)</td>\n",
              "      <td>(4.22, -0.15977092790650826)</td>\n",
              "      <td>(4.27, 4.865535830798141)</td>\n",
              "      <td>(7.38, 5.122719946800142)</td>\n",
              "      <td>(6.21, -0.408976818217672)</td>\n",
              "      <td>(7.48, 5.208402214997266)</td>\n",
              "      <td>(5.15, 5.265653234031955)</td>\n",
              "      <td>(3.2, 1.9435260084303625)</td>\n",
              "      <td>(6.26, -0.09293565951248346)</td>\n",
              "      <td>(nan, 5.35517039807136)</td>\n",
              "      <td>(nan, 2.943141091403259)</td>\n",
              "      <td>(nan, -1.1841493747514968)</td>\n",
              "      <td>(nan, 0.7262544531844246)</td>\n",
              "      <td>(nan, 4.836993272921745)</td>\n",
              "      <td>(nan, 2.290561449806068)</td>\n",
              "      <td>(nan, 3.8791250893992264)</td>\n",
              "      <td>(nan, 1.4798935082212457)</td>\n",
              "      <td>(nan, 3.189991780671801)</td>\n",
              "      <td>(nan, 3.943791263008023)</td>\n",
              "      <td>(nan, 2.473179122367428)</td>\n",
              "      <td>(nan, 4.372184024130436)</td>\n",
              "      <td>(nan, 2.2307369486156112)</td>\n",
              "      <td>(nan, 2.657766876400121)</td>\n",
              "      <td>(nan, 1.3121639382496897)</td>\n",
              "      <td>(7.23, 3.951441886863563)</td>\n",
              "      <td>(nan, 4.177958727757624)</td>\n",
              "      <td>(nan, 6.3560032001917754)</td>\n",
              "      <td>(nan, 2.114424308116503)</td>\n",
              "      <td>(nan, 4.083160296975894)</td>\n",
              "      <td>(nan, 2.9654102894686565)</td>\n",
              "      <td>(nan, 4.916507404210595)</td>\n",
              "      <td>(nan, 2.6561264453270157)</td>\n",
              "      <td>(nan, 2.5483716758280544)</td>\n",
              "      <td>(nan, 3.351121859787084)</td>\n",
              "      <td>(nan, 3.5346539330309326)</td>\n",
              "      <td>(nan, 2.580983239994127)</td>\n",
              "      <td>(nan, 1.0884737095612629)</td>\n",
              "      <td>(nan, 3.3386598327124513)</td>\n",
              "    </tr>\n",
              "  </tbody>\n",
              "</table>\n",
              "<p>24983 rows × 100 columns</p>\n",
              "</div>"
            ],
            "text/plain": [
              "                              1    ...                         100\n",
              "0      (-7.82, 1.371192906407282)  ...    (nan, 2.041765400611075)\n",
              "1      (4.08, 1.0201576015060807)  ...  (1.07, 1.7099934170597606)\n",
              "2       (nan, 1.5138257825640136)  ...   (nan, 2.3182629236449177)\n",
              "3       (nan, 1.9676958312897739)  ...   (nan, 3.0470436167044848)\n",
              "4       (8.5, 1.2177718022345165)  ...   (1.6, 1.8487817846181627)\n",
              "...                           ...  ...                         ...\n",
              "24978  (0.44, 1.9290154104595651)  ...   (7.43, 3.073194811636739)\n",
              "24979  (9.13, 0.3233632565842941)  ...  (8.45, 0.5794433423501527)\n",
              "24980   (nan, 0.9421777312441482)  ...   (nan, 1.4594446721505705)\n",
              "24981   (nan, 1.6139753075382648)  ...    (nan, 2.442135862736466)\n",
              "24982  (2.43, 2.1360181367431528)  ...   (nan, 3.3386598327124513)\n",
              "\n",
              "[24983 rows x 100 columns]"
            ]
          },
          "metadata": {
            "tags": []
          },
          "execution_count": 24
        }
      ]
    },
    {
      "cell_type": "code",
      "metadata": {
        "id": "-zUMbJjwIdoG"
      },
      "source": [
        "# while 1: pass"
      ],
      "execution_count": null,
      "outputs": []
    },
    {
      "cell_type": "markdown",
      "metadata": {
        "id": "f9bvcG-FIvKx"
      },
      "source": [
        "# For Quiz"
      ]
    },
    {
      "cell_type": "code",
      "metadata": {
        "id": "cjdLhcFpIdq9"
      },
      "source": [
        "quiz_users = pd.read_excel(\"https://raw.githubusercontent.com/albanda/CE888/master/lab4-recommender/movies_latent_factors.xlsx\",sheet_name='Users')\n",
        "quiz_items = pd.read_excel(\"https://raw.githubusercontent.com/albanda/CE888/master/lab4-recommender/movies_latent_factors.xlsx\",sheet_name='Items')"
      ],
      "execution_count": null,
      "outputs": []
    },
    {
      "cell_type": "code",
      "metadata": {
        "id": "_eiiYIILIdtu"
      },
      "source": [
        "#quiz_movies"
      ],
      "execution_count": null,
      "outputs": []
    },
    {
      "cell_type": "code",
      "metadata": {
        "colab": {
          "base_uri": "https://localhost:8080/"
        },
        "id": "Wrxk7wWOITsq",
        "outputId": "a3fcafa7-b14b-4418-88bc-c55f9f3d2245"
      },
      "source": [
        "test_data.loc[6894 , 33]"
      ],
      "execution_count": null,
      "outputs": [
        {
          "output_type": "execute_result",
          "data": {
            "text/plain": [
              "-2.86"
            ]
          },
          "metadata": {
            "tags": []
          },
          "execution_count": 58
        }
      ]
    },
    {
      "cell_type": "code",
      "metadata": {
        "colab": {
          "base_uri": "https://localhost:8080/"
        },
        "id": "7vQQO2HII4_e",
        "outputId": "345b9480-75a9-44d5-e462-68c9b03efe41"
      },
      "source": [
        "comparison_data.loc[8243, 61]"
      ],
      "execution_count": null,
      "outputs": [
        {
          "output_type": "execute_result",
          "data": {
            "text/plain": [
              "(-1.02, 3.535427199491697)"
            ]
          },
          "metadata": {
            "tags": []
          },
          "execution_count": 29
        }
      ]
    },
    {
      "cell_type": "code",
      "metadata": {
        "colab": {
          "base_uri": "https://localhost:8080/"
        },
        "id": "Sc4NIH2rI5CI",
        "outputId": "8f1fcc57-cf8e-4b03-a378-2e06e152691b"
      },
      "source": [
        "comparison_data.loc[23437, 58]"
      ],
      "execution_count": null,
      "outputs": [
        {
          "output_type": "execute_result",
          "data": {
            "text/plain": [
              "(nan, -1.961655721221407)"
            ]
          },
          "metadata": {
            "tags": []
          },
          "execution_count": 30
        }
      ]
    },
    {
      "cell_type": "code",
      "metadata": {
        "colab": {
          "base_uri": "https://localhost:8080/"
        },
        "id": "SPIWUyOwI5E6",
        "outputId": "c1ca72b5-6fc0-493a-824b-86ccb27ca36b"
      },
      "source": [
        "quiz_users.loc[quiz_users['User']==4327, 'Factor14']"
      ],
      "execution_count": null,
      "outputs": [
        {
          "output_type": "execute_result",
          "data": {
            "text/plain": [
              "21   -0.09349\n",
              "Name: Factor14, dtype: float64"
            ]
          },
          "metadata": {
            "tags": []
          },
          "execution_count": 31
        }
      ]
    },
    {
      "cell_type": "code",
      "metadata": {
        "colab": {
          "base_uri": "https://localhost:8080/"
        },
        "id": "XOYCw3u-I5Hc",
        "outputId": "a0b16d4a-142c-4f69-d392-f57dfca85a43"
      },
      "source": [
        "round(-0.09349, 3)"
      ],
      "execution_count": null,
      "outputs": [
        {
          "output_type": "execute_result",
          "data": {
            "text/plain": [
              "-0.093"
            ]
          },
          "metadata": {
            "tags": []
          },
          "execution_count": 32
        }
      ]
    },
    {
      "cell_type": "code",
      "metadata": {
        "colab": {
          "base_uri": "https://localhost:8080/"
        },
        "id": "_0DLe4m4I5MW",
        "outputId": "f6bea915-0835-4930-cbd1-08b7161efcc3"
      },
      "source": [
        "quiz_items.loc[quiz_items['Movie ID']==141, 'Factor3']"
      ],
      "execution_count": null,
      "outputs": [
        {
          "output_type": "execute_result",
          "data": {
            "text/plain": [
              "18    0.631437\n",
              "Name: Factor3, dtype: float64"
            ]
          },
          "metadata": {
            "tags": []
          },
          "execution_count": 61
        }
      ]
    },
    {
      "cell_type": "code",
      "metadata": {
        "colab": {
          "base_uri": "https://localhost:8080/",
          "height": 77
        },
        "id": "mGEceFXbI5Pl",
        "outputId": "857d2a5e-e1c8-40c6-cc96-8461fcd92fdc"
      },
      "source": [
        "(quiz_items.loc[quiz_items['Factor5']==np.max(quiz_items['Factor5']), ['Movie ID', 'Factor5']])"
      ],
      "execution_count": null,
      "outputs": [
        {
          "output_type": "execute_result",
          "data": {
            "text/html": [
              "<div>\n",
              "<style scoped>\n",
              "    .dataframe tbody tr th:only-of-type {\n",
              "        vertical-align: middle;\n",
              "    }\n",
              "\n",
              "    .dataframe tbody tr th {\n",
              "        vertical-align: top;\n",
              "    }\n",
              "\n",
              "    .dataframe thead th {\n",
              "        text-align: right;\n",
              "    }\n",
              "</style>\n",
              "<table border=\"1\" class=\"dataframe\">\n",
              "  <thead>\n",
              "    <tr style=\"text-align: right;\">\n",
              "      <th></th>\n",
              "      <th>Movie ID</th>\n",
              "      <th>Factor5</th>\n",
              "    </tr>\n",
              "  </thead>\n",
              "  <tbody>\n",
              "    <tr>\n",
              "      <th>15</th>\n",
              "      <td>121</td>\n",
              "      <td>2.750878</td>\n",
              "    </tr>\n",
              "  </tbody>\n",
              "</table>\n",
              "</div>"
            ],
            "text/plain": [
              "    Movie ID   Factor5\n",
              "15       121  2.750878"
            ]
          },
          "metadata": {
            "tags": []
          },
          "execution_count": 34
        }
      ]
    },
    {
      "cell_type": "code",
      "metadata": {
        "colab": {
          "base_uri": "https://localhost:8080/",
          "height": 246
        },
        "id": "w0zZctKjI5Rs",
        "outputId": "0724483d-2a5c-440f-b5db-3ef47991ebfc"
      },
      "source": [
        "quiz_items.head()"
      ],
      "execution_count": null,
      "outputs": [
        {
          "output_type": "execute_result",
          "data": {
            "text/html": [
              "<div>\n",
              "<style scoped>\n",
              "    .dataframe tbody tr th:only-of-type {\n",
              "        vertical-align: middle;\n",
              "    }\n",
              "\n",
              "    .dataframe tbody tr th {\n",
              "        vertical-align: top;\n",
              "    }\n",
              "\n",
              "    .dataframe thead th {\n",
              "        text-align: right;\n",
              "    }\n",
              "</style>\n",
              "<table border=\"1\" class=\"dataframe\">\n",
              "  <thead>\n",
              "    <tr style=\"text-align: right;\">\n",
              "      <th></th>\n",
              "      <th>Movie ID</th>\n",
              "      <th>Title</th>\n",
              "      <th>Factor1</th>\n",
              "      <th>Factor2</th>\n",
              "      <th>Factor3</th>\n",
              "      <th>Factor4</th>\n",
              "      <th>Factor5</th>\n",
              "      <th>Factor6</th>\n",
              "      <th>Factor7</th>\n",
              "      <th>Factor8</th>\n",
              "      <th>Factor9</th>\n",
              "      <th>Factor10</th>\n",
              "      <th>Factor11</th>\n",
              "      <th>Factor12</th>\n",
              "      <th>Factor13</th>\n",
              "      <th>Factor14</th>\n",
              "      <th>Factor15</th>\n",
              "    </tr>\n",
              "  </thead>\n",
              "  <tbody>\n",
              "    <tr>\n",
              "      <th>0</th>\n",
              "      <td>11</td>\n",
              "      <td>Star Wars: Episode IV - A New Hope (1977)</td>\n",
              "      <td>-1.521848</td>\n",
              "      <td>-1.038507</td>\n",
              "      <td>2.027269</td>\n",
              "      <td>0.247933</td>\n",
              "      <td>-0.594548</td>\n",
              "      <td>2.513260</td>\n",
              "      <td>-1.848910</td>\n",
              "      <td>0.476710</td>\n",
              "      <td>-0.224146</td>\n",
              "      <td>-0.760681</td>\n",
              "      <td>-0.973915</td>\n",
              "      <td>0.862379</td>\n",
              "      <td>0.403861</td>\n",
              "      <td>1.129616</td>\n",
              "      <td>-0.248806</td>\n",
              "    </tr>\n",
              "    <tr>\n",
              "      <th>1</th>\n",
              "      <td>12</td>\n",
              "      <td>Finding Nemo (2003)</td>\n",
              "      <td>-0.342185</td>\n",
              "      <td>-0.296586</td>\n",
              "      <td>-0.385962</td>\n",
              "      <td>2.443297</td>\n",
              "      <td>-1.097015</td>\n",
              "      <td>-0.619465</td>\n",
              "      <td>0.572887</td>\n",
              "      <td>0.329516</td>\n",
              "      <td>-0.712228</td>\n",
              "      <td>0.323554</td>\n",
              "      <td>-0.561948</td>\n",
              "      <td>-0.142405</td>\n",
              "      <td>-0.564415</td>\n",
              "      <td>0.506876</td>\n",
              "      <td>1.274993</td>\n",
              "    </tr>\n",
              "    <tr>\n",
              "      <th>2</th>\n",
              "      <td>13</td>\n",
              "      <td>Forrest Gump (1994)</td>\n",
              "      <td>-2.240888</td>\n",
              "      <td>-0.438815</td>\n",
              "      <td>-2.275177</td>\n",
              "      <td>0.614548</td>\n",
              "      <td>0.904469</td>\n",
              "      <td>0.711919</td>\n",
              "      <td>-0.420876</td>\n",
              "      <td>1.302036</td>\n",
              "      <td>-0.868418</td>\n",
              "      <td>-0.160122</td>\n",
              "      <td>0.633667</td>\n",
              "      <td>0.133138</td>\n",
              "      <td>-0.330276</td>\n",
              "      <td>-2.209004</td>\n",
              "      <td>-0.419092</td>\n",
              "    </tr>\n",
              "    <tr>\n",
              "      <th>3</th>\n",
              "      <td>14</td>\n",
              "      <td>American Beauty (1999)</td>\n",
              "      <td>-0.634531</td>\n",
              "      <td>2.186059</td>\n",
              "      <td>-0.066681</td>\n",
              "      <td>0.086197</td>\n",
              "      <td>0.517558</td>\n",
              "      <td>-0.185319</td>\n",
              "      <td>-0.412352</td>\n",
              "      <td>0.063841</td>\n",
              "      <td>0.075937</td>\n",
              "      <td>-0.577682</td>\n",
              "      <td>0.526803</td>\n",
              "      <td>-1.465557</td>\n",
              "      <td>-0.819682</td>\n",
              "      <td>0.549010</td>\n",
              "      <td>-0.681191</td>\n",
              "    </tr>\n",
              "    <tr>\n",
              "      <th>4</th>\n",
              "      <td>22</td>\n",
              "      <td>Pirates of the Caribbean: The Curse of the Bla...</td>\n",
              "      <td>0.517348</td>\n",
              "      <td>-1.456763</td>\n",
              "      <td>0.369161</td>\n",
              "      <td>0.073903</td>\n",
              "      <td>-0.098332</td>\n",
              "      <td>-0.594722</td>\n",
              "      <td>0.828888</td>\n",
              "      <td>0.033626</td>\n",
              "      <td>-0.707414</td>\n",
              "      <td>0.717877</td>\n",
              "      <td>1.394326</td>\n",
              "      <td>-0.786986</td>\n",
              "      <td>1.429191</td>\n",
              "      <td>0.855746</td>\n",
              "      <td>-2.292566</td>\n",
              "    </tr>\n",
              "  </tbody>\n",
              "</table>\n",
              "</div>"
            ],
            "text/plain": [
              "   Movie ID  ...  Factor15\n",
              "0        11  ... -0.248806\n",
              "1        12  ...  1.274993\n",
              "2        13  ... -0.419092\n",
              "3        14  ... -0.681191\n",
              "4        22  ... -2.292566\n",
              "\n",
              "[5 rows x 17 columns]"
            ]
          },
          "metadata": {
            "tags": []
          },
          "execution_count": 35
        }
      ]
    },
    {
      "cell_type": "code",
      "metadata": {
        "colab": {
          "base_uri": "https://localhost:8080/"
        },
        "id": "7gHCvidwI5UZ",
        "outputId": "6b02e81e-d635-4452-99ed-5a9b5ef83416"
      },
      "source": [
        "np.argmin(quiz_items.loc[:, 'Factor4'].values)"
      ],
      "execution_count": null,
      "outputs": [
        {
          "output_type": "execute_result",
          "data": {
            "text/plain": [
              "51"
            ]
          },
          "metadata": {
            "tags": []
          },
          "execution_count": 62
        }
      ]
    },
    {
      "cell_type": "code",
      "metadata": {
        "colab": {
          "base_uri": "https://localhost:8080/"
        },
        "id": "eGZytNs4I5XD",
        "outputId": "6dbf6747-b4c3-4004-9152-4940d6c08fb4"
      },
      "source": [
        "quiz_items.loc[51, ['Title', 'Factor4']]"
      ],
      "execution_count": null,
      "outputs": [
        {
          "output_type": "execute_result",
          "data": {
            "text/plain": [
              "Title      The Matrix Reloaded (2003)\n",
              "Factor4                      -2.25595\n",
              "Name: 51, dtype: object"
            ]
          },
          "metadata": {
            "tags": []
          },
          "execution_count": 63
        }
      ]
    },
    {
      "cell_type": "code",
      "metadata": {
        "id": "QEJfnmClI5aB"
      },
      "source": [
        "a=quiz_items.loc[quiz_items['Movie ID']==604]"
      ],
      "execution_count": null,
      "outputs": []
    },
    {
      "cell_type": "code",
      "metadata": {
        "id": "rXgzncgEJJ7f"
      },
      "source": [
        "a=a.values.squeeze()"
      ],
      "execution_count": null,
      "outputs": []
    },
    {
      "cell_type": "code",
      "metadata": {
        "colab": {
          "base_uri": "https://localhost:8080/"
        },
        "id": "0yrM-HbUJJ-M",
        "outputId": "8934d0bf-a001-4898-cfd9-6d8b909d43e6"
      },
      "source": [
        "a=a[2:]\n",
        "a"
      ],
      "execution_count": null,
      "outputs": [
        {
          "output_type": "execute_result",
          "data": {
            "text/plain": [
              "array([0.5034136375632308, -2.0044497136888157, 0.0010836504269544941,\n",
              "       -2.255945306069563, 0.882547301517155, -0.1885996561673766,\n",
              "       -0.23543435807103433, 0.5700275737617247, -3.492896705973438,\n",
              "       -0.3122139148478878, 0.9027423941200303, -2.0633182362860927,\n",
              "       -1.8951014444231724, 0.7484579000094597, 2.1209074375384924],\n",
              "      dtype=object)"
            ]
          },
          "metadata": {
            "tags": []
          },
          "execution_count": 74
        }
      ]
    },
    {
      "cell_type": "code",
      "metadata": {
        "id": "d5_AJWjAJKBL"
      },
      "source": [
        "b=quiz_users.loc[quiz_users['User']==174]"
      ],
      "execution_count": null,
      "outputs": []
    },
    {
      "cell_type": "code",
      "metadata": {
        "id": "7N8fQYLwJN03"
      },
      "source": [
        "b=b.values.squeeze()"
      ],
      "execution_count": null,
      "outputs": []
    },
    {
      "cell_type": "code",
      "metadata": {
        "colab": {
          "base_uri": "https://localhost:8080/"
        },
        "id": "qYZdlpfLJN3g",
        "outputId": "bedfc241-2015-4d79-e7a2-2d3c3f1fb024"
      },
      "source": [
        "b=b[1:]\n",
        "b"
      ],
      "execution_count": null,
      "outputs": [
        {
          "output_type": "execute_result",
          "data": {
            "text/plain": [
              "array([-0.22746168, -0.27253193, -0.01723089,  0.05432418,  0.21475532,\n",
              "       -0.07263876, -0.03312156, -0.08650818, -0.13147905,  0.18040285,\n",
              "        0.09588959, -0.08239632,  0.03676717, -0.16543839,  0.05069195])"
            ]
          },
          "metadata": {
            "tags": []
          },
          "execution_count": 77
        }
      ]
    },
    {
      "cell_type": "code",
      "metadata": {
        "id": "_zDYsdGZJN6E"
      },
      "source": [
        "quiz_pred=np.dot(b, a.T)"
      ],
      "execution_count": null,
      "outputs": []
    },
    {
      "cell_type": "code",
      "metadata": {
        "colab": {
          "base_uri": "https://localhost:8080/"
        },
        "id": "qKOgBgP2JN8-",
        "outputId": "0be602a2-f9ac-4878-d2e1-b9714ff2ad8a"
      },
      "source": [
        "round(quiz_pred, 2)"
      ],
      "execution_count": null,
      "outputs": [
        {
          "output_type": "execute_result",
          "data": {
            "text/plain": [
              "1.04"
            ]
          },
          "metadata": {
            "tags": []
          },
          "execution_count": 79
        }
      ]
    },
    {
      "cell_type": "code",
      "metadata": {
        "colab": {
          "base_uri": "https://localhost:8080/"
        },
        "id": "aJdbzC64JN_s",
        "outputId": "1673b0fa-e0f3-427d-c389-ae550a1ea5ab"
      },
      "source": [
        "c=quiz_items.loc[quiz_items['Movie ID']==812]\n",
        "c=c.values.squeeze()\n",
        "c=c[2:]\n",
        "c"
      ],
      "execution_count": null,
      "outputs": [
        {
          "output_type": "execute_result",
          "data": {
            "text/plain": [
              "array([0.9444072873203204, -0.17405053859224534, 0.12318628233184109,\n",
              "       2.2243105344641236, -0.5695513857263874, 0.018065057433469225,\n",
              "       0.3010679396871695, 0.03472533646290326, -0.20630092072921338,\n",
              "       0.5333225541299694, -0.8823041399125704, -0.4469824426741521,\n",
              "       1.3020155376267466, 0.8368295247444454, -0.46760653696757254],\n",
              "      dtype=object)"
            ]
          },
          "metadata": {
            "tags": []
          },
          "execution_count": 46
        }
      ]
    },
    {
      "cell_type": "code",
      "metadata": {
        "colab": {
          "base_uri": "https://localhost:8080/"
        },
        "id": "0HjRMrxwJOCj",
        "outputId": "add2cf62-74e4-4043-8318-83e18bc3727d"
      },
      "source": [
        "quiz_pred=np.dot(b, c.T)\n",
        "round(quiz_pred, 2)"
      ],
      "execution_count": null,
      "outputs": [
        {
          "output_type": "execute_result",
          "data": {
            "text/plain": [
              "0.05"
            ]
          },
          "metadata": {
            "tags": []
          },
          "execution_count": 47
        }
      ]
    },
    {
      "cell_type": "code",
      "metadata": {
        "colab": {
          "base_uri": "https://localhost:8080/"
        },
        "id": "yH2qCzfjJZgM",
        "outputId": "06379d24-1f7c-4e9f-bb1d-591c5aecb101"
      },
      "source": [
        "u_2067=quiz_users.loc[quiz_users['User']==4373]\n",
        "u_2067=u_2067.values.squeeze()\n",
        "u_2067=u_2067[1:]\n",
        "u_2067"
      ],
      "execution_count": null,
      "outputs": [
        {
          "output_type": "execute_result",
          "data": {
            "text/plain": [
              "array([-0.1365496 , -0.08940568, -0.23539942,  0.12058533, -0.16816781,\n",
              "        0.12998995, -0.03508359, -0.32402785,  0.08753111,  0.04528984,\n",
              "        0.20784991, -0.02897165, -0.1751839 , -0.05828269,  0.14779738])"
            ]
          },
          "metadata": {
            "tags": []
          },
          "execution_count": 97
        }
      ]
    },
    {
      "cell_type": "code",
      "metadata": {
        "id": "67VZawpLJZjQ"
      },
      "source": [
        "all_item_factors=quiz_items.values[:, 2:]"
      ],
      "execution_count": null,
      "outputs": []
    },
    {
      "cell_type": "code",
      "metadata": {
        "id": "48fRByTKJZmQ"
      },
      "source": [
        "quiz_ratings=np.dot(u_2067, all_item_factors.T)"
      ],
      "execution_count": null,
      "outputs": []
    },
    {
      "cell_type": "code",
      "metadata": {
        "colab": {
          "base_uri": "https://localhost:8080/"
        },
        "id": "duX4MlsWJZoY",
        "outputId": "23bca6ba-a0b8-4aa7-83d0-6d325d69828c"
      },
      "source": [
        "np.argmax(quiz_ratings)"
      ],
      "execution_count": null,
      "outputs": [
        {
          "output_type": "execute_result",
          "data": {
            "text/plain": [
              "50"
            ]
          },
          "metadata": {
            "tags": []
          },
          "execution_count": 100
        }
      ]
    },
    {
      "cell_type": "code",
      "metadata": {
        "colab": {
          "base_uri": "https://localhost:8080/"
        },
        "id": "LpVnWSurJZrd",
        "outputId": "c8d14953-ad39-43ff-ccc6-e8e3a9976158"
      },
      "source": [
        "np.argsort(quiz_ratings)[::-1][:2]"
      ],
      "execution_count": null,
      "outputs": [
        {
          "output_type": "execute_result",
          "data": {
            "text/plain": [
              "array([50, 11])"
            ]
          },
          "metadata": {
            "tags": []
          },
          "execution_count": 101
        }
      ]
    },
    {
      "cell_type": "code",
      "metadata": {
        "colab": {
          "base_uri": "https://localhost:8080/",
          "height": 170
        },
        "id": "pkp8u9yGJKDY",
        "outputId": "9416ce50-eff4-453a-bfac-d024b56866f3"
      },
      "source": [
        "quiz_items.loc[np.argsort(quiz_ratings)[::-1][:3], :]"
      ],
      "execution_count": null,
      "outputs": [
        {
          "output_type": "execute_result",
          "data": {
            "text/html": [
              "<div>\n",
              "<style scoped>\n",
              "    .dataframe tbody tr th:only-of-type {\n",
              "        vertical-align: middle;\n",
              "    }\n",
              "\n",
              "    .dataframe tbody tr th {\n",
              "        vertical-align: top;\n",
              "    }\n",
              "\n",
              "    .dataframe thead th {\n",
              "        text-align: right;\n",
              "    }\n",
              "</style>\n",
              "<table border=\"1\" class=\"dataframe\">\n",
              "  <thead>\n",
              "    <tr style=\"text-align: right;\">\n",
              "      <th></th>\n",
              "      <th>Movie ID</th>\n",
              "      <th>Title</th>\n",
              "      <th>Factor1</th>\n",
              "      <th>Factor2</th>\n",
              "      <th>Factor3</th>\n",
              "      <th>Factor4</th>\n",
              "      <th>Factor5</th>\n",
              "      <th>Factor6</th>\n",
              "      <th>Factor7</th>\n",
              "      <th>Factor8</th>\n",
              "      <th>Factor9</th>\n",
              "      <th>Factor10</th>\n",
              "      <th>Factor11</th>\n",
              "      <th>Factor12</th>\n",
              "      <th>Factor13</th>\n",
              "      <th>Factor14</th>\n",
              "      <th>Factor15</th>\n",
              "    </tr>\n",
              "  </thead>\n",
              "  <tbody>\n",
              "    <tr>\n",
              "      <th>50</th>\n",
              "      <td>603</td>\n",
              "      <td>The Matrix (1999)</td>\n",
              "      <td>-3.063639</td>\n",
              "      <td>-1.319283</td>\n",
              "      <td>-0.043618</td>\n",
              "      <td>-0.994612</td>\n",
              "      <td>-0.954054</td>\n",
              "      <td>0.190838</td>\n",
              "      <td>0.197918</td>\n",
              "      <td>-0.093962</td>\n",
              "      <td>-1.082840</td>\n",
              "      <td>-0.003843</td>\n",
              "      <td>1.377453</td>\n",
              "      <td>-1.668189</td>\n",
              "      <td>-1.348377</td>\n",
              "      <td>0.223797</td>\n",
              "      <td>0.752413</td>\n",
              "    </tr>\n",
              "    <tr>\n",
              "      <th>11</th>\n",
              "      <td>105</td>\n",
              "      <td>Back to the Future (1985)</td>\n",
              "      <td>-1.107666</td>\n",
              "      <td>-0.039506</td>\n",
              "      <td>0.109809</td>\n",
              "      <td>0.169149</td>\n",
              "      <td>-1.625467</td>\n",
              "      <td>1.673495</td>\n",
              "      <td>-0.544459</td>\n",
              "      <td>0.420603</td>\n",
              "      <td>1.184404</td>\n",
              "      <td>0.396530</td>\n",
              "      <td>1.240446</td>\n",
              "      <td>0.016825</td>\n",
              "      <td>-0.582166</td>\n",
              "      <td>-0.757412</td>\n",
              "      <td>0.118024</td>\n",
              "    </tr>\n",
              "    <tr>\n",
              "      <th>35</th>\n",
              "      <td>329</td>\n",
              "      <td>Jurassic Park (1993)</td>\n",
              "      <td>-0.104238</td>\n",
              "      <td>-1.105404</td>\n",
              "      <td>-0.497630</td>\n",
              "      <td>0.459678</td>\n",
              "      <td>-1.146451</td>\n",
              "      <td>0.842279</td>\n",
              "      <td>0.224978</td>\n",
              "      <td>0.541354</td>\n",
              "      <td>1.570226</td>\n",
              "      <td>-0.633001</td>\n",
              "      <td>1.053255</td>\n",
              "      <td>-0.526942</td>\n",
              "      <td>0.082476</td>\n",
              "      <td>-0.005909</td>\n",
              "      <td>1.466918</td>\n",
              "    </tr>\n",
              "  </tbody>\n",
              "</table>\n",
              "</div>"
            ],
            "text/plain": [
              "    Movie ID                      Title   Factor1  ...  Factor13  Factor14  Factor15\n",
              "50       603          The Matrix (1999) -3.063639  ... -1.348377  0.223797  0.752413\n",
              "11       105  Back to the Future (1985) -1.107666  ... -0.582166 -0.757412  0.118024\n",
              "35       329       Jurassic Park (1993) -0.104238  ...  0.082476 -0.005909  1.466918\n",
              "\n",
              "[3 rows x 17 columns]"
            ]
          },
          "metadata": {
            "tags": []
          },
          "execution_count": 102
        }
      ]
    },
    {
      "cell_type": "code",
      "metadata": {
        "colab": {
          "base_uri": "https://localhost:8080/"
        },
        "id": "bFqXU4kVJirw",
        "outputId": "46ed081f-e682-4442-e26c-eff21bcc5160"
      },
      "source": [
        "u_4940=quiz_users.loc[quiz_users['User']==4373]\n",
        "u_4940=u_4940.values.squeeze()\n",
        "u_4940=u_4940[1:]\n",
        "u_4940"
      ],
      "execution_count": null,
      "outputs": [
        {
          "output_type": "execute_result",
          "data": {
            "text/plain": [
              "array([-0.1365496 , -0.08940568, -0.23539942,  0.12058533, -0.16816781,\n",
              "        0.12998995, -0.03508359, -0.32402785,  0.08753111,  0.04528984,\n",
              "        0.20784991, -0.02897165, -0.1751839 , -0.05828269,  0.14779738])"
            ]
          },
          "metadata": {
            "tags": []
          },
          "execution_count": 103
        }
      ]
    },
    {
      "cell_type": "code",
      "metadata": {
        "colab": {
          "base_uri": "https://localhost:8080/"
        },
        "id": "EqyuWM1aJiu4",
        "outputId": "da925ae5-02cd-435c-c14f-7c730b04e819"
      },
      "source": [
        "quiz_ratings=np.dot(u_2067, all_item_factors.T)\n",
        "np.argsort(quiz_ratings)[::-1][:2]"
      ],
      "execution_count": null,
      "outputs": [
        {
          "output_type": "execute_result",
          "data": {
            "text/plain": [
              "array([50, 11])"
            ]
          },
          "metadata": {
            "tags": []
          },
          "execution_count": 105
        }
      ]
    },
    {
      "cell_type": "code",
      "metadata": {
        "colab": {
          "base_uri": "https://localhost:8080/",
          "height": 140
        },
        "id": "pPzU2mwtJixv",
        "outputId": "0b1b89b2-a691-455d-80a7-7a10aa22f857"
      },
      "source": [
        "quiz_items.loc[np.argsort(quiz_ratings)[::-1][:2], :]"
      ],
      "execution_count": null,
      "outputs": [
        {
          "output_type": "execute_result",
          "data": {
            "text/html": [
              "<div>\n",
              "<style scoped>\n",
              "    .dataframe tbody tr th:only-of-type {\n",
              "        vertical-align: middle;\n",
              "    }\n",
              "\n",
              "    .dataframe tbody tr th {\n",
              "        vertical-align: top;\n",
              "    }\n",
              "\n",
              "    .dataframe thead th {\n",
              "        text-align: right;\n",
              "    }\n",
              "</style>\n",
              "<table border=\"1\" class=\"dataframe\">\n",
              "  <thead>\n",
              "    <tr style=\"text-align: right;\">\n",
              "      <th></th>\n",
              "      <th>Movie ID</th>\n",
              "      <th>Title</th>\n",
              "      <th>Factor1</th>\n",
              "      <th>Factor2</th>\n",
              "      <th>Factor3</th>\n",
              "      <th>Factor4</th>\n",
              "      <th>Factor5</th>\n",
              "      <th>Factor6</th>\n",
              "      <th>Factor7</th>\n",
              "      <th>Factor8</th>\n",
              "      <th>Factor9</th>\n",
              "      <th>Factor10</th>\n",
              "      <th>Factor11</th>\n",
              "      <th>Factor12</th>\n",
              "      <th>Factor13</th>\n",
              "      <th>Factor14</th>\n",
              "      <th>Factor15</th>\n",
              "    </tr>\n",
              "  </thead>\n",
              "  <tbody>\n",
              "    <tr>\n",
              "      <th>50</th>\n",
              "      <td>603</td>\n",
              "      <td>The Matrix (1999)</td>\n",
              "      <td>-3.063639</td>\n",
              "      <td>-1.319283</td>\n",
              "      <td>-0.043618</td>\n",
              "      <td>-0.994612</td>\n",
              "      <td>-0.954054</td>\n",
              "      <td>0.190838</td>\n",
              "      <td>0.197918</td>\n",
              "      <td>-0.093962</td>\n",
              "      <td>-1.082840</td>\n",
              "      <td>-0.003843</td>\n",
              "      <td>1.377453</td>\n",
              "      <td>-1.668189</td>\n",
              "      <td>-1.348377</td>\n",
              "      <td>0.223797</td>\n",
              "      <td>0.752413</td>\n",
              "    </tr>\n",
              "    <tr>\n",
              "      <th>11</th>\n",
              "      <td>105</td>\n",
              "      <td>Back to the Future (1985)</td>\n",
              "      <td>-1.107666</td>\n",
              "      <td>-0.039506</td>\n",
              "      <td>0.109809</td>\n",
              "      <td>0.169149</td>\n",
              "      <td>-1.625467</td>\n",
              "      <td>1.673495</td>\n",
              "      <td>-0.544459</td>\n",
              "      <td>0.420603</td>\n",
              "      <td>1.184404</td>\n",
              "      <td>0.396530</td>\n",
              "      <td>1.240446</td>\n",
              "      <td>0.016825</td>\n",
              "      <td>-0.582166</td>\n",
              "      <td>-0.757412</td>\n",
              "      <td>0.118024</td>\n",
              "    </tr>\n",
              "  </tbody>\n",
              "</table>\n",
              "</div>"
            ],
            "text/plain": [
              "    Movie ID                      Title   Factor1  ...  Factor13  Factor14  Factor15\n",
              "50       603          The Matrix (1999) -3.063639  ... -1.348377  0.223797  0.752413\n",
              "11       105  Back to the Future (1985) -1.107666  ... -0.582166 -0.757412  0.118024\n",
              "\n",
              "[2 rows x 17 columns]"
            ]
          },
          "metadata": {
            "tags": []
          },
          "execution_count": 106
        }
      ]
    },
    {
      "cell_type": "code",
      "metadata": {
        "colab": {
          "base_uri": "https://localhost:8080/"
        },
        "id": "SpD6bMCCJo0z",
        "outputId": "df258866-5a87-4368-a94f-b5a3213c1354"
      },
      "source": [
        "np.average(data.loc[:, 45].values[~np.isnan(data.loc[:, 45].values)])"
      ],
      "execution_count": null,
      "outputs": [
        {
          "output_type": "execute_result",
          "data": {
            "text/plain": [
              "1.1086161781946073"
            ]
          },
          "metadata": {
            "tags": []
          },
          "execution_count": 57
        }
      ]
    },
    {
      "cell_type": "code",
      "metadata": {
        "id": "EiVX8wPxJo3v"
      },
      "source": [
        ""
      ],
      "execution_count": null,
      "outputs": []
    },
    {
      "cell_type": "code",
      "metadata": {
        "id": "VqRtz3keJo7J"
      },
      "source": [
        ""
      ],
      "execution_count": null,
      "outputs": []
    },
    {
      "cell_type": "code",
      "metadata": {
        "id": "a-Lq4OotJo9b"
      },
      "source": [
        ""
      ],
      "execution_count": null,
      "outputs": []
    },
    {
      "cell_type": "code",
      "metadata": {
        "id": "yasdIl_YJpAS"
      },
      "source": [
        ""
      ],
      "execution_count": null,
      "outputs": []
    }
  ]
}