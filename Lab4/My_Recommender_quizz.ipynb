{
  "nbformat": 4,
  "nbformat_minor": 0,
  "metadata": {
    "colab": {
      "name": "My_Recommender.ipynb",
      "provenance": [],
      "collapsed_sections": [],
      "include_colab_link": true
    },
    "kernelspec": {
      "name": "python3",
      "display_name": "Python 3"
    },
    "language_info": {
      "name": "python"
    }
  },
  "cells": [
    {
      "cell_type": "markdown",
      "metadata": {
        "id": "view-in-github",
        "colab_type": "text"
      },
      "source": [
        "<a href=\"https://colab.research.google.com/github/Sagar610/CE888/blob/main/Lab4/My_Recommender_quizz.ipynb\" target=\"_parent\"><img src=\"https://colab.research.google.com/assets/colab-badge.svg\" alt=\"Open In Colab\"/></a>"
      ]
    },
    {
      "cell_type": "markdown",
      "metadata": {
        "id": "TeZZnCrPHmx5"
      },
      "source": [
        "**Import packages/libraries**"
      ]
    },
    {
      "cell_type": "code",
      "metadata": {
        "id": "9L5q8QaxHjXg"
      },
      "source": [
        "import pandas as pd\n",
        "import numpy as np\n",
        "import matplotlib.pyplot as plt"
      ],
      "execution_count": 58,
      "outputs": []
    },
    {
      "cell_type": "markdown",
      "metadata": {
        "id": "22vevN4bHvtq"
      },
      "source": [
        "**Load the data files**"
      ]
    },
    {
      "cell_type": "code",
      "metadata": {
        "id": "yl0in2nEHjaS"
      },
      "source": [
        "data=pd.read_csv('https://raw.githubusercontent.com/albanda/CE888/master/lab4-recommender/jester-data-1.csv', header=None)"
      ],
      "execution_count": 61,
      "outputs": []
    },
    {
      "cell_type": "code",
      "metadata": {
        "id": "AVWuAvbBHjcu"
      },
      "source": [
        "test_data=pd.DataFrame(data)\n",
        "test_data=pd.concat([test_data.loc[:, 0], test_data.loc[:, 1:].replace(99.00, np.NaN)], axis=1)\n",
        "test_data.drop(columns=[0], inplace=True)"
      ],
      "execution_count": null,
      "outputs": []
    },
    {
      "cell_type": "code",
      "metadata": {
        "id": "Z5gQlLk-Hjft"
      },
      "source": [
        "data=pd.concat([data.loc[:, 0], data.loc[:, 1:].replace(99.00, np.NaN)], axis=1)\n",
        "data.drop(columns=[0], inplace=True)"
      ],
      "execution_count": null,
      "outputs": []
    },
    {
      "cell_type": "code",
      "metadata": {
        "id": "M940P3OxHjid"
      },
      "source": [
        "val_data=pd.read_csv('https://raw.githubusercontent.com/albanda/CE888/master/lab4-recommender/jester-data-1.csv', header=None)\n",
        "val_data.drop(columns=[0], inplace=True)\n",
        "# val_data.head()"
      ],
      "execution_count": null,
      "outputs": []
    },
    {
      "cell_type": "markdown",
      "metadata": {
        "id": "A2UVxwruH5Nn"
      },
      "source": [
        "**Highest and lowest rated joke**"
      ]
    },
    {
      "cell_type": "code",
      "metadata": {
        "colab": {
          "base_uri": "https://localhost:8080/"
        },
        "id": "sKmlAvP_HjlW",
        "outputId": "5318943a-e700-42b0-881e-8cf72ca9d23f"
      },
      "source": [
        "print('Joke with highest rating : ', test_data.max(axis=0).idxmax())\n",
        "print('Joke with lowest rating : ', test_data.min(axis=0).idxmin())"
      ],
      "execution_count": null,
      "outputs": [
        {
          "output_type": "stream",
          "text": [
            "Joke with highest rating :  45\n",
            "Joke with lowest rating :  1\n"
          ],
          "name": "stdout"
        }
      ]
    },
    {
      "cell_type": "code",
      "metadata": {
        "id": "RewiLrLxHjoG"
      },
      "source": [
        "# val_data=pd.DataFrame(data)\n",
        "# val_data.drop(columns=[0], inplace=True)"
      ],
      "execution_count": null,
      "outputs": []
    },
    {
      "cell_type": "markdown",
      "metadata": {
        "id": "G_h8Y7K4H_44"
      },
      "source": [
        "**Prepare Validation Data**"
      ]
    },
    {
      "cell_type": "code",
      "metadata": {
        "colab": {
          "base_uri": "https://localhost:8080/"
        },
        "id": "mlbfpaVBHjq7",
        "outputId": "f3096696-0e4a-48b3-e80a-6bcee1eb1b32"
      },
      "source": [
        "arr = val_data.values\n",
        "arr.shape"
      ],
      "execution_count": null,
      "outputs": [
        {
          "output_type": "execute_result",
          "data": {
            "text/plain": [
              "(24983, 100)"
            ]
          },
          "metadata": {
            "tags": []
          },
          "execution_count": 8
        }
      ]
    },
    {
      "cell_type": "code",
      "metadata": {
        "colab": {
          "base_uri": "https://localhost:8080/"
        },
        "id": "KnwmHs6SHjuC",
        "outputId": "c7315e51-8aab-43ce-a9f7-bfc79df39c64"
      },
      "source": [
        "rated = np.where(arr!=99)\n",
        "print(len(rated[0]), rated[1].shape)"
      ],
      "execution_count": null,
      "outputs": [
        {
          "output_type": "stream",
          "text": [
            "1810455 (1810455,)\n"
          ],
          "name": "stdout"
        }
      ]
    },
    {
      "cell_type": "code",
      "metadata": {
        "id": "GiU7JAFfHjxD"
      },
      "source": [
        "# data.drop(columns=[0], inplace=True)"
      ],
      "execution_count": null,
      "outputs": []
    },
    {
      "cell_type": "code",
      "metadata": {
        "colab": {
          "base_uri": "https://localhost:8080/"
        },
        "id": "fpbRV-s7Hjzw",
        "outputId": "2d92546c-8661-4c6d-ca76-d3ab89159435"
      },
      "source": [
        "len(np.where(arr!=99)[1])"
      ],
      "execution_count": null,
      "outputs": [
        {
          "output_type": "execute_result",
          "data": {
            "text/plain": [
              "1810455"
            ]
          },
          "metadata": {
            "tags": []
          },
          "execution_count": 11
        }
      ]
    },
    {
      "cell_type": "code",
      "metadata": {
        "id": "1kKy-46GHj2i"
      },
      "source": [
        "def replace(orig, percentage=0.1):\n",
        "  \"\"\"\n",
        "  Replaces 'percentage'% of the original values in 'orig' with 99's\n",
        "  :param orig: original data array\n",
        "  :param percentage: percentage of values to replace (0<percentage<1)\n",
        "  \"\"\"\n",
        "  new_data = orig.copy()\n",
        "  rated = np.where(arr!=99)\n",
        "  n_rated = len(rated[0])\n",
        "  idx = np.random.choice(n_rated, size=int(percentage*n_rated), replace=False)\n",
        "  new_data[rated[0][idx], rated[1][idx]] = 99\n",
        "  return new_data, (rated[0][idx], rated[1][idx])"
      ],
      "execution_count": null,
      "outputs": []
    },
    {
      "cell_type": "code",
      "metadata": {
        "id": "PdLcCsGfHj5f"
      },
      "source": [
        "new_arr, idx = replace(arr, 0.1)"
      ],
      "execution_count": null,
      "outputs": []
    },
    {
      "cell_type": "code",
      "metadata": {
        "colab": {
          "base_uri": "https://localhost:8080/"
        },
        "id": "Y5IK6wY9Hj8g",
        "outputId": "77a8bdcf-de2e-47ef-e3b6-cdf78187b4dd"
      },
      "source": [
        "arr[idx[0][0], idx[1][0]]"
      ],
      "execution_count": null,
      "outputs": [
        {
          "output_type": "execute_result",
          "data": {
            "text/plain": [
              "-4.03"
            ]
          },
          "metadata": {
            "tags": []
          },
          "execution_count": 14
        }
      ]
    },
    {
      "cell_type": "code",
      "metadata": {
        "colab": {
          "base_uri": "https://localhost:8080/"
        },
        "id": "jk67kukZHj-u",
        "outputId": "3e1f3cfb-684d-4f6a-ff01-f3bcc7efd0ca"
      },
      "source": [
        "new_arr[idx[0][0], idx[1][0]]"
      ],
      "execution_count": null,
      "outputs": [
        {
          "output_type": "execute_result",
          "data": {
            "text/plain": [
              "99.0"
            ]
          },
          "metadata": {
            "tags": []
          },
          "execution_count": 15
        }
      ]
    },
    {
      "cell_type": "code",
      "metadata": {
        "colab": {
          "base_uri": "https://localhost:8080/",
          "height": 244
        },
        "id": "_6nRqUjgHkBw",
        "outputId": "2d2032d1-1451-410c-c17b-6d6574f941d7"
      },
      "source": [
        "val_data=pd.DataFrame(new_arr)\n",
        "val_data=pd.DataFrame(val_data.loc[:, 0:].replace(99.00, np.NaN))\n",
        "val_data.head()"
      ],
      "execution_count": null,
      "outputs": [
        {
          "output_type": "execute_result",
          "data": {
            "text/html": [
              "<div>\n",
              "<style scoped>\n",
              "    .dataframe tbody tr th:only-of-type {\n",
              "        vertical-align: middle;\n",
              "    }\n",
              "\n",
              "    .dataframe tbody tr th {\n",
              "        vertical-align: top;\n",
              "    }\n",
              "\n",
              "    .dataframe thead th {\n",
              "        text-align: right;\n",
              "    }\n",
              "</style>\n",
              "<table border=\"1\" class=\"dataframe\">\n",
              "  <thead>\n",
              "    <tr style=\"text-align: right;\">\n",
              "      <th></th>\n",
              "      <th>0</th>\n",
              "      <th>1</th>\n",
              "      <th>2</th>\n",
              "      <th>3</th>\n",
              "      <th>4</th>\n",
              "      <th>5</th>\n",
              "      <th>6</th>\n",
              "      <th>7</th>\n",
              "      <th>8</th>\n",
              "      <th>9</th>\n",
              "      <th>10</th>\n",
              "      <th>11</th>\n",
              "      <th>12</th>\n",
              "      <th>13</th>\n",
              "      <th>14</th>\n",
              "      <th>15</th>\n",
              "      <th>16</th>\n",
              "      <th>17</th>\n",
              "      <th>18</th>\n",
              "      <th>19</th>\n",
              "      <th>20</th>\n",
              "      <th>21</th>\n",
              "      <th>22</th>\n",
              "      <th>23</th>\n",
              "      <th>24</th>\n",
              "      <th>25</th>\n",
              "      <th>26</th>\n",
              "      <th>27</th>\n",
              "      <th>28</th>\n",
              "      <th>29</th>\n",
              "      <th>30</th>\n",
              "      <th>31</th>\n",
              "      <th>32</th>\n",
              "      <th>33</th>\n",
              "      <th>34</th>\n",
              "      <th>35</th>\n",
              "      <th>36</th>\n",
              "      <th>37</th>\n",
              "      <th>38</th>\n",
              "      <th>39</th>\n",
              "      <th>...</th>\n",
              "      <th>60</th>\n",
              "      <th>61</th>\n",
              "      <th>62</th>\n",
              "      <th>63</th>\n",
              "      <th>64</th>\n",
              "      <th>65</th>\n",
              "      <th>66</th>\n",
              "      <th>67</th>\n",
              "      <th>68</th>\n",
              "      <th>69</th>\n",
              "      <th>70</th>\n",
              "      <th>71</th>\n",
              "      <th>72</th>\n",
              "      <th>73</th>\n",
              "      <th>74</th>\n",
              "      <th>75</th>\n",
              "      <th>76</th>\n",
              "      <th>77</th>\n",
              "      <th>78</th>\n",
              "      <th>79</th>\n",
              "      <th>80</th>\n",
              "      <th>81</th>\n",
              "      <th>82</th>\n",
              "      <th>83</th>\n",
              "      <th>84</th>\n",
              "      <th>85</th>\n",
              "      <th>86</th>\n",
              "      <th>87</th>\n",
              "      <th>88</th>\n",
              "      <th>89</th>\n",
              "      <th>90</th>\n",
              "      <th>91</th>\n",
              "      <th>92</th>\n",
              "      <th>93</th>\n",
              "      <th>94</th>\n",
              "      <th>95</th>\n",
              "      <th>96</th>\n",
              "      <th>97</th>\n",
              "      <th>98</th>\n",
              "      <th>99</th>\n",
              "    </tr>\n",
              "  </thead>\n",
              "  <tbody>\n",
              "    <tr>\n",
              "      <th>0</th>\n",
              "      <td>-7.82</td>\n",
              "      <td>8.79</td>\n",
              "      <td>-9.66</td>\n",
              "      <td>-8.16</td>\n",
              "      <td>-7.52</td>\n",
              "      <td>-8.50</td>\n",
              "      <td>NaN</td>\n",
              "      <td>4.17</td>\n",
              "      <td>-8.98</td>\n",
              "      <td>-4.76</td>\n",
              "      <td>-8.50</td>\n",
              "      <td>NaN</td>\n",
              "      <td>-7.18</td>\n",
              "      <td>8.45</td>\n",
              "      <td>-7.18</td>\n",
              "      <td>-7.52</td>\n",
              "      <td>-7.43</td>\n",
              "      <td>-9.81</td>\n",
              "      <td>-9.85</td>\n",
              "      <td>NaN</td>\n",
              "      <td>-9.37</td>\n",
              "      <td>1.50</td>\n",
              "      <td>-4.37</td>\n",
              "      <td>NaN</td>\n",
              "      <td>-8.50</td>\n",
              "      <td>1.12</td>\n",
              "      <td>7.82</td>\n",
              "      <td>2.86</td>\n",
              "      <td>9.13</td>\n",
              "      <td>-7.43</td>\n",
              "      <td>2.14</td>\n",
              "      <td>-4.08</td>\n",
              "      <td>-9.08</td>\n",
              "      <td>7.82</td>\n",
              "      <td>NaN</td>\n",
              "      <td>NaN</td>\n",
              "      <td>-9.17</td>\n",
              "      <td>-8.40</td>\n",
              "      <td>-8.40</td>\n",
              "      <td>-8.40</td>\n",
              "      <td>...</td>\n",
              "      <td>8.59</td>\n",
              "      <td>3.59</td>\n",
              "      <td>-6.84</td>\n",
              "      <td>-9.03</td>\n",
              "      <td>2.82</td>\n",
              "      <td>NaN</td>\n",
              "      <td>-9.08</td>\n",
              "      <td>8.30</td>\n",
              "      <td>5.68</td>\n",
              "      <td>-4.81</td>\n",
              "      <td>NaN</td>\n",
              "      <td>NaN</td>\n",
              "      <td>NaN</td>\n",
              "      <td>NaN</td>\n",
              "      <td>NaN</td>\n",
              "      <td>NaN</td>\n",
              "      <td>NaN</td>\n",
              "      <td>-9.42</td>\n",
              "      <td>NaN</td>\n",
              "      <td>NaN</td>\n",
              "      <td>NaN</td>\n",
              "      <td>-7.72</td>\n",
              "      <td>NaN</td>\n",
              "      <td>NaN</td>\n",
              "      <td>NaN</td>\n",
              "      <td>NaN</td>\n",
              "      <td>NaN</td>\n",
              "      <td>NaN</td>\n",
              "      <td>NaN</td>\n",
              "      <td>NaN</td>\n",
              "      <td>2.82</td>\n",
              "      <td>NaN</td>\n",
              "      <td>NaN</td>\n",
              "      <td>NaN</td>\n",
              "      <td>NaN</td>\n",
              "      <td>NaN</td>\n",
              "      <td>NaN</td>\n",
              "      <td>NaN</td>\n",
              "      <td>NaN</td>\n",
              "      <td>NaN</td>\n",
              "    </tr>\n",
              "    <tr>\n",
              "      <th>1</th>\n",
              "      <td>4.08</td>\n",
              "      <td>-0.29</td>\n",
              "      <td>6.36</td>\n",
              "      <td>NaN</td>\n",
              "      <td>-2.38</td>\n",
              "      <td>NaN</td>\n",
              "      <td>-0.73</td>\n",
              "      <td>-5.34</td>\n",
              "      <td>8.88</td>\n",
              "      <td>9.22</td>\n",
              "      <td>NaN</td>\n",
              "      <td>8.64</td>\n",
              "      <td>4.42</td>\n",
              "      <td>7.43</td>\n",
              "      <td>4.56</td>\n",
              "      <td>-0.97</td>\n",
              "      <td>4.66</td>\n",
              "      <td>-0.68</td>\n",
              "      <td>3.30</td>\n",
              "      <td>-1.21</td>\n",
              "      <td>0.87</td>\n",
              "      <td>8.64</td>\n",
              "      <td>8.35</td>\n",
              "      <td>9.17</td>\n",
              "      <td>0.05</td>\n",
              "      <td>7.57</td>\n",
              "      <td>4.71</td>\n",
              "      <td>0.87</td>\n",
              "      <td>NaN</td>\n",
              "      <td>6.99</td>\n",
              "      <td>6.50</td>\n",
              "      <td>-0.92</td>\n",
              "      <td>7.14</td>\n",
              "      <td>9.03</td>\n",
              "      <td>-1.80</td>\n",
              "      <td>0.73</td>\n",
              "      <td>7.09</td>\n",
              "      <td>3.40</td>\n",
              "      <td>-0.87</td>\n",
              "      <td>NaN</td>\n",
              "      <td>...</td>\n",
              "      <td>NaN</td>\n",
              "      <td>-3.35</td>\n",
              "      <td>-9.03</td>\n",
              "      <td>4.47</td>\n",
              "      <td>4.08</td>\n",
              "      <td>-3.83</td>\n",
              "      <td>8.74</td>\n",
              "      <td>1.12</td>\n",
              "      <td>0.78</td>\n",
              "      <td>7.52</td>\n",
              "      <td>-5.0</td>\n",
              "      <td>2.77</td>\n",
              "      <td>8.3</td>\n",
              "      <td>7.77</td>\n",
              "      <td>7.33</td>\n",
              "      <td>6.21</td>\n",
              "      <td>7.72</td>\n",
              "      <td>8.98</td>\n",
              "      <td>8.64</td>\n",
              "      <td>NaN</td>\n",
              "      <td>3.93</td>\n",
              "      <td>NaN</td>\n",
              "      <td>4.85</td>\n",
              "      <td>6.07</td>\n",
              "      <td>NaN</td>\n",
              "      <td>4.51</td>\n",
              "      <td>-0.05</td>\n",
              "      <td>3.69</td>\n",
              "      <td>4.56</td>\n",
              "      <td>0.58</td>\n",
              "      <td>2.82</td>\n",
              "      <td>-4.95</td>\n",
              "      <td>-0.29</td>\n",
              "      <td>7.86</td>\n",
              "      <td>-0.19</td>\n",
              "      <td>-2.14</td>\n",
              "      <td>3.06</td>\n",
              "      <td>0.34</td>\n",
              "      <td>-4.32</td>\n",
              "      <td>1.07</td>\n",
              "    </tr>\n",
              "    <tr>\n",
              "      <th>2</th>\n",
              "      <td>NaN</td>\n",
              "      <td>NaN</td>\n",
              "      <td>NaN</td>\n",
              "      <td>NaN</td>\n",
              "      <td>9.03</td>\n",
              "      <td>9.27</td>\n",
              "      <td>9.03</td>\n",
              "      <td>9.27</td>\n",
              "      <td>NaN</td>\n",
              "      <td>NaN</td>\n",
              "      <td>7.33</td>\n",
              "      <td>7.57</td>\n",
              "      <td>9.37</td>\n",
              "      <td>6.17</td>\n",
              "      <td>-6.36</td>\n",
              "      <td>-6.89</td>\n",
              "      <td>-7.86</td>\n",
              "      <td>9.03</td>\n",
              "      <td>9.03</td>\n",
              "      <td>9.03</td>\n",
              "      <td>7.28</td>\n",
              "      <td>NaN</td>\n",
              "      <td>8.25</td>\n",
              "      <td>NaN</td>\n",
              "      <td>NaN</td>\n",
              "      <td>7.48</td>\n",
              "      <td>7.28</td>\n",
              "      <td>7.28</td>\n",
              "      <td>8.93</td>\n",
              "      <td>NaN</td>\n",
              "      <td>6.17</td>\n",
              "      <td>7.28</td>\n",
              "      <td>NaN</td>\n",
              "      <td>NaN</td>\n",
              "      <td>NaN</td>\n",
              "      <td>7.33</td>\n",
              "      <td>NaN</td>\n",
              "      <td>6.17</td>\n",
              "      <td>9.08</td>\n",
              "      <td>NaN</td>\n",
              "      <td>...</td>\n",
              "      <td>6.46</td>\n",
              "      <td>7.28</td>\n",
              "      <td>NaN</td>\n",
              "      <td>NaN</td>\n",
              "      <td>7.04</td>\n",
              "      <td>7.28</td>\n",
              "      <td>NaN</td>\n",
              "      <td>7.28</td>\n",
              "      <td>8.25</td>\n",
              "      <td>NaN</td>\n",
              "      <td>NaN</td>\n",
              "      <td>NaN</td>\n",
              "      <td>NaN</td>\n",
              "      <td>NaN</td>\n",
              "      <td>NaN</td>\n",
              "      <td>8.93</td>\n",
              "      <td>NaN</td>\n",
              "      <td>NaN</td>\n",
              "      <td>NaN</td>\n",
              "      <td>9.08</td>\n",
              "      <td>NaN</td>\n",
              "      <td>NaN</td>\n",
              "      <td>NaN</td>\n",
              "      <td>NaN</td>\n",
              "      <td>NaN</td>\n",
              "      <td>NaN</td>\n",
              "      <td>NaN</td>\n",
              "      <td>NaN</td>\n",
              "      <td>NaN</td>\n",
              "      <td>9.03</td>\n",
              "      <td>NaN</td>\n",
              "      <td>NaN</td>\n",
              "      <td>NaN</td>\n",
              "      <td>9.08</td>\n",
              "      <td>NaN</td>\n",
              "      <td>NaN</td>\n",
              "      <td>NaN</td>\n",
              "      <td>NaN</td>\n",
              "      <td>NaN</td>\n",
              "      <td>NaN</td>\n",
              "    </tr>\n",
              "    <tr>\n",
              "      <th>3</th>\n",
              "      <td>NaN</td>\n",
              "      <td>8.35</td>\n",
              "      <td>NaN</td>\n",
              "      <td>NaN</td>\n",
              "      <td>NaN</td>\n",
              "      <td>8.16</td>\n",
              "      <td>NaN</td>\n",
              "      <td>6.21</td>\n",
              "      <td>NaN</td>\n",
              "      <td>1.84</td>\n",
              "      <td>7.33</td>\n",
              "      <td>6.60</td>\n",
              "      <td>6.31</td>\n",
              "      <td>8.11</td>\n",
              "      <td>NaN</td>\n",
              "      <td>-6.65</td>\n",
              "      <td>1.17</td>\n",
              "      <td>-6.60</td>\n",
              "      <td>-3.64</td>\n",
              "      <td>-2.09</td>\n",
              "      <td>5.34</td>\n",
              "      <td>NaN</td>\n",
              "      <td>NaN</td>\n",
              "      <td>NaN</td>\n",
              "      <td>NaN</td>\n",
              "      <td>NaN</td>\n",
              "      <td>3.93</td>\n",
              "      <td>6.75</td>\n",
              "      <td>6.60</td>\n",
              "      <td>NaN</td>\n",
              "      <td>6.65</td>\n",
              "      <td>NaN</td>\n",
              "      <td>NaN</td>\n",
              "      <td>7.57</td>\n",
              "      <td>6.21</td>\n",
              "      <td>6.65</td>\n",
              "      <td>NaN</td>\n",
              "      <td>-8.30</td>\n",
              "      <td>7.18</td>\n",
              "      <td>2.82</td>\n",
              "      <td>...</td>\n",
              "      <td>0.00</td>\n",
              "      <td>-3.69</td>\n",
              "      <td>NaN</td>\n",
              "      <td>NaN</td>\n",
              "      <td>7.82</td>\n",
              "      <td>0.24</td>\n",
              "      <td>NaN</td>\n",
              "      <td>7.28</td>\n",
              "      <td>-2.33</td>\n",
              "      <td>NaN</td>\n",
              "      <td>NaN</td>\n",
              "      <td>NaN</td>\n",
              "      <td>NaN</td>\n",
              "      <td>NaN</td>\n",
              "      <td>NaN</td>\n",
              "      <td>NaN</td>\n",
              "      <td>NaN</td>\n",
              "      <td>NaN</td>\n",
              "      <td>NaN</td>\n",
              "      <td>NaN</td>\n",
              "      <td>NaN</td>\n",
              "      <td>NaN</td>\n",
              "      <td>NaN</td>\n",
              "      <td>NaN</td>\n",
              "      <td>0.63</td>\n",
              "      <td>NaN</td>\n",
              "      <td>NaN</td>\n",
              "      <td>-2.33</td>\n",
              "      <td>NaN</td>\n",
              "      <td>NaN</td>\n",
              "      <td>NaN</td>\n",
              "      <td>NaN</td>\n",
              "      <td>NaN</td>\n",
              "      <td>0.53</td>\n",
              "      <td>NaN</td>\n",
              "      <td>NaN</td>\n",
              "      <td>NaN</td>\n",
              "      <td>NaN</td>\n",
              "      <td>NaN</td>\n",
              "      <td>NaN</td>\n",
              "    </tr>\n",
              "    <tr>\n",
              "      <th>4</th>\n",
              "      <td>8.50</td>\n",
              "      <td>4.61</td>\n",
              "      <td>-4.17</td>\n",
              "      <td>-5.39</td>\n",
              "      <td>1.36</td>\n",
              "      <td>1.60</td>\n",
              "      <td>NaN</td>\n",
              "      <td>4.61</td>\n",
              "      <td>-0.44</td>\n",
              "      <td>5.73</td>\n",
              "      <td>8.25</td>\n",
              "      <td>6.84</td>\n",
              "      <td>-3.93</td>\n",
              "      <td>7.23</td>\n",
              "      <td>-2.33</td>\n",
              "      <td>-9.66</td>\n",
              "      <td>2.72</td>\n",
              "      <td>-1.36</td>\n",
              "      <td>2.57</td>\n",
              "      <td>4.51</td>\n",
              "      <td>NaN</td>\n",
              "      <td>6.12</td>\n",
              "      <td>8.30</td>\n",
              "      <td>-1.26</td>\n",
              "      <td>7.77</td>\n",
              "      <td>1.89</td>\n",
              "      <td>-1.17</td>\n",
              "      <td>5.68</td>\n",
              "      <td>8.45</td>\n",
              "      <td>4.61</td>\n",
              "      <td>8.06</td>\n",
              "      <td>-9.47</td>\n",
              "      <td>7.28</td>\n",
              "      <td>5.68</td>\n",
              "      <td>2.48</td>\n",
              "      <td>3.20</td>\n",
              "      <td>-1.26</td>\n",
              "      <td>6.80</td>\n",
              "      <td>NaN</td>\n",
              "      <td>2.48</td>\n",
              "      <td>...</td>\n",
              "      <td>7.38</td>\n",
              "      <td>6.17</td>\n",
              "      <td>4.71</td>\n",
              "      <td>-2.28</td>\n",
              "      <td>7.38</td>\n",
              "      <td>4.56</td>\n",
              "      <td>7.14</td>\n",
              "      <td>4.22</td>\n",
              "      <td>3.01</td>\n",
              "      <td>3.83</td>\n",
              "      <td>NaN</td>\n",
              "      <td>NaN</td>\n",
              "      <td>NaN</td>\n",
              "      <td>NaN</td>\n",
              "      <td>NaN</td>\n",
              "      <td>NaN</td>\n",
              "      <td>4.13</td>\n",
              "      <td>NaN</td>\n",
              "      <td>NaN</td>\n",
              "      <td>NaN</td>\n",
              "      <td>5.24</td>\n",
              "      <td>5.92</td>\n",
              "      <td>0.87</td>\n",
              "      <td>7.28</td>\n",
              "      <td>3.93</td>\n",
              "      <td>NaN</td>\n",
              "      <td>6.31</td>\n",
              "      <td>4.71</td>\n",
              "      <td>2.82</td>\n",
              "      <td>2.96</td>\n",
              "      <td>5.19</td>\n",
              "      <td>5.58</td>\n",
              "      <td>4.27</td>\n",
              "      <td>5.19</td>\n",
              "      <td>5.73</td>\n",
              "      <td>1.55</td>\n",
              "      <td>3.11</td>\n",
              "      <td>6.55</td>\n",
              "      <td>NaN</td>\n",
              "      <td>1.60</td>\n",
              "    </tr>\n",
              "  </tbody>\n",
              "</table>\n",
              "<p>5 rows × 100 columns</p>\n",
              "</div>"
            ],
            "text/plain": [
              "     0     1     2     3     4     5   ...    94    95    96    97    98    99\n",
              "0 -7.82  8.79 -9.66 -8.16 -7.52 -8.50  ...   NaN   NaN   NaN   NaN   NaN   NaN\n",
              "1  4.08 -0.29  6.36   NaN -2.38   NaN  ... -0.19 -2.14  3.06  0.34 -4.32  1.07\n",
              "2   NaN   NaN   NaN   NaN  9.03  9.27  ...   NaN   NaN   NaN   NaN   NaN   NaN\n",
              "3   NaN  8.35   NaN   NaN   NaN  8.16  ...   NaN   NaN   NaN   NaN   NaN   NaN\n",
              "4  8.50  4.61 -4.17 -5.39  1.36  1.60  ...  5.73  1.55  3.11  6.55   NaN  1.60\n",
              "\n",
              "[5 rows x 100 columns]"
            ]
          },
          "metadata": {
            "tags": []
          },
          "execution_count": 16
        }
      ]
    },
    {
      "cell_type": "markdown",
      "metadata": {
        "id": "qkkLmzXhIQQE"
      },
      "source": [
        "**Training**"
      ]
    },
    {
      "cell_type": "code",
      "metadata": {
        "id": "wCY9zJr4ITfN"
      },
      "source": [
        "n_latent_factors = 2\n",
        "\n",
        "user_ratings = data.values\n",
        "# Initialise as random values\n",
        "latent_user_preferences = np.random.random((user_ratings.shape[0], n_latent_factors))\n",
        "latent_item_features = np.random.random((user_ratings.shape[1], n_latent_factors))"
      ],
      "execution_count": null,
      "outputs": []
    },
    {
      "cell_type": "code",
      "metadata": {
        "id": "oCkvyN7MITh8"
      },
      "source": [
        "def predict_rating(user_id, item_id):\n",
        "    \"\"\" Predict a rating given a user_id and an item_id.\n",
        "    \"\"\"\n",
        "    user_preference = latent_user_preferences[user_id]\n",
        "    item_preference = latent_item_features[item_id]\n",
        "    return user_preference.dot(item_preference)\n",
        "\n",
        "\n",
        "def train(user_id, item_id, rating, alpha=0.0001):\n",
        "    #print(item_id)\n",
        "    predicted_rating = predict_rating(user_id, item_id)\n",
        "    err =  predicted_rating - rating\n",
        "    #print(err)\n",
        "    user_pref_values = latent_user_preferences[user_id]\n",
        "    latent_user_preferences[user_id] -= alpha * err * latent_item_features[item_id]\n",
        "    latent_item_features[item_id] -= alpha * err * user_pref_values\n",
        "    return err\n",
        "    \n",
        "\n",
        "def sgd(iterations):\n",
        "    \"\"\" Iterate over all users and all items and train for \n",
        "        a certain number of iterations\n",
        "    \"\"\"\n",
        "    mse_history = []\n",
        "    for iteration in range(iterations):\n",
        "        error = []\n",
        "        for user_id in range(latent_user_preferences.shape[0]):\n",
        "            for item_id in range(latent_item_features.shape[0]):\n",
        "                rating = user_ratings[user_id, item_id]\n",
        "                if not np.isnan(rating):\n",
        "                    err = train(user_id, item_id, rating)\n",
        "                    error.append(err)\n",
        "        mse = (np.array(error) ** 2).mean()   \n",
        "        if (iteration % 2) == 0:\n",
        "            print('Iteration %d/%d:\\tMSE=%.6f' % (iteration, iterations, mse))\n",
        "            mse_history.append(mse)\n",
        "    return mse_history"
      ],
      "execution_count": 67,
      "outputs": []
    },
    {
      "cell_type": "code",
      "metadata": {
        "colab": {
          "base_uri": "https://localhost:8080/"
        },
        "id": "21PNBvhoITk2",
        "outputId": "8267dbde-5c19-4505-98e5-df9104090a48"
      },
      "source": [
        "num_iter = 10\n",
        "hist = sgd(num_iter)  # Note how the MSE decreases with the number of iterations"
      ],
      "execution_count": 19,
      "outputs": [
        {
          "output_type": "stream",
          "text": [
            "Iteration 0/10:\tMSE=26.126720\n",
            "Iteration 2/10:\tMSE=24.919272\n",
            "Iteration 4/10:\tMSE=24.450319\n",
            "Iteration 6/10:\tMSE=23.976154\n",
            "Iteration 8/10:\tMSE=23.499200\n"
          ],
          "name": "stdout"
        }
      ]
    },
    {
      "cell_type": "code",
      "metadata": {
        "colab": {
          "base_uri": "https://localhost:8080/",
          "height": 279
        },
        "id": "vsPNQU6cITnR",
        "outputId": "47fbd8d9-500d-4670-b46a-a882e583f835"
      },
      "source": [
        "plt.figure()\n",
        "plt.plot(np.arange(0, num_iter, 2), hist)\n",
        "plt.xlabel(\"Iterations\")\n",
        "plt.ylabel(\"MSE\")\n",
        "plt.show()"
      ],
      "execution_count": 20,
      "outputs": [
        {
          "output_type": "display_data",
          "data": {
            "image/png": "[encoded data removed]",
            "text/plain": [
              "<Figure size 432x288 with 1 Axes>"
            ]
          },
          "metadata": {
            "tags": [],
            "needs_background": "light"
          }
        }
      ]
    },
    {
      "cell_type": "markdown",
      "metadata": {
        "id": "ni9HUazdIb84"
      },
      "source": [
        "**Predicting**"
      ]
    },
    {
      "cell_type": "code",
      "metadata": {
        "colab": {
          "base_uri": "https://localhost:8080/"
        },
        "id": "WEKh0G8LITqJ",
        "outputId": "cd6e7c49-03c5-4e58-ceca-43d810c9056b"
      },
      "source": [
        "predictions = latent_user_preferences.dot(latent_item_features.T)\n",
        "predictions"
      ],
      "execution_count": 69,
      "outputs": [
        {
          "output_type": "execute_result",
          "data": {
            "text/plain": [
              "array([[1.01665971, 0.69850008, 0.71123099, ..., 1.37560862, 0.42372363,\n",
              "        1.77389137],\n",
              "       [0.86306795, 0.56017778, 0.55609125, ..., 1.01545276, 0.42523041,\n",
              "        1.33906635],\n",
              "       [1.39138077, 0.89288941, 0.88167282, ..., 1.58970488, 0.70588971,\n",
              "        2.10690756],\n",
              "       ...,\n",
              "       [0.88644669, 0.58443078, 0.58435663, ..., 1.0851299 , 0.41861115,\n",
              "        1.42152312],\n",
              "       [1.35139713, 0.90953731, 0.91785605, ..., 1.74053129, 0.60108476,\n",
              "        2.26157411],\n",
              "       [1.85987505, 1.22125493, 1.21884989, ..., 2.25372956, 0.88819378,\n",
              "        2.95733451]])"
            ]
          },
          "metadata": {
            "tags": []
          },
          "execution_count": 69
        }
      ]
    },
    {
      "cell_type": "markdown",
      "metadata": {
        "id": "FDp7FauZIgcM"
      },
      "source": [
        "**Predicting on Validation set**"
      ]
    },
    {
      "cell_type": "code",
      "metadata": {
        "id": "msZQssanIdgB",
        "outputId": "98719205-6dce-48cc-b190-df17055d326e",
        "colab": {
          "base_uri": "https://localhost:8080/",
          "height": 408
        }
      },
      "source": [
        "val_data=pd.read_csv('https://raw.githubusercontent.com/albanda/CE888/master/lab4-recommender/jester-data-1.csv', header=None)\n",
        "val_data.drop(columns=[0], inplace=True)\n",
        "val_data=pd.DataFrame(val_data.loc[:, 0:].replace(99.00, np.NaN))\n",
        "\n",
        "v_data=pd.DataFrame(new_arr)\n",
        "v_data=pd.DataFrame(v_data.loc[:, 0:].replace(99.00, np.NaN))\n",
        "\n",
        "v_user_ratings=v_data.values\n",
        "\n",
        "v_values = [zip(v_user_ratings[i], predictions[i]) for i in range(predictions.shape[0])]\n",
        "v_comparison_data = pd.DataFrame(v_values)\n",
        "v_comparison_data.columns = data.columns\n",
        "\n",
        "# v_comparison_data"
      ],
      "execution_count": 68,
      "outputs": [
        {
          "output_type": "error",
          "ename": "ValueError",
          "evalue": "ignored",
          "traceback": [
            "\u001b[0;31m---------------------------------------------------------------------------\u001b[0m",
            "\u001b[0;31mValueError\u001b[0m                                Traceback (most recent call last)",
            "\u001b[0;32m<ipython-input-68-f6242fc35814>\u001b[0m in \u001b[0;36m<module>\u001b[0;34m()\u001b[0m\n\u001b[1;32m     10\u001b[0m \u001b[0mv_values\u001b[0m \u001b[0;34m=\u001b[0m \u001b[0;34m[\u001b[0m\u001b[0mzip\u001b[0m\u001b[0;34m(\u001b[0m\u001b[0mv_user_ratings\u001b[0m\u001b[0;34m[\u001b[0m\u001b[0mi\u001b[0m\u001b[0;34m]\u001b[0m\u001b[0;34m,\u001b[0m \u001b[0mpredictions\u001b[0m\u001b[0;34m[\u001b[0m\u001b[0mi\u001b[0m\u001b[0;34m]\u001b[0m\u001b[0;34m)\u001b[0m \u001b[0;32mfor\u001b[0m \u001b[0mi\u001b[0m \u001b[0;32min\u001b[0m \u001b[0mrange\u001b[0m\u001b[0;34m(\u001b[0m\u001b[0mpredictions\u001b[0m\u001b[0;34m.\u001b[0m\u001b[0mshape\u001b[0m\u001b[0;34m[\u001b[0m\u001b[0;36m0\u001b[0m\u001b[0;34m]\u001b[0m\u001b[0;34m)\u001b[0m\u001b[0;34m]\u001b[0m\u001b[0;34m\u001b[0m\u001b[0;34m\u001b[0m\u001b[0m\n\u001b[1;32m     11\u001b[0m \u001b[0mv_comparison_data\u001b[0m \u001b[0;34m=\u001b[0m \u001b[0mpd\u001b[0m\u001b[0;34m.\u001b[0m\u001b[0mDataFrame\u001b[0m\u001b[0;34m(\u001b[0m\u001b[0mv_values\u001b[0m\u001b[0;34m)\u001b[0m\u001b[0;34m\u001b[0m\u001b[0;34m\u001b[0m\u001b[0m\n\u001b[0;32m---> 12\u001b[0;31m \u001b[0mv_comparison_data\u001b[0m\u001b[0;34m.\u001b[0m\u001b[0mcolumns\u001b[0m \u001b[0;34m=\u001b[0m \u001b[0mdata\u001b[0m\u001b[0;34m.\u001b[0m\u001b[0mcolumns\u001b[0m\u001b[0;34m\u001b[0m\u001b[0;34m\u001b[0m\u001b[0m\n\u001b[0m\u001b[1;32m     13\u001b[0m \u001b[0;34m\u001b[0m\u001b[0m\n\u001b[1;32m     14\u001b[0m \u001b[0;31m# v_comparison_data\u001b[0m\u001b[0;34m\u001b[0m\u001b[0;34m\u001b[0m\u001b[0;34m\u001b[0m\u001b[0m\n",
            "\u001b[0;32m/usr/local/lib/python3.7/dist-packages/pandas/core/generic.py\u001b[0m in \u001b[0;36m__setattr__\u001b[0;34m(self, name, value)\u001b[0m\n\u001b[1;32m   5152\u001b[0m         \u001b[0;32mtry\u001b[0m\u001b[0;34m:\u001b[0m\u001b[0;34m\u001b[0m\u001b[0;34m\u001b[0m\u001b[0m\n\u001b[1;32m   5153\u001b[0m             \u001b[0mobject\u001b[0m\u001b[0;34m.\u001b[0m\u001b[0m__getattribute__\u001b[0m\u001b[0;34m(\u001b[0m\u001b[0mself\u001b[0m\u001b[0;34m,\u001b[0m \u001b[0mname\u001b[0m\u001b[0;34m)\u001b[0m\u001b[0;34m\u001b[0m\u001b[0;34m\u001b[0m\u001b[0m\n\u001b[0;32m-> 5154\u001b[0;31m             \u001b[0;32mreturn\u001b[0m \u001b[0mobject\u001b[0m\u001b[0;34m.\u001b[0m\u001b[0m__setattr__\u001b[0m\u001b[0;34m(\u001b[0m\u001b[0mself\u001b[0m\u001b[0;34m,\u001b[0m \u001b[0mname\u001b[0m\u001b[0;34m,\u001b[0m \u001b[0mvalue\u001b[0m\u001b[0;34m)\u001b[0m\u001b[0;34m\u001b[0m\u001b[0;34m\u001b[0m\u001b[0m\n\u001b[0m\u001b[1;32m   5155\u001b[0m         \u001b[0;32mexcept\u001b[0m \u001b[0mAttributeError\u001b[0m\u001b[0;34m:\u001b[0m\u001b[0;34m\u001b[0m\u001b[0;34m\u001b[0m\u001b[0m\n\u001b[1;32m   5156\u001b[0m             \u001b[0;32mpass\u001b[0m\u001b[0;34m\u001b[0m\u001b[0;34m\u001b[0m\u001b[0m\n",
            "\u001b[0;32mpandas/_libs/properties.pyx\u001b[0m in \u001b[0;36mpandas._libs.properties.AxisProperty.__set__\u001b[0;34m()\u001b[0m\n",
            "\u001b[0;32m/usr/local/lib/python3.7/dist-packages/pandas/core/generic.py\u001b[0m in \u001b[0;36m_set_axis\u001b[0;34m(self, axis, labels)\u001b[0m\n\u001b[1;32m    562\u001b[0m     \u001b[0;32mdef\u001b[0m \u001b[0m_set_axis\u001b[0m\u001b[0;34m(\u001b[0m\u001b[0mself\u001b[0m\u001b[0;34m,\u001b[0m \u001b[0maxis\u001b[0m\u001b[0;34m:\u001b[0m \u001b[0mint\u001b[0m\u001b[0;34m,\u001b[0m \u001b[0mlabels\u001b[0m\u001b[0;34m:\u001b[0m \u001b[0mIndex\u001b[0m\u001b[0;34m)\u001b[0m \u001b[0;34m->\u001b[0m \u001b[0;32mNone\u001b[0m\u001b[0;34m:\u001b[0m\u001b[0;34m\u001b[0m\u001b[0;34m\u001b[0m\u001b[0m\n\u001b[1;32m    563\u001b[0m         \u001b[0mlabels\u001b[0m \u001b[0;34m=\u001b[0m \u001b[0mensure_index\u001b[0m\u001b[0;34m(\u001b[0m\u001b[0mlabels\u001b[0m\u001b[0;34m)\u001b[0m\u001b[0;34m\u001b[0m\u001b[0;34m\u001b[0m\u001b[0m\n\u001b[0;32m--> 564\u001b[0;31m         \u001b[0mself\u001b[0m\u001b[0;34m.\u001b[0m\u001b[0m_mgr\u001b[0m\u001b[0;34m.\u001b[0m\u001b[0mset_axis\u001b[0m\u001b[0;34m(\u001b[0m\u001b[0maxis\u001b[0m\u001b[0;34m,\u001b[0m \u001b[0mlabels\u001b[0m\u001b[0;34m)\u001b[0m\u001b[0;34m\u001b[0m\u001b[0;34m\u001b[0m\u001b[0m\n\u001b[0m\u001b[1;32m    565\u001b[0m         \u001b[0mself\u001b[0m\u001b[0;34m.\u001b[0m\u001b[0m_clear_item_cache\u001b[0m\u001b[0;34m(\u001b[0m\u001b[0;34m)\u001b[0m\u001b[0;34m\u001b[0m\u001b[0;34m\u001b[0m\u001b[0m\n\u001b[1;32m    566\u001b[0m \u001b[0;34m\u001b[0m\u001b[0m\n",
            "\u001b[0;32m/usr/local/lib/python3.7/dist-packages/pandas/core/internals/managers.py\u001b[0m in \u001b[0;36mset_axis\u001b[0;34m(self, axis, new_labels)\u001b[0m\n\u001b[1;32m    225\u001b[0m         \u001b[0;32mif\u001b[0m \u001b[0mnew_len\u001b[0m \u001b[0;34m!=\u001b[0m \u001b[0mold_len\u001b[0m\u001b[0;34m:\u001b[0m\u001b[0;34m\u001b[0m\u001b[0;34m\u001b[0m\u001b[0m\n\u001b[1;32m    226\u001b[0m             raise ValueError(\n\u001b[0;32m--> 227\u001b[0;31m                 \u001b[0;34mf\"Length mismatch: Expected axis has {old_len} elements, new \"\u001b[0m\u001b[0;34m\u001b[0m\u001b[0;34m\u001b[0m\u001b[0m\n\u001b[0m\u001b[1;32m    228\u001b[0m                 \u001b[0;34mf\"values have {new_len} elements\"\u001b[0m\u001b[0;34m\u001b[0m\u001b[0;34m\u001b[0m\u001b[0m\n\u001b[1;32m    229\u001b[0m             )\n",
            "\u001b[0;31mValueError\u001b[0m: Length mismatch: Expected axis has 100 elements, new values have 101 elements"
          ]
        }
      ]
    },
    {
      "cell_type": "code",
      "metadata": {
        "colab": {
          "base_uri": "https://localhost:8080/"
        },
        "id": "msPh_xmMIdio",
        "outputId": "07d08bac-ee1a-40e3-cac8-7fd8eb68a095"
      },
      "source": [
        "val_user_ratings=val_data.values\n",
        "\n",
        "error = []\n",
        "\n",
        "for user_id in range(latent_user_preferences.shape[0]):\n",
        "    for item_id in range(latent_item_features.shape[0]):\n",
        "        rating = val_user_ratings[user_id, item_id]\n",
        "        \n",
        "        if not np.isnan(rating):\n",
        "             val_predicted_rating = predict_rating(user_id, item_id)\n",
        "             err =  val_predicted_rating - rating\n",
        "             \n",
        "            #  err = train(user_id, item_id, rating)\n",
        "             error.append(err)\n",
        "val_mse = (np.array(error) ** 2).mean()\n",
        "print('MSE on Validation Set :', val_mse)"
      ],
      "execution_count": 23,
      "outputs": [
        {
          "output_type": "stream",
          "text": [
            "MSE on Validation Set : 23.133871466582754\n"
          ],
          "name": "stdout"
        }
      ]
    },
    {
      "cell_type": "markdown",
      "metadata": {
        "id": "FOYmUSLXInCY"
      },
      "source": [
        "**Predicting on Test Set**"
      ]
    },
    {
      "cell_type": "code",
      "metadata": {
        "colab": {
          "base_uri": "https://localhost:8080/",
          "height": 609
        },
        "id": "dw6jU1uDIdld",
        "outputId": "8ea67eff-d9f6-4239-f12f-0a66dd195bdd"
      },
      "source": [
        "test_user_ratings=test_data.values\n",
        "values = [zip(test_user_ratings[i], predictions[i]) for i in range(predictions.shape[0])]\n",
        "comparison_data = pd.DataFrame(values)\n",
        "comparison_data.columns = data.columns\n",
        "comparison_data"
      ],
      "execution_count": 24,
      "outputs": [
        {
          "output_type": "execute_result",
          "data": {
            "text/html": [
              "<div>\n",
              "<style scoped>\n",
              "    .dataframe tbody tr th:only-of-type {\n",
              "        vertical-align: middle;\n",
              "    }\n",
              "\n",
              "    .dataframe tbody tr th {\n",
              "        vertical-align: top;\n",
              "    }\n",
              "\n",
              "    .dataframe thead th {\n",
              "        text-align: right;\n",
              "    }\n",
              "</style>\n",
              "<table border=\"1\" class=\"dataframe\">\n",
              "  <thead>\n",
              "    <tr style=\"text-align: right;\">\n",
              "      <th></th>\n",
              "      <th>1</th>\n",
              "      <th>2</th>\n",
              "      <th>3</th>\n",
              "      <th>4</th>\n",
              "      <th>5</th>\n",
              "      <th>6</th>\n",
              "      <th>7</th>\n",
              "      <th>8</th>\n",
              "      <th>9</th>\n",
              "      <th>10</th>\n",
              "      <th>11</th>\n",
              "      <th>12</th>\n",
              "      <th>13</th>\n",
              "      <th>14</th>\n",
              "      <th>15</th>\n",
              "      <th>16</th>\n",
              "      <th>17</th>\n",
              "      <th>18</th>\n",
              "      <th>19</th>\n",
              "      <th>20</th>\n",
              "      <th>21</th>\n",
              "      <th>22</th>\n",
              "      <th>23</th>\n",
              "      <th>24</th>\n",
              "      <th>25</th>\n",
              "      <th>26</th>\n",
              "      <th>27</th>\n",
              "      <th>28</th>\n",
              "      <th>29</th>\n",
              "      <th>30</th>\n",
              "      <th>31</th>\n",
              "      <th>32</th>\n",
              "      <th>33</th>\n",
              "      <th>34</th>\n",
              "      <th>35</th>\n",
              "      <th>36</th>\n",
              "      <th>37</th>\n",
              "      <th>38</th>\n",
              "      <th>39</th>\n",
              "      <th>40</th>\n",
              "      <th>...</th>\n",
              "      <th>61</th>\n",
              "      <th>62</th>\n",
              "      <th>63</th>\n",
              "      <th>64</th>\n",
              "      <th>65</th>\n",
              "      <th>66</th>\n",
              "      <th>67</th>\n",
              "      <th>68</th>\n",
              "      <th>69</th>\n",
              "      <th>70</th>\n",
              "      <th>71</th>\n",
              "      <th>72</th>\n",
              "      <th>73</th>\n",
              "      <th>74</th>\n",
              "      <th>75</th>\n",
              "      <th>76</th>\n",
              "      <th>77</th>\n",
              "      <th>78</th>\n",
              "      <th>79</th>\n",
              "      <th>80</th>\n",
              "      <th>81</th>\n",
              "      <th>82</th>\n",
              "      <th>83</th>\n",
              "      <th>84</th>\n",
              "      <th>85</th>\n",
              "      <th>86</th>\n",
              "      <th>87</th>\n",
              "      <th>88</th>\n",
              "      <th>89</th>\n",
              "      <th>90</th>\n",
              "      <th>91</th>\n",
              "      <th>92</th>\n",
              "      <th>93</th>\n",
              "      <th>94</th>\n",
              "      <th>95</th>\n",
              "      <th>96</th>\n",
              "      <th>97</th>\n",
              "      <th>98</th>\n",
              "      <th>99</th>\n",
              "      <th>100</th>\n",
              "    </tr>\n",
              "  </thead>\n",
              "  <tbody>\n",
              "    <tr>\n",
              "      <th>0</th>\n",
              "      <td>(-7.82, 1.0166597061200338)</td>\n",
              "      <td>(8.79, 0.6985000804520969)</td>\n",
              "      <td>(-9.66, 0.7112309868990819)</td>\n",
              "      <td>(-8.16, -0.6298167458489917)</td>\n",
              "      <td>(-7.52, 0.650890755138105)</td>\n",
              "      <td>(-8.5, 2.0030568343577144)</td>\n",
              "      <td>(-9.85, 0.08388621232001627)</td>\n",
              "      <td>(4.17, -0.3955889737424009)</td>\n",
              "      <td>(-8.98, -0.169033011321544)</td>\n",
              "      <td>(-4.76, 1.412024918748699)</td>\n",
              "      <td>(-8.5, 1.962679664149643)</td>\n",
              "      <td>(-6.75, 1.9668939691960057)</td>\n",
              "      <td>(-7.18, -1.2338321424237195)</td>\n",
              "      <td>(8.45, 1.9411444225686065)</td>\n",
              "      <td>(-7.18, -1.3150840888796729)</td>\n",
              "      <td>(-7.52, -2.469607367014773)</td>\n",
              "      <td>(-7.43, -0.6098536577038237)</td>\n",
              "      <td>(-9.81, -0.272127306442474)</td>\n",
              "      <td>(-9.85, 0.5511638887041375)</td>\n",
              "      <td>(-9.85, -0.36368688472715405)</td>\n",
              "      <td>(-9.37, 2.3848402474646884)</td>\n",
              "      <td>(1.5, 1.2396753428851048)</td>\n",
              "      <td>(-4.37, 0.5806505587627111)</td>\n",
              "      <td>(-9.81, -0.9467634231688206)</td>\n",
              "      <td>(-8.5, 0.9226571525169163)</td>\n",
              "      <td>(1.12, 1.8606647672778547)</td>\n",
              "      <td>(7.82, 3.1347639247619328)</td>\n",
              "      <td>(2.86, 1.8663124517117495)</td>\n",
              "      <td>(9.13, 3.0700544886196135)</td>\n",
              "      <td>(-7.43, 0.19574501171456915)</td>\n",
              "      <td>(2.14, 2.3978354992384414)</td>\n",
              "      <td>(-4.08, 3.1802963830953557)</td>\n",
              "      <td>(-9.08, -0.6755849604280753)</td>\n",
              "      <td>(7.82, 1.4672108966363706)</td>\n",
              "      <td>(5.05, 3.092573356824171)</td>\n",
              "      <td>(4.95, 3.224375114485199)</td>\n",
              "      <td>(-9.17, -0.8481076588253215)</td>\n",
              "      <td>(-8.4, 1.5526060462754123)</td>\n",
              "      <td>(-8.4, 1.5916007374564867)</td>\n",
              "      <td>(-8.4, 1.5281870843346925)</td>\n",
              "      <td>...</td>\n",
              "      <td>(8.59, 2.722000764466875)</td>\n",
              "      <td>(3.59, 3.0142610098792804)</td>\n",
              "      <td>(-6.84, 0.7620174937852842)</td>\n",
              "      <td>(-9.03, -0.14718801038148432)</td>\n",
              "      <td>(2.82, 2.4866247129979278)</td>\n",
              "      <td>(-1.36, 2.7402659080255543)</td>\n",
              "      <td>(-9.08, -0.28540036765020627)</td>\n",
              "      <td>(8.3, 2.830927353535528)</td>\n",
              "      <td>(5.68, 2.893335568212649)</td>\n",
              "      <td>(-4.81, 0.9604412997946663)</td>\n",
              "      <td>(nan, -0.030192345292775116)</td>\n",
              "      <td>(nan, 2.733289411025657)</td>\n",
              "      <td>(nan, 1.5810456730934008)</td>\n",
              "      <td>(nan, -0.6924407824668226)</td>\n",
              "      <td>(nan, 0.43030387117720115)</td>\n",
              "      <td>(nan, 2.5533107701122564)</td>\n",
              "      <td>(nan, 1.1988652870923107)</td>\n",
              "      <td>(-9.42, 1.9905613349628568)</td>\n",
              "      <td>(nan, 0.9622204842060521)</td>\n",
              "      <td>(nan, 1.7383230610956393)</td>\n",
              "      <td>(nan, 2.156145992356383)</td>\n",
              "      <td>(-7.72, 1.3530829315306425)</td>\n",
              "      <td>(nan, 2.33121171939228)</td>\n",
              "      <td>(nan, 1.2603715642793853)</td>\n",
              "      <td>(nan, 1.4084066581132888)</td>\n",
              "      <td>(nan, 0.7349365117010127)</td>\n",
              "      <td>(nan, 2.1486569164750113)</td>\n",
              "      <td>(nan, 2.178611101599527)</td>\n",
              "      <td>(nan, 3.34639358465598)</td>\n",
              "      <td>(nan, 1.0821998330140412)</td>\n",
              "      <td>(2.82, 2.094068062201177)</td>\n",
              "      <td>(nan, 1.4743109372931134)</td>\n",
              "      <td>(nan, 2.573997219509405)</td>\n",
              "      <td>(nan, 1.417587276496191)</td>\n",
              "      <td>(nan, 1.275294951130727)</td>\n",
              "      <td>(nan, 1.721397472395011)</td>\n",
              "      <td>(-5.63, 1.8248659630672954)</td>\n",
              "      <td>(nan, 1.3756086247696444)</td>\n",
              "      <td>(nan, 0.4237236301468294)</td>\n",
              "      <td>(nan, 1.773891366523853)</td>\n",
              "    </tr>\n",
              "    <tr>\n",
              "      <th>1</th>\n",
              "      <td>(4.08, 0.863067950750945)</td>\n",
              "      <td>(-0.29, 0.5601777821336898)</td>\n",
              "      <td>(6.36, 0.5560912477956031)</td>\n",
              "      <td>(4.37, -0.47118448032607857)</td>\n",
              "      <td>(-2.38, 0.573352445786379)</td>\n",
              "      <td>(-9.66, 1.4626641643971616)</td>\n",
              "      <td>(-0.73, 0.020220068478483653)</td>\n",
              "      <td>(-5.34, -0.23817778897768646)</td>\n",
              "      <td>(8.88, -0.019551923265585802)</td>\n",
              "      <td>(9.22, 1.0734261283400897)</td>\n",
              "      <td>(6.75, 1.5591107429762308)</td>\n",
              "      <td>(8.64, 1.454909370988665)</td>\n",
              "      <td>(4.42, -0.9223712811776795)</td>\n",
              "      <td>(7.43, 1.4320575865839735)</td>\n",
              "      <td>(4.56, -0.9762651363761318)</td>\n",
              "      <td>(-0.97, -1.8159473826613974)</td>\n",
              "      <td>(4.66, -0.42806164577128497)</td>\n",
              "      <td>(-0.68, -0.20851521283330265)</td>\n",
              "      <td>(3.3, 0.41998716004414455)</td>\n",
              "      <td>(-1.21, -0.2383159499880503)</td>\n",
              "      <td>(0.87, 1.8393820912595291)</td>\n",
              "      <td>(8.64, 0.9962673444778122)</td>\n",
              "      <td>(8.35, 0.4595549470124783)</td>\n",
              "      <td>(9.17, -0.7218221544184923)</td>\n",
              "      <td>(0.05, 0.7248285073259031)</td>\n",
              "      <td>(7.57, 1.3387224774259199)</td>\n",
              "      <td>(4.71, 2.3976925120499266)</td>\n",
              "      <td>(0.87, 1.413264634401153)</td>\n",
              "      <td>(-0.39, 2.269857043053798)</td>\n",
              "      <td>(6.99, 0.18938694086975413)</td>\n",
              "      <td>(6.5, 1.8682750276637836)</td>\n",
              "      <td>(-0.92, 2.384532790205035)</td>\n",
              "      <td>(7.14, -0.41779026445877415)</td>\n",
              "      <td>(9.03, 1.085563799785975)</td>\n",
              "      <td>(-1.8, 2.3245132589904856)</td>\n",
              "      <td>(0.73, 2.420589174281862)</td>\n",
              "      <td>(7.09, -0.5294313163517486)</td>\n",
              "      <td>(3.4, 1.17813441527202)</td>\n",
              "      <td>(-0.87, 1.2046272228463835)</td>\n",
              "      <td>(7.91, 1.1189499362367854)</td>\n",
              "      <td>...</td>\n",
              "      <td>(-6.7, 2.034861205304736)</td>\n",
              "      <td>(-3.35, 2.2895709793226255)</td>\n",
              "      <td>(-9.03, 0.6191593052690936)</td>\n",
              "      <td>(4.47, -0.06763559144648831)</td>\n",
              "      <td>(4.08, 1.9345812168785494)</td>\n",
              "      <td>(-3.83, 2.045217695930833)</td>\n",
              "      <td>(8.74, -0.161946106426592)</td>\n",
              "      <td>(1.12, 2.0779454128262964)</td>\n",
              "      <td>(0.78, 2.1013396079182027)</td>\n",
              "      <td>(7.52, 0.7724762727467663)</td>\n",
              "      <td>(-5.0, -0.03555863400605543)</td>\n",
              "      <td>(2.77, 2.1286445047772604)</td>\n",
              "      <td>(8.3, 1.172895048899872)</td>\n",
              "      <td>(7.77, -0.4944407407348914)</td>\n",
              "      <td>(7.33, 0.2646629218490155)</td>\n",
              "      <td>(6.21, 1.9476529376175264)</td>\n",
              "      <td>(7.72, 0.9177432177515776)</td>\n",
              "      <td>(8.98, 1.5354686132830238)</td>\n",
              "      <td>(8.64, 0.5944609691629057)</td>\n",
              "      <td>(8.2, 1.2720272586639942)</td>\n",
              "      <td>(3.93, 1.559916839089656)</td>\n",
              "      <td>(4.85, 0.9713113622707361)</td>\n",
              "      <td>(4.85, 1.71280982706003)</td>\n",
              "      <td>(6.07, 0.886265724907203)</td>\n",
              "      <td>(8.98, 1.0534023457420307)</td>\n",
              "      <td>(4.51, 0.5328406008486433)</td>\n",
              "      <td>(-0.05, 1.5773468413194704)</td>\n",
              "      <td>(3.69, 1.677828366573026)</td>\n",
              "      <td>(4.56, 2.5363892198442453)</td>\n",
              "      <td>(0.58, 0.8386250168427001)</td>\n",
              "      <td>(2.82, 1.6118449667900252)</td>\n",
              "      <td>(-4.95, 1.1682307292999494)</td>\n",
              "      <td>(-0.29, 1.9495712347765928)</td>\n",
              "      <td>(7.86, 1.0534353805474823)</td>\n",
              "      <td>(-0.19, 1.0026770072033244)</td>\n",
              "      <td>(-2.14, 1.3242288681855436)</td>\n",
              "      <td>(3.06, 1.3960905759510491)</td>\n",
              "      <td>(0.34, 1.015452756280155)</td>\n",
              "      <td>(-4.32, 0.4252304137030053)</td>\n",
              "      <td>(1.07, 1.3390663543704018)</td>\n",
              "    </tr>\n",
              "    <tr>\n",
              "      <th>2</th>\n",
              "      <td>(nan, 1.391380771261785)</td>\n",
              "      <td>(nan, 0.8928894121231293)</td>\n",
              "      <td>(nan, 0.8816728154516698)</td>\n",
              "      <td>(nan, -0.7398841292456533)</td>\n",
              "      <td>(9.03, 0.9307830160260849)</td>\n",
              "      <td>(9.27, 2.284116106443678)</td>\n",
              "      <td>(9.03, 0.01675064373883803)</td>\n",
              "      <td>(9.27, -0.35362902259459983)</td>\n",
              "      <td>(nan, 0.006997170736573806)</td>\n",
              "      <td>(nan, 1.6915745614961395)</td>\n",
              "      <td>(7.33, 2.4802251216451023)</td>\n",
              "      <td>(7.57, 2.278744754735198)</td>\n",
              "      <td>(9.37, -1.448121562738633)</td>\n",
              "      <td>(6.17, 2.2415962411219543)</td>\n",
              "      <td>(-6.36, -1.530318410162139)</td>\n",
              "      <td>(-6.89, -2.8403603284645995)</td>\n",
              "      <td>(-7.86, -0.6622299048821298)</td>\n",
              "      <td>(9.03, -0.3291620193114108)</td>\n",
              "      <td>(9.03, 0.6621867624716494)</td>\n",
              "      <td>(9.03, -0.3623109554976316)</td>\n",
              "      <td>(7.28, 2.9077857477539837)</td>\n",
              "      <td>(nan, 1.5886745991101368)</td>\n",
              "      <td>(8.25, 0.7304925264739446)</td>\n",
              "      <td>(nan, -1.1382192865182135)</td>\n",
              "      <td>(nan, 1.1503598015415888)</td>\n",
              "      <td>(7.48, 2.083354158757206)</td>\n",
              "      <td>(7.28, 3.7835180767612484)</td>\n",
              "      <td>(7.28, 2.2252011472519326)</td>\n",
              "      <td>(8.93, 3.5547749080423108)</td>\n",
              "      <td>(nan, 0.3125311392028686)</td>\n",
              "      <td>(6.17, 2.9599155578731327)</td>\n",
              "      <td>(7.28, 3.7462011139864537)</td>\n",
              "      <td>(nan, -0.625138158308073)</td>\n",
              "      <td>(nan, 1.7003551481463806)</td>\n",
              "      <td>(8.98, 3.653932389571602)</td>\n",
              "      <td>(7.33, 3.8039051988143795)</td>\n",
              "      <td>(nan, -0.7942983187656806)</td>\n",
              "      <td>(6.17, 1.8558304041933826)</td>\n",
              "      <td>(9.08, 1.8964859589784082)</td>\n",
              "      <td>(7.33, 1.7484668104676957)</td>\n",
              "      <td>...</td>\n",
              "      <td>(6.46, 3.194723919377205)</td>\n",
              "      <td>(7.28, 3.6074019695501254)</td>\n",
              "      <td>(nan, 0.989547967551595)</td>\n",
              "      <td>(nan, -0.09122584783035827)</td>\n",
              "      <td>(7.04, 3.0639916051600067)</td>\n",
              "      <td>(7.28, 3.2098197635982264)</td>\n",
              "      <td>(nan, -0.2361127579386691)</td>\n",
              "      <td>(7.28, 3.2488339233924455)</td>\n",
              "      <td>(8.25, 3.2773543148294775)</td>\n",
              "      <td>(nan, 1.2320135341795828)</td>\n",
              "      <td>(nan, -0.06041040537224594)</td>\n",
              "      <td>(nan, 3.3720814817518097)</td>\n",
              "      <td>(nan, 1.83825282670265)</td>\n",
              "      <td>(nan, -0.7680823492527493)</td>\n",
              "      <td>(nan, 0.39539889535196593)</td>\n",
              "      <td>(8.93, 3.0715343745741013)</td>\n",
              "      <td>(nan, 1.448447066760506)</td>\n",
              "      <td>(nan, 2.427408112120463)</td>\n",
              "      <td>(nan, 0.889238957699281)</td>\n",
              "      <td>(9.08, 1.9873817128047115)</td>\n",
              "      <td>(nan, 2.430735758777772)</td>\n",
              "      <td>(nan, 1.5107681286916916)</td>\n",
              "      <td>(nan, 2.678548277947182)</td>\n",
              "      <td>(nan, 1.3716927661402547)</td>\n",
              "      <td>(nan, 1.6540254309748652)</td>\n",
              "      <td>(nan, 0.8307103189288647)</td>\n",
              "      <td>(nan, 2.46622760204467)</td>\n",
              "      <td>(nan, 2.651540909564315)</td>\n",
              "      <td>(nan, 3.9943864730595116)</td>\n",
              "      <td>(9.03, 1.327089015335636)</td>\n",
              "      <td>(nan, 2.5469653469736144)</td>\n",
              "      <td>(nan, 1.8574420882774076)</td>\n",
              "      <td>(nan, 3.069765658973697)</td>\n",
              "      <td>(9.08, 1.6516669647089717)</td>\n",
              "      <td>(nan, 1.5916027218140445)</td>\n",
              "      <td>(nan, 2.0922252940258477)</td>\n",
              "      <td>(nan, 2.203111414810255)</td>\n",
              "      <td>(nan, 1.589704883814349)</td>\n",
              "      <td>(nan, 0.7058897093478452)</td>\n",
              "      <td>(nan, 2.106907561202925)</td>\n",
              "    </tr>\n",
              "    <tr>\n",
              "      <th>3</th>\n",
              "      <td>(nan, 1.8273905433554838)</td>\n",
              "      <td>(8.35, 1.200099838808814)</td>\n",
              "      <td>(nan, 1.1978164126434592)</td>\n",
              "      <td>(nan, -1.0247947649856288)</td>\n",
              "      <td>(1.8, 1.2050778742827355)</td>\n",
              "      <td>(8.16, 3.1986079771358105)</td>\n",
              "      <td>(-2.82, 0.06461815552028741)</td>\n",
              "      <td>(6.21, -0.5460548562105603)</td>\n",
              "      <td>(nan, -0.09439919472802466)</td>\n",
              "      <td>(1.84, 2.3263574789981116)</td>\n",
              "      <td>(7.33, 3.3469156660790285)</td>\n",
              "      <td>(6.6, 3.172376884593504)</td>\n",
              "      <td>(6.31, -2.0064331185406434)</td>\n",
              "      <td>(8.11, 3.12441670840032)</td>\n",
              "      <td>(-7.23, -2.12699345094716)</td>\n",
              "      <td>(-6.65, -3.964916510203973)</td>\n",
              "      <td>(1.17, -0.9446832738977978)</td>\n",
              "      <td>(-6.6, -0.4511150450509503)</td>\n",
              "      <td>(-3.64, 0.9097342790230809)</td>\n",
              "      <td>(-2.09, -0.5347072059993906)</td>\n",
              "      <td>(5.34, 3.973741877206703)</td>\n",
              "      <td>(nan, 2.1334162129492866)</td>\n",
              "      <td>(nan, 0.987296071720551)</td>\n",
              "      <td>(nan, -1.5633543050630152)</td>\n",
              "      <td>(nan, 1.559683066668131)</td>\n",
              "      <td>(2.91, 2.9374929975212725)</td>\n",
              "      <td>(3.93, 5.189354243261042)</td>\n",
              "      <td>(6.75, 3.06549681768468)</td>\n",
              "      <td>(6.6, 4.949860313467742)</td>\n",
              "      <td>(nan, 0.39106576702108603)</td>\n",
              "      <td>(6.65, 4.02727969907698)</td>\n",
              "      <td>(-6.12, 5.1836475103916815)</td>\n",
              "      <td>(nan, -0.9511895459751339)</td>\n",
              "      <td>(7.57, 2.366900076527531)</td>\n",
              "      <td>(6.21, 5.05038751448631)</td>\n",
              "      <td>(6.65, 5.260573311004313)</td>\n",
              "      <td>(nan, -1.2024582151704377)</td>\n",
              "      <td>(-8.3, 2.5543164487505168)</td>\n",
              "      <td>(7.18, 2.613237101875069)</td>\n",
              "      <td>(2.82, 2.4454480866575055)</td>\n",
              "      <td>...</td>\n",
              "      <td>(0.0, 4.426438240303896)</td>\n",
              "      <td>(-3.69, 4.962916720428242)</td>\n",
              "      <td>(nan, 1.3228187918059995)</td>\n",
              "      <td>(nan, -0.16771580966350322)</td>\n",
              "      <td>(7.82, 4.1715492844350575)</td>\n",
              "      <td>(0.24, 4.450568177534159)</td>\n",
              "      <td>(nan, -0.37724579270987196)</td>\n",
              "      <td>(7.28, 4.538780004664502)</td>\n",
              "      <td>(-2.33, 4.6009645243743575)</td>\n",
              "      <td>(nan, 1.6539097192177754)</td>\n",
              "      <td>(nan, -0.07104371660871968)</td>\n",
              "      <td>(nan, 4.589001528003646)</td>\n",
              "      <td>(nan, 2.55578766834612)</td>\n",
              "      <td>(nan, -1.0868245646978059)</td>\n",
              "      <td>(nan, 0.6034088901581888)</td>\n",
              "      <td>(nan, 4.217844901674479)</td>\n",
              "      <td>(nan, 1.9859194253084904)</td>\n",
              "      <td>(nan, 3.3170892577372992)</td>\n",
              "      <td>(nan, 1.3537638225134028)</td>\n",
              "      <td>(nan, 2.7803858404355237)</td>\n",
              "      <td>(nan, 3.418509894236286)</td>\n",
              "      <td>(nan, 2.132417422428017)</td>\n",
              "      <td>(nan, 3.7404049723509654)</td>\n",
              "      <td>(nan, 1.955060042676992)</td>\n",
              "      <td>(0.63, 2.2912098688294433)</td>\n",
              "      <td>(nan, 1.1671354661513105)</td>\n",
              "      <td>(nan, 3.445242616963663)</td>\n",
              "      <td>(-2.33, 3.625899837246045)</td>\n",
              "      <td>(nan, 5.500535364626653)</td>\n",
              "      <td>(nan, 1.8098817966322083)</td>\n",
              "      <td>(nan, 3.483717114701364)</td>\n",
              "      <td>(nan, 2.5091595282594605)</td>\n",
              "      <td>(nan, 4.228595838480053)</td>\n",
              "      <td>(0.53, 2.294598436846297)</td>\n",
              "      <td>(nan, 2.157177230136464)</td>\n",
              "      <td>(nan, 2.862446370723525)</td>\n",
              "      <td>(nan, 3.021431967431757)</td>\n",
              "      <td>(nan, 2.2151802467454207)</td>\n",
              "      <td>(nan, 0.8723304060550168)</td>\n",
              "      <td>(nan, 2.906573554291276)</td>\n",
              "    </tr>\n",
              "    <tr>\n",
              "      <th>4</th>\n",
              "      <td>(8.5, 1.862993501223744)</td>\n",
              "      <td>(4.61, 1.2071465630601883)</td>\n",
              "      <td>(-4.17, 1.1974004159098246)</td>\n",
              "      <td>(-5.39, -1.0131422744422165)</td>\n",
              "      <td>(1.36, 1.238913568404963)</td>\n",
              "      <td>(1.6, 3.142495975887232)</td>\n",
              "      <td>(7.04, 0.04047928161711727)</td>\n",
              "      <td>(4.61, -0.5080587978906765)</td>\n",
              "      <td>(-0.44, -0.034506038197601015)</td>\n",
              "      <td>(5.73, 2.3092856158552744)</td>\n",
              "      <td>(8.25, 3.358802010178016)</td>\n",
              "      <td>(6.84, 3.127181800772602)</td>\n",
              "      <td>(-3.93, -1.9832365016454272)</td>\n",
              "      <td>(7.23, 3.0777929656656022)</td>\n",
              "      <td>(-2.33, -2.098633416447839)</td>\n",
              "      <td>(-9.66, -3.902425643664428)</td>\n",
              "      <td>(2.72, -0.9184328035363553)</td>\n",
              "      <td>(-1.36, -0.44869740068771535)</td>\n",
              "      <td>(2.57, 0.9035964621069337)</td>\n",
              "      <td>(4.51, -0.5100476999208734)</td>\n",
              "      <td>(8.2, 3.958936141779579)</td>\n",
              "      <td>(6.12, 2.1470279902994456)</td>\n",
              "      <td>(8.3, 0.9899091598748659)</td>\n",
              "      <td>(-1.26, -1.5530170474077676)</td>\n",
              "      <td>(7.77, 1.5609642411439124)</td>\n",
              "      <td>(1.89, 2.874768888669975)</td>\n",
              "      <td>(-1.17, 5.159224496700281)</td>\n",
              "      <td>(5.68, 3.040005454155725)</td>\n",
              "      <td>(8.45, 4.878754616427719)</td>\n",
              "      <td>(4.61, 0.4102469943189041)</td>\n",
              "      <td>(8.06, 4.022412939462052)</td>\n",
              "      <td>(-9.47, 5.127600178596531)</td>\n",
              "      <td>(7.28, -0.892157550730596)</td>\n",
              "      <td>(5.68, 2.333329739655351)</td>\n",
              "      <td>(2.48, 4.998941290079655)</td>\n",
              "      <td>(3.2, 5.205345780194107)</td>\n",
              "      <td>(-1.26, -1.1309801643230895)</td>\n",
              "      <td>(6.8, 2.5343969425220982)</td>\n",
              "      <td>(4.51, 2.5911729562776777)</td>\n",
              "      <td>(2.48, 2.404254626798186)</td>\n",
              "      <td>...</td>\n",
              "      <td>(7.38, 4.375255542258944)</td>\n",
              "      <td>(6.17, 4.925474783039543)</td>\n",
              "      <td>(4.71, 1.3347766478457206)</td>\n",
              "      <td>(-2.28, -0.14243633867449618)</td>\n",
              "      <td>(7.38, 4.164976273224811)</td>\n",
              "      <td>(4.56, 4.39729094388635)</td>\n",
              "      <td>(7.14, -0.3445824284374122)</td>\n",
              "      <td>(4.22, 4.46518848685028)</td>\n",
              "      <td>(3.01, 4.51384895402933)</td>\n",
              "      <td>(3.83, 1.664782495015238)</td>\n",
              "      <td>(nan, -0.07737244020707815)</td>\n",
              "      <td>(nan, 4.582923117537803)</td>\n",
              "      <td>(nan, 2.521262454908447)</td>\n",
              "      <td>(nan, -1.0614850531268176)</td>\n",
              "      <td>(nan, 0.565043427796138)</td>\n",
              "      <td>(nan, 4.190488261776782)</td>\n",
              "      <td>(4.13, 1.9748027346820003)</td>\n",
              "      <td>(nan, 3.304830275528342)</td>\n",
              "      <td>(nan, 1.2693734886110788)</td>\n",
              "      <td>(nan, 2.7331107551563014)</td>\n",
              "      <td>(5.24, 3.350391259747233)</td>\n",
              "      <td>(5.92, 2.085629112650167)</td>\n",
              "      <td>(0.87, 3.680687177113592)</td>\n",
              "      <td>(7.28, 1.9016582451505644)</td>\n",
              "      <td>(3.93, 2.2650099618011654)</td>\n",
              "      <td>(-0.63, 1.1445182337606958)</td>\n",
              "      <td>(6.31, 3.3894926078354572)</td>\n",
              "      <td>(4.71, 3.611050634149054)</td>\n",
              "      <td>(2.82, 5.456067110975236)</td>\n",
              "      <td>(2.96, 1.8052578314016428)</td>\n",
              "      <td>(5.19, 3.468980226153749)</td>\n",
              "      <td>(5.58, 2.5165322549658167)</td>\n",
              "      <td>(4.27, 4.19365746043955)</td>\n",
              "      <td>(5.19, 2.2645992582484187)</td>\n",
              "      <td>(5.73, 2.1593837034334333)</td>\n",
              "      <td>(1.55, 2.849926305417274)</td>\n",
              "      <td>(3.11, 3.004052684271927)</td>\n",
              "      <td>(6.55, 2.1824653615477883)</td>\n",
              "      <td>(1.8, 0.9219595544949329)</td>\n",
              "      <td>(1.6, 2.8801078009912606)</td>\n",
              "    </tr>\n",
              "    <tr>\n",
              "      <th>...</th>\n",
              "      <td>...</td>\n",
              "      <td>...</td>\n",
              "      <td>...</td>\n",
              "      <td>...</td>\n",
              "      <td>...</td>\n",
              "      <td>...</td>\n",
              "      <td>...</td>\n",
              "      <td>...</td>\n",
              "      <td>...</td>\n",
              "      <td>...</td>\n",
              "      <td>...</td>\n",
              "      <td>...</td>\n",
              "      <td>...</td>\n",
              "      <td>...</td>\n",
              "      <td>...</td>\n",
              "      <td>...</td>\n",
              "      <td>...</td>\n",
              "      <td>...</td>\n",
              "      <td>...</td>\n",
              "      <td>...</td>\n",
              "      <td>...</td>\n",
              "      <td>...</td>\n",
              "      <td>...</td>\n",
              "      <td>...</td>\n",
              "      <td>...</td>\n",
              "      <td>...</td>\n",
              "      <td>...</td>\n",
              "      <td>...</td>\n",
              "      <td>...</td>\n",
              "      <td>...</td>\n",
              "      <td>...</td>\n",
              "      <td>...</td>\n",
              "      <td>...</td>\n",
              "      <td>...</td>\n",
              "      <td>...</td>\n",
              "      <td>...</td>\n",
              "      <td>...</td>\n",
              "      <td>...</td>\n",
              "      <td>...</td>\n",
              "      <td>...</td>\n",
              "      <td>...</td>\n",
              "      <td>...</td>\n",
              "      <td>...</td>\n",
              "      <td>...</td>\n",
              "      <td>...</td>\n",
              "      <td>...</td>\n",
              "      <td>...</td>\n",
              "      <td>...</td>\n",
              "      <td>...</td>\n",
              "      <td>...</td>\n",
              "      <td>...</td>\n",
              "      <td>...</td>\n",
              "      <td>...</td>\n",
              "      <td>...</td>\n",
              "      <td>...</td>\n",
              "      <td>...</td>\n",
              "      <td>...</td>\n",
              "      <td>...</td>\n",
              "      <td>...</td>\n",
              "      <td>...</td>\n",
              "      <td>...</td>\n",
              "      <td>...</td>\n",
              "      <td>...</td>\n",
              "      <td>...</td>\n",
              "      <td>...</td>\n",
              "      <td>...</td>\n",
              "      <td>...</td>\n",
              "      <td>...</td>\n",
              "      <td>...</td>\n",
              "      <td>...</td>\n",
              "      <td>...</td>\n",
              "      <td>...</td>\n",
              "      <td>...</td>\n",
              "      <td>...</td>\n",
              "      <td>...</td>\n",
              "      <td>...</td>\n",
              "      <td>...</td>\n",
              "      <td>...</td>\n",
              "      <td>...</td>\n",
              "      <td>...</td>\n",
              "      <td>...</td>\n",
              "    </tr>\n",
              "    <tr>\n",
              "      <th>24978</th>\n",
              "      <td>(0.44, 1.4904274671215214)</td>\n",
              "      <td>(7.43, 0.9558078619490622)</td>\n",
              "      <td>(9.08, 0.9435009324208754)</td>\n",
              "      <td>(2.33, -0.7913094228221788)</td>\n",
              "      <td>(3.2, 0.9974491484252827)</td>\n",
              "      <td>(6.75, 2.442053349143912)</td>\n",
              "      <td>(-8.79, 0.0169437796618924)</td>\n",
              "      <td>(-0.53, -0.3768888938948788)</td>\n",
              "      <td>(-8.74, 0.00992412022509005)</td>\n",
              "      <td>(7.23, 1.809535855064544)</td>\n",
              "      <td>(-0.53, 2.654684260732411)</td>\n",
              "      <td>(5.63, 2.436749264985365)</td>\n",
              "      <td>(-7.14, -1.5487566965798534)</td>\n",
              "      <td>(-4.08, 2.396936854584923)</td>\n",
              "      <td>(-3.5, -1.6365092308707985)</td>\n",
              "      <td>(-8.2, -3.0370559258421586)</td>\n",
              "      <td>(-3.98, -0.7076143667989974)</td>\n",
              "      <td>(-9.22, -0.3521527888872693)</td>\n",
              "      <td>(-0.15, 0.7083862729601133)</td>\n",
              "      <td>(-6.46, -0.3867222813149141)</td>\n",
              "      <td>(5.63, 3.1111504838653485)</td>\n",
              "      <td>(-0.92, 1.7006660092186978)</td>\n",
              "      <td>(-2.91, 0.7818392922121621)</td>\n",
              "      <td>(-4.17, -1.2176393405222234)</td>\n",
              "      <td>(2.82, 1.2311040287840378)</td>\n",
              "      <td>(3.4, 2.2269399873062024)</td>\n",
              "      <td>(8.64, 4.04768785574406)</td>\n",
              "      <td>(6.84, 2.3802512768079374)</td>\n",
              "      <td>(6.8, 3.8012327903163587)</td>\n",
              "      <td>(-0.87, 0.33523386002938627)</td>\n",
              "      <td>(7.38, 3.1673412094955755)</td>\n",
              "      <td>(-3.5, 4.006699102202359)</td>\n",
              "      <td>(8.88, -0.6665874390461818)</td>\n",
              "      <td>(7.43, 1.8182612875731485)</td>\n",
              "      <td>(5.39, 3.908145326229038)</td>\n",
              "      <td>(2.23, 4.068484191568593)</td>\n",
              "      <td>(-0.68, -0.8471071189857472)</td>\n",
              "      <td>(3.4, 1.9851976152382453)</td>\n",
              "      <td>(-0.58, 2.028617726005834)</td>\n",
              "      <td>(4.42, 1.8694376800561598)</td>\n",
              "      <td>...</td>\n",
              "      <td>(8.59, 3.416736345770158)</td>\n",
              "      <td>(3.45, 3.8589206439685553)</td>\n",
              "      <td>(0.87, 1.0594463009586603)</td>\n",
              "      <td>(9.27, -0.09659666184126861)</td>\n",
              "      <td>(-4.66, 3.2786482815115363)</td>\n",
              "      <td>(5.73, 3.4328058951920415)</td>\n",
              "      <td>(-0.49, -0.25134634318739274)</td>\n",
              "      <td>(8.35, 3.4737304314982507)</td>\n",
              "      <td>(1.94, 3.5037013030821607)</td>\n",
              "      <td>(5.0, 1.3188755064246485)</td>\n",
              "      <td>(-9.66, -0.06490531847187964)</td>\n",
              "      <td>(8.98, 3.6083692743910705)</td>\n",
              "      <td>(8.98, 1.9657929748409657)</td>\n",
              "      <td>(-9.81, -0.8209288955416241)</td>\n",
              "      <td>(9.13, 0.4215736936383304)</td>\n",
              "      <td>(9.08, 3.285874772850642)</td>\n",
              "      <td>(9.08, 1.549596379687047)</td>\n",
              "      <td>(3.98, 2.5971802939231723)</td>\n",
              "      <td>(0.73, 0.9481821771968857)</td>\n",
              "      <td>(9.03, 2.1248639268482803)</td>\n",
              "      <td>(8.98, 2.5984692878595905)</td>\n",
              "      <td>(9.22, 1.614838029400278)</td>\n",
              "      <td>(8.93, 2.8640063447420028)</td>\n",
              "      <td>(9.13, 1.4657382089206603)</td>\n",
              "      <td>(9.27, 1.7689815567793183)</td>\n",
              "      <td>(-1.99, 0.8880606388078485)</td>\n",
              "      <td>(-9.95, 2.636953799710412)</td>\n",
              "      <td>(-9.9, 2.8369295550324978)</td>\n",
              "      <td>(9.13, 4.272764425585866)</td>\n",
              "      <td>(8.83, 1.4199897435009259)</td>\n",
              "      <td>(8.83, 2.7250230963516646)</td>\n",
              "      <td>(-1.21, 1.9880324526439483)</td>\n",
              "      <td>(9.22, 3.2836736060804874)</td>\n",
              "      <td>(-6.7, 1.7663031216581027)</td>\n",
              "      <td>(8.45, 1.7033356188561755)</td>\n",
              "      <td>(9.03, 2.2384754203970973)</td>\n",
              "      <td>(6.55, 2.3569420135259045)</td>\n",
              "      <td>(8.69, 1.6998842433531516)</td>\n",
              "      <td>(8.79, 0.7574230687532064)</td>\n",
              "      <td>(7.43, 2.2536203410913656)</td>\n",
              "    </tr>\n",
              "    <tr>\n",
              "      <th>24979</th>\n",
              "      <td>(9.13, 0.7289222165566847)</td>\n",
              "      <td>(-8.16, 0.4651732288277951)</td>\n",
              "      <td>(8.59, 0.4581174969472172)</td>\n",
              "      <td>(9.08, -0.38258600672438786)</td>\n",
              "      <td>(0.87, 0.4892692409169226)</td>\n",
              "      <td>(-8.93, 1.177781030189348)</td>\n",
              "      <td>(-3.5, 0.0047370158979239164)</td>\n",
              "      <td>(5.78, -0.17752743485450143)</td>\n",
              "      <td>(-8.11, 0.013481451003875723)</td>\n",
              "      <td>(4.9, 0.8762676619764046)</td>\n",
              "      <td>(8.88, 1.2908720502447517)</td>\n",
              "      <td>(-8.69, 1.1767841691639447)</td>\n",
              "      <td>(-7.48, -0.74874373782308)</td>\n",
              "      <td>(-8.83, 1.157244066090105)</td>\n",
              "      <td>(-1.75, -0.7906108656364441)</td>\n",
              "      <td>(6.6, -1.4658003085369236)</td>\n",
              "      <td>(3.54, -0.3398312213683377)</td>\n",
              "      <td>(1.5, -0.17066081735565575)</td>\n",
              "      <td>(7.67, 0.34311489867730366)</td>\n",
              "      <td>(-0.44, -0.18423149238117348)</td>\n",
              "      <td>(9.22, 1.5086782421365317)</td>\n",
              "      <td>(8.74, 0.8278365710538429)</td>\n",
              "      <td>(9.03, 0.3800503595903638)</td>\n",
              "      <td>(9.08, -0.5898081817749181)</td>\n",
              "      <td>(8.93, 0.5980271651662573)</td>\n",
              "      <td>(3.74, 1.0723625911173242)</td>\n",
              "      <td>(3.2, 1.9612580353509272)</td>\n",
              "      <td>(-9.17, 1.1521976170687842)</td>\n",
              "      <td>(-8.98, 1.8356496806121467)</td>\n",
              "      <td>(8.79, 0.16556851699098615)</td>\n",
              "      <td>(-7.67, 1.537402711146754)</td>\n",
              "      <td>(-3.06, 1.9376049282309586)</td>\n",
              "      <td>(9.13, -0.3151668667299137)</td>\n",
              "      <td>(8.4, 0.8781187365263563)</td>\n",
              "      <td>(-0.63, 1.8904112365441144)</td>\n",
              "      <td>(-7.18, 1.9677272239610977)</td>\n",
              "      <td>(0.58, -0.4010297939124602)</td>\n",
              "      <td>(8.88, 0.9611597008625614)</td>\n",
              "      <td>(9.27, 0.9819349606027714)</td>\n",
              "      <td>(8.5, 0.901868223029106)</td>\n",
              "      <td>...</td>\n",
              "      <td>(2.77, 1.6518140608457463)</td>\n",
              "      <td>(8.11, 1.8685324159577423)</td>\n",
              "      <td>(-7.96, 0.516211830858478)</td>\n",
              "      <td>(8.93, -0.04325264344765835)</td>\n",
              "      <td>(-0.87, 1.5912082610433314)</td>\n",
              "      <td>(-5.87, 1.659314739856935)</td>\n",
              "      <td>(8.88, -0.11733341191986849)</td>\n",
              "      <td>(-1.12, 1.6762502952078162)</td>\n",
              "      <td>(-8.74, 1.6888486423985667)</td>\n",
              "      <td>(8.74, 0.6420374631945714)</td>\n",
              "      <td>(nan, -0.03243426179217579)</td>\n",
              "      <td>(nan, 1.7513970633832032)</td>\n",
              "      <td>(nan, 0.9496241510293006)</td>\n",
              "      <td>(nan, -0.39499013994734555)</td>\n",
              "      <td>(nan, 0.19917359239255153)</td>\n",
              "      <td>(4.9, 1.5917116799274027)</td>\n",
              "      <td>(nan, 0.7508985810331671)</td>\n",
              "      <td>(nan, 1.2594552334803817)</td>\n",
              "      <td>(nan, 0.4482458379460456)</td>\n",
              "      <td>(nan, 1.0250273265976821)</td>\n",
              "      <td>(-0.29, 1.2520023852236093)</td>\n",
              "      <td>(0.92, 0.7774217952980919)</td>\n",
              "      <td>(-0.78, 1.3821659964074349)</td>\n",
              "      <td>(0.15, 0.704060284439375)</td>\n",
              "      <td>(-0.1, 0.8552537500974409)</td>\n",
              "      <td>(0.0, 0.42798399724593317)</td>\n",
              "      <td>(-0.19, 1.2724798538593498)</td>\n",
              "      <td>(-0.87, 1.375506317323409)</td>\n",
              "      <td>(-1.36, 2.0684847317418193)</td>\n",
              "      <td>(-0.58, 0.688898751184809)</td>\n",
              "      <td>(-1.17, 1.3211791706158236)</td>\n",
              "      <td>(-5.73, 0.9664835268867562)</td>\n",
              "      <td>(-1.46, 1.589546239131289)</td>\n",
              "      <td>(0.24, 0.8534035869120621)</td>\n",
              "      <td>(9.22, 0.8274834594630508)</td>\n",
              "      <td>(-8.2, 1.0852252135622704)</td>\n",
              "      <td>(-7.23, 1.1420515267806803)</td>\n",
              "      <td>(-8.59, 0.8207568576918132)</td>\n",
              "      <td>(9.13, 0.3749932712803346)</td>\n",
              "      <td>(8.45, 1.0905628853769065)</td>\n",
              "    </tr>\n",
              "    <tr>\n",
              "      <th>24980</th>\n",
              "      <td>(nan, 0.8864466866917371)</td>\n",
              "      <td>(nan, 0.5844307763273687)</td>\n",
              "      <td>(nan, 0.5843566320189836)</td>\n",
              "      <td>(nan, -0.5015216056245113)</td>\n",
              "      <td>(-7.77, 0.5831267956343272)</td>\n",
              "      <td>(nan, 1.5681088091414657)</td>\n",
              "      <td>(6.7, 0.034884009484780265)</td>\n",
              "      <td>(-6.75, -0.27166097609396694)</td>\n",
              "      <td>(nan, -0.05439263968103332)</td>\n",
              "      <td>(nan, 1.1371830934187745)</td>\n",
              "      <td>(nan, 1.630980135159016)</td>\n",
              "      <td>(nan, 1.5537922358866416)</td>\n",
              "      <td>(-6.46, -0.9819762783384683)</td>\n",
              "      <td>(-1.65, 1.5305961516982451)</td>\n",
              "      <td>(-6.8, -1.0415053694688023)</td>\n",
              "      <td>(-6.41, -1.9428052746930224)</td>\n",
              "      <td>(-6.99, -0.46447677820460653)</td>\n",
              "      <td>(7.23, -0.2203921909772914)</td>\n",
              "      <td>(6.75, 0.4446264196154821)</td>\n",
              "      <td>(-6.99, -0.26426748617198337)</td>\n",
              "      <td>(6.55, 1.940466747871191)</td>\n",
              "      <td>(nan, 1.0387908330641584)</td>\n",
              "      <td>(nan, 0.481242119855839)</td>\n",
              "      <td>(nan, -0.7640494303217427)</td>\n",
              "      <td>(nan, 0.760639889873244)</td>\n",
              "      <td>(0.49, 1.4416572969308163)</td>\n",
              "      <td>(-0.53, 2.5355813113556755)</td>\n",
              "      <td>(-6.94, 1.4989106436686415)</td>\n",
              "      <td>(-0.49, 2.424464242137373)</td>\n",
              "      <td>(nan, 0.1880907717278197)</td>\n",
              "      <td>(6.46, 1.9651979544299505)</td>\n",
              "      <td>(-0.53, 2.536408428422979)</td>\n",
              "      <td>(nan, -0.47221773321765653)</td>\n",
              "      <td>(nan, 1.1592584959389614)</td>\n",
              "      <td>(-7.86, 2.470762742808154)</td>\n",
              "      <td>(-0.34, 2.5738188638509847)</td>\n",
              "      <td>(nan, -0.596521397641302)</td>\n",
              "      <td>(-6.94, 1.2487789457009741)</td>\n",
              "      <td>(nan, 1.2778194232255158)</td>\n",
              "      <td>(nan, 1.1986365320827221)</td>\n",
              "      <td>...</td>\n",
              "      <td>(0.49, 2.16636157760765)</td>\n",
              "      <td>(-0.24, 2.4261431101225814)</td>\n",
              "      <td>(nan, 0.6436092470792147)</td>\n",
              "      <td>(nan, -0.08533428452633758)</td>\n",
              "      <td>(-3.11, 2.0358108370113412)</td>\n",
              "      <td>(-6.65, 2.178424052179706)</td>\n",
              "      <td>(nan, -0.18857241585179776)</td>\n",
              "      <td>(-0.58, 2.2242842821038176)</td>\n",
              "      <td>(6.31, 2.256502282299375)</td>\n",
              "      <td>(nan, 0.805267634863656)</td>\n",
              "      <td>(nan, -0.03377362410343776)</td>\n",
              "      <td>(-7.86, 2.2393764671628245)</td>\n",
              "      <td>(nan, 1.2515315019090378)</td>\n",
              "      <td>(nan, -0.5336868379433835)</td>\n",
              "      <td>(nan, 0.29968992313963316)</td>\n",
              "      <td>(nan, 2.0612895956057473)</td>\n",
              "      <td>(nan, 0.9702866384820841)</td>\n",
              "      <td>(nan, 1.6197946834767354)</td>\n",
              "      <td>(nan, 0.6721277165374044)</td>\n",
              "      <td>(nan, 1.3628675407634634)</td>\n",
              "      <td>(nan, 1.6770504506059531)</td>\n",
              "      <td>(nan, 1.0467186570036298)</td>\n",
              "      <td>(nan, 1.832901480171062)</td>\n",
              "      <td>(nan, 0.9611245620062038)</td>\n",
              "      <td>(nan, 1.1213097105704817)</td>\n",
              "      <td>(nan, 0.5724834800636286)</td>\n",
              "      <td>(nan, 1.6883675414478523)</td>\n",
              "      <td>(nan, 1.7707943449512704)</td>\n",
              "      <td>(nan, 2.689374120827842)</td>\n",
              "      <td>(nan, 0.8835103436118723)</td>\n",
              "      <td>(nan, 1.7014215105898123)</td>\n",
              "      <td>(nan, 1.2229488578227463)</td>\n",
              "      <td>(nan, 2.06759023687809)</td>\n",
              "      <td>(nan, 1.1234919854971792)</td>\n",
              "      <td>(nan, 1.0519705384746836)</td>\n",
              "      <td>(nan, 1.3980548045260315)</td>\n",
              "      <td>(nan, 1.4762854808041634)</td>\n",
              "      <td>(nan, 1.0851298951256445)</td>\n",
              "      <td>(nan, 0.41861114764550494)</td>\n",
              "      <td>(nan, 1.4215231213644324)</td>\n",
              "    </tr>\n",
              "    <tr>\n",
              "      <th>24981</th>\n",
              "      <td>(nan, 1.3513971275070593)</td>\n",
              "      <td>(nan, 0.9095373071161269)</td>\n",
              "      <td>(nan, 0.9178560482483822)</td>\n",
              "      <td>(nan, -0.8005133710546707)</td>\n",
              "      <td>(-9.71, 0.8772105074077089)</td>\n",
              "      <td>(nan, 2.525209343954169)</td>\n",
              "      <td>(4.56, 0.08204892480434356)</td>\n",
              "      <td>(-8.3, -0.4694296812264349)</td>\n",
              "      <td>(nan, -0.1530888656907748)</td>\n",
              "      <td>(nan, 1.8045686300205441)</td>\n",
              "      <td>(nan, 2.547052730173665)</td>\n",
              "      <td>(nan, 2.4903942168470654)</td>\n",
              "      <td>(-9.47, -1.5678311221813503)</td>\n",
              "      <td>(nan, 2.4555933292493495)</td>\n",
              "      <td>(3.45, -1.6671225172346409)</td>\n",
              "      <td>(-0.92, -3.120658181465467)</td>\n",
              "      <td>(-4.51, -0.7588565695221832)</td>\n",
              "      <td>(-4.13, -0.3487280206737813)</td>\n",
              "      <td>(-5.73, 0.7049599373757558)</td>\n",
              "      <td>(-9.51, -0.44274823232116545)</td>\n",
              "      <td>(2.82, 3.0630882325416757)</td>\n",
              "      <td>(nan, 1.615420053724127)</td>\n",
              "      <td>(nan, 0.7525520189229675)</td>\n",
              "      <td>(nan, -1.211171153321144)</td>\n",
              "      <td>(nan, 1.1926861339282882)</td>\n",
              "      <td>(-0.49, 2.3341658589228023)</td>\n",
              "      <td>(2.91, 4.014683821057214)</td>\n",
              "      <td>(2.62, 2.3819640077510638)</td>\n",
              "      <td>(8.3, 3.8865555700740484)</td>\n",
              "      <td>(nan, 0.2736044974173252)</td>\n",
              "      <td>(3.06, 3.0906798778956506)</td>\n",
              "      <td>(5.44, 4.045277059751165)</td>\n",
              "      <td>(nan, -0.8080622302001911)</td>\n",
              "      <td>(nan, 1.8578732547124974)</td>\n",
              "      <td>(-0.68, 3.9370187585794922)</td>\n",
              "      <td>(2.04, 4.10308135798011)</td>\n",
              "      <td>(nan, -1.0172753045393934)</td>\n",
              "      <td>(nan, 1.982982494277473)</td>\n",
              "      <td>(1.55, 2.0309974507940605)</td>\n",
              "      <td>(nan, 1.9283095718754142)</td>\n",
              "      <td>...</td>\n",
              "      <td>(-8.83, 3.4588392286289484)</td>\n",
              "      <td>(-0.78, 3.8511409667626983)</td>\n",
              "      <td>(nan, 0.9968909605735132)</td>\n",
              "      <td>(nan, -0.16254040984924276)</td>\n",
              "      <td>(4.51, 3.2034641526273204)</td>\n",
              "      <td>(-2.48, 3.4801436589022012)</td>\n",
              "      <td>(nan, -0.33296076568602784)</td>\n",
              "      <td>(1.26, 3.57510128646518)</td>\n",
              "      <td>(5.78, 3.6409668519155636)</td>\n",
              "      <td>(nan, 1.2519061423826532)</td>\n",
              "      <td>(nan, -0.04586808555171223)</td>\n",
              "      <td>(nan, 3.522484308353478)</td>\n",
              "      <td>(nan, 2.0038126371509613)</td>\n",
              "      <td>(nan, -0.866480299709141)</td>\n",
              "      <td>(-4.56, 0.5138500734957232)</td>\n",
              "      <td>(nan, 3.2669552577948253)</td>\n",
              "      <td>(nan, 1.5358254843084107)</td>\n",
              "      <td>(nan, 2.5567841566247833)</td>\n",
              "      <td>(nan, 1.1505650306385984)</td>\n",
              "      <td>(3.16, 2.1930111437614026)</td>\n",
              "      <td>(nan, 2.7098087828897586)</td>\n",
              "      <td>(nan, 1.696136443291895)</td>\n",
              "      <td>(nan, 2.9449849800968626)</td>\n",
              "      <td>(nan, 1.5692368830028016)</td>\n",
              "      <td>(nan, 1.789966349012092)</td>\n",
              "      <td>(nan, 0.9243104361226847)</td>\n",
              "      <td>(nan, 2.713595265912392)</td>\n",
              "      <td>(nan, 2.796767390288181)</td>\n",
              "      <td>(nan, 4.2723311695285915)</td>\n",
              "      <td>(nan, 1.392255978925752)</td>\n",
              "      <td>(nan, 2.6877315094037826)</td>\n",
              "      <td>(nan, 1.9115831354440362)</td>\n",
              "      <td>(nan, 3.285416348001062)</td>\n",
              "      <td>(nan, 1.7976866492926566)</td>\n",
              "      <td>(nan, 1.6490024286924212)</td>\n",
              "      <td>(nan, 2.208968165975811)</td>\n",
              "      <td>(nan, 2.3372754812861225)</td>\n",
              "      <td>(nan, 1.7405312899064667)</td>\n",
              "      <td>(nan, 0.6010847624039215)</td>\n",
              "      <td>(nan, 2.2615741142123467)</td>\n",
              "    </tr>\n",
              "    <tr>\n",
              "      <th>24982</th>\n",
              "      <td>(2.43, 1.8598750530970811)</td>\n",
              "      <td>(2.67, 1.2212549328166533)</td>\n",
              "      <td>(-3.98, 1.2188498898745648)</td>\n",
              "      <td>(4.27, -1.0426666211198836)</td>\n",
              "      <td>(-2.28, 1.2266130029789573)</td>\n",
              "      <td>(7.33, 3.254174305927966)</td>\n",
              "      <td>(2.33, 0.06548942919434943)</td>\n",
              "      <td>(4.56, -0.5552305577114849)</td>\n",
              "      <td>(6.75, -0.09540300618863201)</td>\n",
              "      <td>(4.61, 2.3670303261374905)</td>\n",
              "      <td>(-3.16, 3.4058295295327823)</td>\n",
              "      <td>(7.38, 3.2276017397341743)</td>\n",
              "      <td>(-8.2, -2.041420030572756)</td>\n",
              "      <td>(9.08, 3.178783603571889)</td>\n",
              "      <td>(-8.83, -2.164041444353036)</td>\n",
              "      <td>(-7.77, -4.033872336112402)</td>\n",
              "      <td>(5.49, -0.9609886340454841)</td>\n",
              "      <td>(1.36, -0.4590118623728829)</td>\n",
              "      <td>(-9.32, 0.9256454877183944)</td>\n",
              "      <td>(7.04, -0.5438292697663994)</td>\n",
              "      <td>(7.28, 4.0433735490692175)</td>\n",
              "      <td>(3.2, 2.171035450140076)</td>\n",
              "      <td>(-0.05, 1.0046651297944458)</td>\n",
              "      <td>(-1.26, -1.5906995948055687)</td>\n",
              "      <td>(6.94, 1.5870907782913724)</td>\n",
              "      <td>(5.49, 2.9884009751129583)</td>\n",
              "      <td>(1.21, 5.280169121510705)</td>\n",
              "      <td>(5.0, 3.11905968306898)</td>\n",
              "      <td>(7.38, 5.036021246219294)</td>\n",
              "      <td>(2.33, 0.3981438136581272)</td>\n",
              "      <td>(3.35, 4.097960248539334)</td>\n",
              "      <td>(6.17, 5.274079073061051)</td>\n",
              "      <td>(-4.81, -0.9672511241028723)</td>\n",
              "      <td>(3.79, 2.4081047950050385)</td>\n",
              "      <td>(6.26, 5.138528801586836)</td>\n",
              "      <td>(8.54, 5.352364925311535)</td>\n",
              "      <td>(5.29, -1.2227970448183456)</td>\n",
              "      <td>(1.12, 2.598961982710497)</td>\n",
              "      <td>(0.83, 2.658894072404669)</td>\n",
              "      <td>(0.19, 2.487949130933565)</td>\n",
              "      <td>...</td>\n",
              "      <td>(6.17, 4.503623582893579)</td>\n",
              "      <td>(-0.29, 5.049674663328566)</td>\n",
              "      <td>(0.83, 1.346182919592387)</td>\n",
              "      <td>(4.22, -0.17038539566389024)</td>\n",
              "      <td>(4.27, 4.244745097007501)</td>\n",
              "      <td>(7.38, 4.528154452205699)</td>\n",
              "      <td>(6.21, -0.3835148382247866)</td>\n",
              "      <td>(7.48, 4.61769371789877)</td>\n",
              "      <td>(5.15, 4.680822708046366)</td>\n",
              "      <td>(3.2, 1.6830771583800845)</td>\n",
              "      <td>(6.26, -0.07236062856780853)</td>\n",
              "      <td>(nan, 4.669534725406515)</td>\n",
              "      <td>(nan, 2.6002995115975116)</td>\n",
              "      <td>(nan, -1.1056363938011375)</td>\n",
              "      <td>(nan, 0.6135879026768216)</td>\n",
              "      <td>(nan, 4.291626825014052)</td>\n",
              "      <td>(nan, 2.0206779850067584)</td>\n",
              "      <td>(nan, 3.3752155336991025)</td>\n",
              "      <td>(nan, 1.3766190956936102)</td>\n",
              "      <td>(nan, 2.8287031856630738)</td>\n",
              "      <td>(nan, 3.4778073596701455)</td>\n",
              "      <td>(nan, 2.1693593978917747)</td>\n",
              "      <td>(nan, 3.8054478463955737)</td>\n",
              "      <td>(nan, 1.9888147405251027)</td>\n",
              "      <td>(nan, 2.3311656948944615)</td>\n",
              "      <td>(nan, 1.1873875813966734)</td>\n",
              "      <td>(7.23, 3.505144702602849)</td>\n",
              "      <td>(nan, 3.689421660603715)</td>\n",
              "      <td>(nan, 5.596659105090904)</td>\n",
              "      <td>(nan, 1.8416194108300694)</td>\n",
              "      <td>(nan, 3.544742918103432)</td>\n",
              "      <td>(nan, 2.553310041278999)</td>\n",
              "      <td>(nan, 4.302483775989142)</td>\n",
              "      <td>(nan, 2.3345722810089935)</td>\n",
              "      <td>(nan, 2.1950892230568924)</td>\n",
              "      <td>(nan, 2.9125846092304224)</td>\n",
              "      <td>(nan, 3.0743094975907015)</td>\n",
              "      <td>(nan, 2.253729555819349)</td>\n",
              "      <td>(nan, 0.8881937805457631)</td>\n",
              "      <td>(nan, 2.9573345053048254)</td>\n",
              "    </tr>\n",
              "  </tbody>\n",
              "</table>\n",
              "<p>24983 rows × 100 columns</p>\n",
              "</div>"
            ],
            "text/plain": [
              "                               1    ...                         100\n",
              "0      (-7.82, 1.0166597061200338)  ...    (nan, 1.773891366523853)\n",
              "1        (4.08, 0.863067950750945)  ...  (1.07, 1.3390663543704018)\n",
              "2         (nan, 1.391380771261785)  ...    (nan, 2.106907561202925)\n",
              "3        (nan, 1.8273905433554838)  ...    (nan, 2.906573554291276)\n",
              "4         (8.5, 1.862993501223744)  ...   (1.6, 2.8801078009912606)\n",
              "...                            ...  ...                         ...\n",
              "24978   (0.44, 1.4904274671215214)  ...  (7.43, 2.2536203410913656)\n",
              "24979   (9.13, 0.7289222165566847)  ...  (8.45, 1.0905628853769065)\n",
              "24980    (nan, 0.8864466866917371)  ...   (nan, 1.4215231213644324)\n",
              "24981    (nan, 1.3513971275070593)  ...   (nan, 2.2615741142123467)\n",
              "24982   (2.43, 1.8598750530970811)  ...   (nan, 2.9573345053048254)\n",
              "\n",
              "[24983 rows x 100 columns]"
            ]
          },
          "metadata": {
            "tags": []
          },
          "execution_count": 24
        }
      ]
    },
    {
      "cell_type": "code",
      "metadata": {
        "id": "-zUMbJjwIdoG"
      },
      "source": [
        "# while 1: pass"
      ],
      "execution_count": 25,
      "outputs": []
    },
    {
      "cell_type": "markdown",
      "metadata": {
        "id": "f9bvcG-FIvKx"
      },
      "source": [
        "# For Quiz"
      ]
    },
    {
      "cell_type": "code",
      "metadata": {
        "id": "cjdLhcFpIdq9"
      },
      "source": [
        "quiz_users = pd.read_excel(\"https://raw.githubusercontent.com/albanda/CE888/master/lab4-recommender/movies_latent_factors.xlsx\",sheet_name='Users')\n",
        "quiz_items = pd.read_excel(\"https://raw.githubusercontent.com/albanda/CE888/master/lab4-recommender/movies_latent_factors.xlsx\",sheet_name='Items')"
      ],
      "execution_count": 62,
      "outputs": []
    },
    {
      "cell_type": "code",
      "metadata": {
        "id": "_eiiYIILIdtu"
      },
      "source": [
        "#quiz_movies"
      ],
      "execution_count": 27,
      "outputs": []
    },
    {
      "cell_type": "code",
      "metadata": {
        "colab": {
          "base_uri": "https://localhost:8080/"
        },
        "id": "Wrxk7wWOITsq",
        "outputId": "548bd781-f237-43fc-97ec-022b6ce9ac91"
      },
      "source": [
        "test_data.loc[1458 , 17]"
      ],
      "execution_count": 63,
      "outputs": [
        {
          "output_type": "execute_result",
          "data": {
            "text/plain": [
              "-4.22"
            ]
          },
          "metadata": {
            "tags": []
          },
          "execution_count": 63
        }
      ]
    },
    {
      "cell_type": "code",
      "metadata": {
        "colab": {
          "base_uri": "https://localhost:8080/"
        },
        "id": "7vQQO2HII4_e",
        "outputId": "4745b082-547c-422d-dd7c-0454c7a90e80"
      },
      "source": [
        "comparison_data.loc[2092, 12]"
      ],
      "execution_count": 66,
      "outputs": [
        {
          "output_type": "execute_result",
          "data": {
            "text/plain": [
              "(8.83, 2.858489693038405)"
            ]
          },
          "metadata": {
            "tags": []
          },
          "execution_count": 66
        }
      ]
    },
    {
      "cell_type": "code",
      "metadata": {
        "colab": {
          "base_uri": "https://localhost:8080/",
          "height": 561
        },
        "id": "Sc4NIH2rI5CI",
        "outputId": "9d0ae034-e030-42ce-ebe7-feecc9915d96"
      },
      "source": [
        "comparison_data.loc[525, 422]"
      ],
      "execution_count": 70,
      "outputs": [
        {
          "output_type": "error",
          "ename": "KeyError",
          "evalue": "ignored",
          "traceback": [
            "\u001b[0;31m---------------------------------------------------------------------------\u001b[0m",
            "\u001b[0;31mKeyError\u001b[0m                                  Traceback (most recent call last)",
            "\u001b[0;32m/usr/local/lib/python3.7/dist-packages/pandas/core/indexes/base.py\u001b[0m in \u001b[0;36mget_loc\u001b[0;34m(self, key, method, tolerance)\u001b[0m\n\u001b[1;32m   2897\u001b[0m             \u001b[0;32mtry\u001b[0m\u001b[0;34m:\u001b[0m\u001b[0;34m\u001b[0m\u001b[0;34m\u001b[0m\u001b[0m\n\u001b[0;32m-> 2898\u001b[0;31m                 \u001b[0;32mreturn\u001b[0m \u001b[0mself\u001b[0m\u001b[0;34m.\u001b[0m\u001b[0m_engine\u001b[0m\u001b[0;34m.\u001b[0m\u001b[0mget_loc\u001b[0m\u001b[0;34m(\u001b[0m\u001b[0mcasted_key\u001b[0m\u001b[0;34m)\u001b[0m\u001b[0;34m\u001b[0m\u001b[0;34m\u001b[0m\u001b[0m\n\u001b[0m\u001b[1;32m   2899\u001b[0m             \u001b[0;32mexcept\u001b[0m \u001b[0mKeyError\u001b[0m \u001b[0;32mas\u001b[0m \u001b[0merr\u001b[0m\u001b[0;34m:\u001b[0m\u001b[0;34m\u001b[0m\u001b[0;34m\u001b[0m\u001b[0m\n",
            "\u001b[0;32mpandas/_libs/index.pyx\u001b[0m in \u001b[0;36mpandas._libs.index.IndexEngine.get_loc\u001b[0;34m()\u001b[0m\n",
            "\u001b[0;32mpandas/_libs/index.pyx\u001b[0m in \u001b[0;36mpandas._libs.index.IndexEngine.get_loc\u001b[0;34m()\u001b[0m\n",
            "\u001b[0;32mpandas/_libs/hashtable_class_helper.pxi\u001b[0m in \u001b[0;36mpandas._libs.hashtable.Int64HashTable.get_item\u001b[0;34m()\u001b[0m\n",
            "\u001b[0;32mpandas/_libs/hashtable_class_helper.pxi\u001b[0m in \u001b[0;36mpandas._libs.hashtable.Int64HashTable.get_item\u001b[0;34m()\u001b[0m\n",
            "\u001b[0;31mKeyError\u001b[0m: 422",
            "\nThe above exception was the direct cause of the following exception:\n",
            "\u001b[0;31mKeyError\u001b[0m                                  Traceback (most recent call last)",
            "\u001b[0;32m<ipython-input-70-97ad8bc4bf8d>\u001b[0m in \u001b[0;36m<module>\u001b[0;34m()\u001b[0m\n\u001b[0;32m----> 1\u001b[0;31m \u001b[0mcomparison_data\u001b[0m\u001b[0;34m.\u001b[0m\u001b[0mloc\u001b[0m\u001b[0;34m[\u001b[0m\u001b[0;36m525\u001b[0m\u001b[0;34m,\u001b[0m \u001b[0;36m422\u001b[0m\u001b[0;34m]\u001b[0m\u001b[0;34m\u001b[0m\u001b[0;34m\u001b[0m\u001b[0m\n\u001b[0m",
            "\u001b[0;32m/usr/local/lib/python3.7/dist-packages/pandas/core/indexing.py\u001b[0m in \u001b[0;36m__getitem__\u001b[0;34m(self, key)\u001b[0m\n\u001b[1;32m    871\u001b[0m                     \u001b[0;31m# AttributeError for IntervalTree get_value\u001b[0m\u001b[0;34m\u001b[0m\u001b[0;34m\u001b[0m\u001b[0;34m\u001b[0m\u001b[0m\n\u001b[1;32m    872\u001b[0m                     \u001b[0;32mpass\u001b[0m\u001b[0;34m\u001b[0m\u001b[0;34m\u001b[0m\u001b[0m\n\u001b[0;32m--> 873\u001b[0;31m             \u001b[0;32mreturn\u001b[0m \u001b[0mself\u001b[0m\u001b[0;34m.\u001b[0m\u001b[0m_getitem_tuple\u001b[0m\u001b[0;34m(\u001b[0m\u001b[0mkey\u001b[0m\u001b[0;34m)\u001b[0m\u001b[0;34m\u001b[0m\u001b[0;34m\u001b[0m\u001b[0m\n\u001b[0m\u001b[1;32m    874\u001b[0m         \u001b[0;32melse\u001b[0m\u001b[0;34m:\u001b[0m\u001b[0;34m\u001b[0m\u001b[0;34m\u001b[0m\u001b[0m\n\u001b[1;32m    875\u001b[0m             \u001b[0;31m# we by definition only have the 0th axis\u001b[0m\u001b[0;34m\u001b[0m\u001b[0;34m\u001b[0m\u001b[0;34m\u001b[0m\u001b[0m\n",
            "\u001b[0;32m/usr/local/lib/python3.7/dist-packages/pandas/core/indexing.py\u001b[0m in \u001b[0;36m_getitem_tuple\u001b[0;34m(self, tup)\u001b[0m\n\u001b[1;32m   1042\u001b[0m     \u001b[0;32mdef\u001b[0m \u001b[0m_getitem_tuple\u001b[0m\u001b[0;34m(\u001b[0m\u001b[0mself\u001b[0m\u001b[0;34m,\u001b[0m \u001b[0mtup\u001b[0m\u001b[0;34m:\u001b[0m \u001b[0mTuple\u001b[0m\u001b[0;34m)\u001b[0m\u001b[0;34m:\u001b[0m\u001b[0;34m\u001b[0m\u001b[0;34m\u001b[0m\u001b[0m\n\u001b[1;32m   1043\u001b[0m         \u001b[0;32mtry\u001b[0m\u001b[0;34m:\u001b[0m\u001b[0;34m\u001b[0m\u001b[0;34m\u001b[0m\u001b[0m\n\u001b[0;32m-> 1044\u001b[0;31m             \u001b[0;32mreturn\u001b[0m \u001b[0mself\u001b[0m\u001b[0;34m.\u001b[0m\u001b[0m_getitem_lowerdim\u001b[0m\u001b[0;34m(\u001b[0m\u001b[0mtup\u001b[0m\u001b[0;34m)\u001b[0m\u001b[0;34m\u001b[0m\u001b[0;34m\u001b[0m\u001b[0m\n\u001b[0m\u001b[1;32m   1045\u001b[0m         \u001b[0;32mexcept\u001b[0m \u001b[0mIndexingError\u001b[0m\u001b[0;34m:\u001b[0m\u001b[0;34m\u001b[0m\u001b[0;34m\u001b[0m\u001b[0m\n\u001b[1;32m   1046\u001b[0m             \u001b[0;32mpass\u001b[0m\u001b[0;34m\u001b[0m\u001b[0;34m\u001b[0m\u001b[0m\n",
            "\u001b[0;32m/usr/local/lib/python3.7/dist-packages/pandas/core/indexing.py\u001b[0m in \u001b[0;36m_getitem_lowerdim\u001b[0;34m(self, tup)\u001b[0m\n\u001b[1;32m    808\u001b[0m                     \u001b[0;32mreturn\u001b[0m \u001b[0msection\u001b[0m\u001b[0;34m\u001b[0m\u001b[0;34m\u001b[0m\u001b[0m\n\u001b[1;32m    809\u001b[0m                 \u001b[0;31m# This is an elided recursive call to iloc/loc\u001b[0m\u001b[0;34m\u001b[0m\u001b[0;34m\u001b[0m\u001b[0;34m\u001b[0m\u001b[0m\n\u001b[0;32m--> 810\u001b[0;31m                 \u001b[0;32mreturn\u001b[0m \u001b[0mgetattr\u001b[0m\u001b[0;34m(\u001b[0m\u001b[0msection\u001b[0m\u001b[0;34m,\u001b[0m \u001b[0mself\u001b[0m\u001b[0;34m.\u001b[0m\u001b[0mname\u001b[0m\u001b[0;34m)\u001b[0m\u001b[0;34m[\u001b[0m\u001b[0mnew_key\u001b[0m\u001b[0;34m]\u001b[0m\u001b[0;34m\u001b[0m\u001b[0;34m\u001b[0m\u001b[0m\n\u001b[0m\u001b[1;32m    811\u001b[0m \u001b[0;34m\u001b[0m\u001b[0m\n\u001b[1;32m    812\u001b[0m         \u001b[0;32mraise\u001b[0m \u001b[0mIndexingError\u001b[0m\u001b[0;34m(\u001b[0m\u001b[0;34m\"not applicable\"\u001b[0m\u001b[0;34m)\u001b[0m\u001b[0;34m\u001b[0m\u001b[0;34m\u001b[0m\u001b[0m\n",
            "\u001b[0;32m/usr/local/lib/python3.7/dist-packages/pandas/core/indexing.py\u001b[0m in \u001b[0;36m__getitem__\u001b[0;34m(self, key)\u001b[0m\n\u001b[1;32m    877\u001b[0m \u001b[0;34m\u001b[0m\u001b[0m\n\u001b[1;32m    878\u001b[0m             \u001b[0mmaybe_callable\u001b[0m \u001b[0;34m=\u001b[0m \u001b[0mcom\u001b[0m\u001b[0;34m.\u001b[0m\u001b[0mapply_if_callable\u001b[0m\u001b[0;34m(\u001b[0m\u001b[0mkey\u001b[0m\u001b[0;34m,\u001b[0m \u001b[0mself\u001b[0m\u001b[0;34m.\u001b[0m\u001b[0mobj\u001b[0m\u001b[0;34m)\u001b[0m\u001b[0;34m\u001b[0m\u001b[0;34m\u001b[0m\u001b[0m\n\u001b[0;32m--> 879\u001b[0;31m             \u001b[0;32mreturn\u001b[0m \u001b[0mself\u001b[0m\u001b[0;34m.\u001b[0m\u001b[0m_getitem_axis\u001b[0m\u001b[0;34m(\u001b[0m\u001b[0mmaybe_callable\u001b[0m\u001b[0;34m,\u001b[0m \u001b[0maxis\u001b[0m\u001b[0;34m=\u001b[0m\u001b[0maxis\u001b[0m\u001b[0;34m)\u001b[0m\u001b[0;34m\u001b[0m\u001b[0;34m\u001b[0m\u001b[0m\n\u001b[0m\u001b[1;32m    880\u001b[0m \u001b[0;34m\u001b[0m\u001b[0m\n\u001b[1;32m    881\u001b[0m     \u001b[0;32mdef\u001b[0m \u001b[0m_is_scalar_access\u001b[0m\u001b[0;34m(\u001b[0m\u001b[0mself\u001b[0m\u001b[0;34m,\u001b[0m \u001b[0mkey\u001b[0m\u001b[0;34m:\u001b[0m \u001b[0mTuple\u001b[0m\u001b[0;34m)\u001b[0m\u001b[0;34m:\u001b[0m\u001b[0;34m\u001b[0m\u001b[0;34m\u001b[0m\u001b[0m\n",
            "\u001b[0;32m/usr/local/lib/python3.7/dist-packages/pandas/core/indexing.py\u001b[0m in \u001b[0;36m_getitem_axis\u001b[0;34m(self, key, axis)\u001b[0m\n\u001b[1;32m   1108\u001b[0m         \u001b[0;31m# fall thru to straight lookup\u001b[0m\u001b[0;34m\u001b[0m\u001b[0;34m\u001b[0m\u001b[0;34m\u001b[0m\u001b[0m\n\u001b[1;32m   1109\u001b[0m         \u001b[0mself\u001b[0m\u001b[0;34m.\u001b[0m\u001b[0m_validate_key\u001b[0m\u001b[0;34m(\u001b[0m\u001b[0mkey\u001b[0m\u001b[0;34m,\u001b[0m \u001b[0maxis\u001b[0m\u001b[0;34m)\u001b[0m\u001b[0;34m\u001b[0m\u001b[0;34m\u001b[0m\u001b[0m\n\u001b[0;32m-> 1110\u001b[0;31m         \u001b[0;32mreturn\u001b[0m \u001b[0mself\u001b[0m\u001b[0;34m.\u001b[0m\u001b[0m_get_label\u001b[0m\u001b[0;34m(\u001b[0m\u001b[0mkey\u001b[0m\u001b[0;34m,\u001b[0m \u001b[0maxis\u001b[0m\u001b[0;34m=\u001b[0m\u001b[0maxis\u001b[0m\u001b[0;34m)\u001b[0m\u001b[0;34m\u001b[0m\u001b[0;34m\u001b[0m\u001b[0m\n\u001b[0m\u001b[1;32m   1111\u001b[0m \u001b[0;34m\u001b[0m\u001b[0m\n\u001b[1;32m   1112\u001b[0m     \u001b[0;32mdef\u001b[0m \u001b[0m_get_slice_axis\u001b[0m\u001b[0;34m(\u001b[0m\u001b[0mself\u001b[0m\u001b[0;34m,\u001b[0m \u001b[0mslice_obj\u001b[0m\u001b[0;34m:\u001b[0m \u001b[0mslice\u001b[0m\u001b[0;34m,\u001b[0m \u001b[0maxis\u001b[0m\u001b[0;34m:\u001b[0m \u001b[0mint\u001b[0m\u001b[0;34m)\u001b[0m\u001b[0;34m:\u001b[0m\u001b[0;34m\u001b[0m\u001b[0;34m\u001b[0m\u001b[0m\n",
            "\u001b[0;32m/usr/local/lib/python3.7/dist-packages/pandas/core/indexing.py\u001b[0m in \u001b[0;36m_get_label\u001b[0;34m(self, label, axis)\u001b[0m\n\u001b[1;32m   1057\u001b[0m     \u001b[0;32mdef\u001b[0m \u001b[0m_get_label\u001b[0m\u001b[0;34m(\u001b[0m\u001b[0mself\u001b[0m\u001b[0;34m,\u001b[0m \u001b[0mlabel\u001b[0m\u001b[0;34m,\u001b[0m \u001b[0maxis\u001b[0m\u001b[0;34m:\u001b[0m \u001b[0mint\u001b[0m\u001b[0;34m)\u001b[0m\u001b[0;34m:\u001b[0m\u001b[0;34m\u001b[0m\u001b[0;34m\u001b[0m\u001b[0m\n\u001b[1;32m   1058\u001b[0m         \u001b[0;31m# GH#5667 this will fail if the label is not present in the axis.\u001b[0m\u001b[0;34m\u001b[0m\u001b[0;34m\u001b[0m\u001b[0;34m\u001b[0m\u001b[0m\n\u001b[0;32m-> 1059\u001b[0;31m         \u001b[0;32mreturn\u001b[0m \u001b[0mself\u001b[0m\u001b[0;34m.\u001b[0m\u001b[0mobj\u001b[0m\u001b[0;34m.\u001b[0m\u001b[0mxs\u001b[0m\u001b[0;34m(\u001b[0m\u001b[0mlabel\u001b[0m\u001b[0;34m,\u001b[0m \u001b[0maxis\u001b[0m\u001b[0;34m=\u001b[0m\u001b[0maxis\u001b[0m\u001b[0;34m)\u001b[0m\u001b[0;34m\u001b[0m\u001b[0;34m\u001b[0m\u001b[0m\n\u001b[0m\u001b[1;32m   1060\u001b[0m \u001b[0;34m\u001b[0m\u001b[0m\n\u001b[1;32m   1061\u001b[0m     \u001b[0;32mdef\u001b[0m \u001b[0m_handle_lowerdim_multi_index_axis0\u001b[0m\u001b[0;34m(\u001b[0m\u001b[0mself\u001b[0m\u001b[0;34m,\u001b[0m \u001b[0mtup\u001b[0m\u001b[0;34m:\u001b[0m \u001b[0mTuple\u001b[0m\u001b[0;34m)\u001b[0m\u001b[0;34m:\u001b[0m\u001b[0;34m\u001b[0m\u001b[0;34m\u001b[0m\u001b[0m\n",
            "\u001b[0;32m/usr/local/lib/python3.7/dist-packages/pandas/core/generic.py\u001b[0m in \u001b[0;36mxs\u001b[0;34m(self, key, axis, level, drop_level)\u001b[0m\n\u001b[1;32m   3491\u001b[0m             \u001b[0mloc\u001b[0m\u001b[0;34m,\u001b[0m \u001b[0mnew_index\u001b[0m \u001b[0;34m=\u001b[0m \u001b[0mself\u001b[0m\u001b[0;34m.\u001b[0m\u001b[0mindex\u001b[0m\u001b[0;34m.\u001b[0m\u001b[0mget_loc_level\u001b[0m\u001b[0;34m(\u001b[0m\u001b[0mkey\u001b[0m\u001b[0;34m,\u001b[0m \u001b[0mdrop_level\u001b[0m\u001b[0;34m=\u001b[0m\u001b[0mdrop_level\u001b[0m\u001b[0;34m)\u001b[0m\u001b[0;34m\u001b[0m\u001b[0;34m\u001b[0m\u001b[0m\n\u001b[1;32m   3492\u001b[0m         \u001b[0;32melse\u001b[0m\u001b[0;34m:\u001b[0m\u001b[0;34m\u001b[0m\u001b[0;34m\u001b[0m\u001b[0m\n\u001b[0;32m-> 3493\u001b[0;31m             \u001b[0mloc\u001b[0m \u001b[0;34m=\u001b[0m \u001b[0mself\u001b[0m\u001b[0;34m.\u001b[0m\u001b[0mindex\u001b[0m\u001b[0;34m.\u001b[0m\u001b[0mget_loc\u001b[0m\u001b[0;34m(\u001b[0m\u001b[0mkey\u001b[0m\u001b[0;34m)\u001b[0m\u001b[0;34m\u001b[0m\u001b[0;34m\u001b[0m\u001b[0m\n\u001b[0m\u001b[1;32m   3494\u001b[0m \u001b[0;34m\u001b[0m\u001b[0m\n\u001b[1;32m   3495\u001b[0m             \u001b[0;32mif\u001b[0m \u001b[0misinstance\u001b[0m\u001b[0;34m(\u001b[0m\u001b[0mloc\u001b[0m\u001b[0;34m,\u001b[0m \u001b[0mnp\u001b[0m\u001b[0;34m.\u001b[0m\u001b[0mndarray\u001b[0m\u001b[0;34m)\u001b[0m\u001b[0;34m:\u001b[0m\u001b[0;34m\u001b[0m\u001b[0;34m\u001b[0m\u001b[0m\n",
            "\u001b[0;32m/usr/local/lib/python3.7/dist-packages/pandas/core/indexes/base.py\u001b[0m in \u001b[0;36mget_loc\u001b[0;34m(self, key, method, tolerance)\u001b[0m\n\u001b[1;32m   2898\u001b[0m                 \u001b[0;32mreturn\u001b[0m \u001b[0mself\u001b[0m\u001b[0;34m.\u001b[0m\u001b[0m_engine\u001b[0m\u001b[0;34m.\u001b[0m\u001b[0mget_loc\u001b[0m\u001b[0;34m(\u001b[0m\u001b[0mcasted_key\u001b[0m\u001b[0;34m)\u001b[0m\u001b[0;34m\u001b[0m\u001b[0;34m\u001b[0m\u001b[0m\n\u001b[1;32m   2899\u001b[0m             \u001b[0;32mexcept\u001b[0m \u001b[0mKeyError\u001b[0m \u001b[0;32mas\u001b[0m \u001b[0merr\u001b[0m\u001b[0;34m:\u001b[0m\u001b[0;34m\u001b[0m\u001b[0;34m\u001b[0m\u001b[0m\n\u001b[0;32m-> 2900\u001b[0;31m                 \u001b[0;32mraise\u001b[0m \u001b[0mKeyError\u001b[0m\u001b[0;34m(\u001b[0m\u001b[0mkey\u001b[0m\u001b[0;34m)\u001b[0m \u001b[0;32mfrom\u001b[0m \u001b[0merr\u001b[0m\u001b[0;34m\u001b[0m\u001b[0;34m\u001b[0m\u001b[0m\n\u001b[0m\u001b[1;32m   2901\u001b[0m \u001b[0;34m\u001b[0m\u001b[0m\n\u001b[1;32m   2902\u001b[0m         \u001b[0;32mif\u001b[0m \u001b[0mtolerance\u001b[0m \u001b[0;32mis\u001b[0m \u001b[0;32mnot\u001b[0m \u001b[0;32mNone\u001b[0m\u001b[0;34m:\u001b[0m\u001b[0;34m\u001b[0m\u001b[0;34m\u001b[0m\u001b[0m\n",
            "\u001b[0;31mKeyError\u001b[0m: 422"
          ]
        }
      ]
    },
    {
      "cell_type": "code",
      "metadata": {
        "colab": {
          "base_uri": "https://localhost:8080/"
        },
        "id": "SPIWUyOwI5E6",
        "outputId": "31d1e57b-097e-4a95-af98-076d28d4b874"
      },
      "source": [
        "quiz_users.loc[quiz_users['User']==4327, 'Factor14']"
      ],
      "execution_count": 31,
      "outputs": [
        {
          "output_type": "execute_result",
          "data": {
            "text/plain": [
              "21   -0.09349\n",
              "Name: Factor14, dtype: float64"
            ]
          },
          "metadata": {
            "tags": []
          },
          "execution_count": 31
        }
      ]
    },
    {
      "cell_type": "code",
      "metadata": {
        "colab": {
          "base_uri": "https://localhost:8080/"
        },
        "id": "XOYCw3u-I5Hc",
        "outputId": "2de8c550-7276-4fd5-bd03-7947faccd114"
      },
      "source": [
        "round(-0.09349, 3)"
      ],
      "execution_count": 32,
      "outputs": [
        {
          "output_type": "execute_result",
          "data": {
            "text/plain": [
              "-0.093"
            ]
          },
          "metadata": {
            "tags": []
          },
          "execution_count": 32
        }
      ]
    },
    {
      "cell_type": "code",
      "metadata": {
        "colab": {
          "base_uri": "https://localhost:8080/"
        },
        "id": "_0DLe4m4I5MW",
        "outputId": "84a92bd0-b52a-4603-94b3-6e0a44bf061e"
      },
      "source": [
        "quiz_items.loc[quiz_items['Movie ID']==38, 'Factor2']"
      ],
      "execution_count": 64,
      "outputs": [
        {
          "output_type": "execute_result",
          "data": {
            "text/plain": [
              "6    1.771799\n",
              "Name: Factor2, dtype: float64"
            ]
          },
          "metadata": {
            "tags": []
          },
          "execution_count": 64
        }
      ]
    },
    {
      "cell_type": "code",
      "metadata": {
        "colab": {
          "base_uri": "https://localhost:8080/",
          "height": 80
        },
        "id": "mGEceFXbI5Pl",
        "outputId": "6289c537-74e2-40f1-c0f1-5cccd15cb4e0"
      },
      "source": [
        "(quiz_items.loc[quiz_items['Factor7']==np.max(quiz_items['Factor7']), ['Movie ID', 'Factor7']])"
      ],
      "execution_count": 65,
      "outputs": [
        {
          "output_type": "execute_result",
          "data": {
            "text/html": [
              "<div>\n",
              "<style scoped>\n",
              "    .dataframe tbody tr th:only-of-type {\n",
              "        vertical-align: middle;\n",
              "    }\n",
              "\n",
              "    .dataframe tbody tr th {\n",
              "        vertical-align: top;\n",
              "    }\n",
              "\n",
              "    .dataframe thead th {\n",
              "        text-align: right;\n",
              "    }\n",
              "</style>\n",
              "<table border=\"1\" class=\"dataframe\">\n",
              "  <thead>\n",
              "    <tr style=\"text-align: right;\">\n",
              "      <th></th>\n",
              "      <th>Movie ID</th>\n",
              "      <th>Factor7</th>\n",
              "    </tr>\n",
              "  </thead>\n",
              "  <tbody>\n",
              "    <tr>\n",
              "      <th>90</th>\n",
              "      <td>8467</td>\n",
              "      <td>3.524783</td>\n",
              "    </tr>\n",
              "  </tbody>\n",
              "</table>\n",
              "</div>"
            ],
            "text/plain": [
              "    Movie ID   Factor7\n",
              "90      8467  3.524783"
            ]
          },
          "metadata": {
            "tags": []
          },
          "execution_count": 65
        }
      ]
    },
    {
      "cell_type": "code",
      "metadata": {
        "colab": {
          "base_uri": "https://localhost:8080/",
          "height": 496
        },
        "id": "w0zZctKjI5Rs",
        "outputId": "2f73b5a1-50dc-4b69-8b50-5d177530f67c"
      },
      "source": [
        "quiz_items.head()"
      ],
      "execution_count": 35,
      "outputs": [
        {
          "output_type": "execute_result",
          "data": {
            "text/html": [
              "<div>\n",
              "<style scoped>\n",
              "    .dataframe tbody tr th:only-of-type {\n",
              "        vertical-align: middle;\n",
              "    }\n",
              "\n",
              "    .dataframe tbody tr th {\n",
              "        vertical-align: top;\n",
              "    }\n",
              "\n",
              "    .dataframe thead th {\n",
              "        text-align: right;\n",
              "    }\n",
              "</style>\n",
              "<table border=\"1\" class=\"dataframe\">\n",
              "  <thead>\n",
              "    <tr style=\"text-align: right;\">\n",
              "      <th></th>\n",
              "      <th>Movie ID</th>\n",
              "      <th>Title</th>\n",
              "      <th>Factor1</th>\n",
              "      <th>Factor2</th>\n",
              "      <th>Factor3</th>\n",
              "      <th>Factor4</th>\n",
              "      <th>Factor5</th>\n",
              "      <th>Factor6</th>\n",
              "      <th>Factor7</th>\n",
              "      <th>Factor8</th>\n",
              "      <th>Factor9</th>\n",
              "      <th>Factor10</th>\n",
              "      <th>Factor11</th>\n",
              "      <th>Factor12</th>\n",
              "      <th>Factor13</th>\n",
              "      <th>Factor14</th>\n",
              "      <th>Factor15</th>\n",
              "    </tr>\n",
              "  </thead>\n",
              "  <tbody>\n",
              "    <tr>\n",
              "      <th>0</th>\n",
              "      <td>11</td>\n",
              "      <td>Star Wars: Episode IV - A New Hope (1977)</td>\n",
              "      <td>-1.521848</td>\n",
              "      <td>-1.038507</td>\n",
              "      <td>2.027269</td>\n",
              "      <td>0.247933</td>\n",
              "      <td>-0.594548</td>\n",
              "      <td>2.513260</td>\n",
              "      <td>-1.848910</td>\n",
              "      <td>0.476710</td>\n",
              "      <td>-0.224146</td>\n",
              "      <td>-0.760681</td>\n",
              "      <td>-0.973915</td>\n",
              "      <td>0.862379</td>\n",
              "      <td>0.403861</td>\n",
              "      <td>1.129616</td>\n",
              "      <td>-0.248806</td>\n",
              "    </tr>\n",
              "    <tr>\n",
              "      <th>1</th>\n",
              "      <td>12</td>\n",
              "      <td>Finding Nemo (2003)</td>\n",
              "      <td>-0.342185</td>\n",
              "      <td>-0.296586</td>\n",
              "      <td>-0.385962</td>\n",
              "      <td>2.443297</td>\n",
              "      <td>-1.097015</td>\n",
              "      <td>-0.619465</td>\n",
              "      <td>0.572887</td>\n",
              "      <td>0.329516</td>\n",
              "      <td>-0.712228</td>\n",
              "      <td>0.323554</td>\n",
              "      <td>-0.561948</td>\n",
              "      <td>-0.142405</td>\n",
              "      <td>-0.564415</td>\n",
              "      <td>0.506876</td>\n",
              "      <td>1.274993</td>\n",
              "    </tr>\n",
              "    <tr>\n",
              "      <th>2</th>\n",
              "      <td>13</td>\n",
              "      <td>Forrest Gump (1994)</td>\n",
              "      <td>-2.240888</td>\n",
              "      <td>-0.438815</td>\n",
              "      <td>-2.275177</td>\n",
              "      <td>0.614548</td>\n",
              "      <td>0.904469</td>\n",
              "      <td>0.711919</td>\n",
              "      <td>-0.420876</td>\n",
              "      <td>1.302036</td>\n",
              "      <td>-0.868418</td>\n",
              "      <td>-0.160122</td>\n",
              "      <td>0.633667</td>\n",
              "      <td>0.133138</td>\n",
              "      <td>-0.330276</td>\n",
              "      <td>-2.209004</td>\n",
              "      <td>-0.419092</td>\n",
              "    </tr>\n",
              "    <tr>\n",
              "      <th>3</th>\n",
              "      <td>14</td>\n",
              "      <td>American Beauty (1999)</td>\n",
              "      <td>-0.634531</td>\n",
              "      <td>2.186059</td>\n",
              "      <td>-0.066681</td>\n",
              "      <td>0.086197</td>\n",
              "      <td>0.517558</td>\n",
              "      <td>-0.185319</td>\n",
              "      <td>-0.412352</td>\n",
              "      <td>0.063841</td>\n",
              "      <td>0.075937</td>\n",
              "      <td>-0.577682</td>\n",
              "      <td>0.526803</td>\n",
              "      <td>-1.465557</td>\n",
              "      <td>-0.819682</td>\n",
              "      <td>0.549010</td>\n",
              "      <td>-0.681191</td>\n",
              "    </tr>\n",
              "    <tr>\n",
              "      <th>4</th>\n",
              "      <td>22</td>\n",
              "      <td>Pirates of the Caribbean: The Curse of the Bla...</td>\n",
              "      <td>0.517348</td>\n",
              "      <td>-1.456763</td>\n",
              "      <td>0.369161</td>\n",
              "      <td>0.073903</td>\n",
              "      <td>-0.098332</td>\n",
              "      <td>-0.594722</td>\n",
              "      <td>0.828888</td>\n",
              "      <td>0.033626</td>\n",
              "      <td>-0.707414</td>\n",
              "      <td>0.717877</td>\n",
              "      <td>1.394326</td>\n",
              "      <td>-0.786986</td>\n",
              "      <td>1.429191</td>\n",
              "      <td>0.855746</td>\n",
              "      <td>-2.292566</td>\n",
              "    </tr>\n",
              "  </tbody>\n",
              "</table>\n",
              "</div>"
            ],
            "text/plain": [
              "   Movie ID  ...  Factor15\n",
              "0        11  ... -0.248806\n",
              "1        12  ...  1.274993\n",
              "2        13  ... -0.419092\n",
              "3        14  ... -0.681191\n",
              "4        22  ... -2.292566\n",
              "\n",
              "[5 rows x 17 columns]"
            ]
          },
          "metadata": {
            "tags": []
          },
          "execution_count": 35
        }
      ]
    },
    {
      "cell_type": "code",
      "metadata": {
        "colab": {
          "base_uri": "https://localhost:8080/"
        },
        "id": "7gHCvidwI5UZ",
        "outputId": "bd43f7d1-9fba-4cbf-f33b-f44994ef34a3"
      },
      "source": [
        "np.argmin(quiz_items.loc[:, 'Factor4'].values)"
      ],
      "execution_count": 36,
      "outputs": [
        {
          "output_type": "execute_result",
          "data": {
            "text/plain": [
              "51"
            ]
          },
          "metadata": {
            "tags": []
          },
          "execution_count": 36
        }
      ]
    },
    {
      "cell_type": "code",
      "metadata": {
        "colab": {
          "base_uri": "https://localhost:8080/"
        },
        "id": "eGZytNs4I5XD",
        "outputId": "aef5f68c-0ed3-4d4f-b9c7-24cd0fbcd932"
      },
      "source": [
        "quiz_items.loc[51, ['Title', 'Factor4']]"
      ],
      "execution_count": 37,
      "outputs": [
        {
          "output_type": "execute_result",
          "data": {
            "text/plain": [
              "Title      The Matrix Reloaded (2003)\n",
              "Factor4                      -2.25595\n",
              "Name: 51, dtype: object"
            ]
          },
          "metadata": {
            "tags": []
          },
          "execution_count": 37
        }
      ]
    },
    {
      "cell_type": "code",
      "metadata": {
        "id": "QEJfnmClI5aB"
      },
      "source": [
        "a=quiz_items.loc[quiz_items['Movie ID']==604]"
      ],
      "execution_count": 38,
      "outputs": []
    },
    {
      "cell_type": "code",
      "metadata": {
        "id": "rXgzncgEJJ7f"
      },
      "source": [
        "a=a.values.squeeze()"
      ],
      "execution_count": 39,
      "outputs": []
    },
    {
      "cell_type": "code",
      "metadata": {
        "colab": {
          "base_uri": "https://localhost:8080/"
        },
        "id": "0yrM-HbUJJ-M",
        "outputId": "b605dde4-ee28-4fb3-9a46-772676b9b952"
      },
      "source": [
        "a=a[2:]\n",
        "a"
      ],
      "execution_count": 40,
      "outputs": [
        {
          "output_type": "execute_result",
          "data": {
            "text/plain": [
              "array([0.5034136375632308, -2.0044497136888157, 0.0010836504269544941,\n",
              "       -2.255945306069563, 0.882547301517155, -0.1885996561673766,\n",
              "       -0.23543435807103433, 0.5700275737617247, -3.492896705973438,\n",
              "       -0.3122139148478878, 0.9027423941200303, -2.0633182362860927,\n",
              "       -1.8951014444231724, 0.7484579000094597, 2.1209074375384924],\n",
              "      dtype=object)"
            ]
          },
          "metadata": {
            "tags": []
          },
          "execution_count": 40
        }
      ]
    },
    {
      "cell_type": "code",
      "metadata": {
        "id": "d5_AJWjAJKBL"
      },
      "source": [
        "b=quiz_users.loc[quiz_users['User']==174]"
      ],
      "execution_count": 41,
      "outputs": []
    },
    {
      "cell_type": "code",
      "metadata": {
        "id": "7N8fQYLwJN03"
      },
      "source": [
        "b=b.values.squeeze()"
      ],
      "execution_count": 42,
      "outputs": []
    },
    {
      "cell_type": "code",
      "metadata": {
        "colab": {
          "base_uri": "https://localhost:8080/"
        },
        "id": "qYZdlpfLJN3g",
        "outputId": "986f37a7-0f9f-444e-8876-3156fc714641"
      },
      "source": [
        "b=b[1:]\n",
        "b"
      ],
      "execution_count": 43,
      "outputs": [
        {
          "output_type": "execute_result",
          "data": {
            "text/plain": [
              "array([-0.22746168, -0.27253193, -0.01723089,  0.05432418,  0.21475532,\n",
              "       -0.07263876, -0.03312156, -0.08650818, -0.13147905,  0.18040285,\n",
              "        0.09588959, -0.08239632,  0.03676717, -0.16543839,  0.05069195])"
            ]
          },
          "metadata": {
            "tags": []
          },
          "execution_count": 43
        }
      ]
    },
    {
      "cell_type": "code",
      "metadata": {
        "id": "_zDYsdGZJN6E"
      },
      "source": [
        "quiz_pred=np.dot(b, a.T)"
      ],
      "execution_count": 44,
      "outputs": []
    },
    {
      "cell_type": "code",
      "metadata": {
        "colab": {
          "base_uri": "https://localhost:8080/"
        },
        "id": "qKOgBgP2JN8-",
        "outputId": "3ef57d6b-e316-4214-824c-9e0e3c3265e3"
      },
      "source": [
        "round(quiz_pred, 2)"
      ],
      "execution_count": 45,
      "outputs": [
        {
          "output_type": "execute_result",
          "data": {
            "text/plain": [
              "1.04"
            ]
          },
          "metadata": {
            "tags": []
          },
          "execution_count": 45
        }
      ]
    },
    {
      "cell_type": "code",
      "metadata": {
        "colab": {
          "base_uri": "https://localhost:8080/"
        },
        "id": "aJdbzC64JN_s",
        "outputId": "f91e4695-bc1f-46da-c4a5-f3fbc78bef20"
      },
      "source": [
        "c=quiz_items.loc[quiz_items['Movie ID']==812]\n",
        "c=c.values.squeeze()\n",
        "c=c[2:]\n",
        "c"
      ],
      "execution_count": 46,
      "outputs": [
        {
          "output_type": "execute_result",
          "data": {
            "text/plain": [
              "array([0.9444072873203204, -0.17405053859224534, 0.12318628233184109,\n",
              "       2.2243105344641236, -0.5695513857263874, 0.018065057433469225,\n",
              "       0.3010679396871695, 0.03472533646290326, -0.20630092072921338,\n",
              "       0.5333225541299694, -0.8823041399125704, -0.4469824426741521,\n",
              "       1.3020155376267466, 0.8368295247444454, -0.46760653696757254],\n",
              "      dtype=object)"
            ]
          },
          "metadata": {
            "tags": []
          },
          "execution_count": 46
        }
      ]
    },
    {
      "cell_type": "code",
      "metadata": {
        "colab": {
          "base_uri": "https://localhost:8080/"
        },
        "id": "0HjRMrxwJOCj",
        "outputId": "e9e8b2c0-5efc-48f6-a51b-a4a1f4e8e4c9"
      },
      "source": [
        "quiz_pred=np.dot(b, c.T)\n",
        "round(quiz_pred, 2)"
      ],
      "execution_count": 47,
      "outputs": [
        {
          "output_type": "execute_result",
          "data": {
            "text/plain": [
              "-0.22"
            ]
          },
          "metadata": {
            "tags": []
          },
          "execution_count": 47
        }
      ]
    },
    {
      "cell_type": "code",
      "metadata": {
        "colab": {
          "base_uri": "https://localhost:8080/"
        },
        "id": "yH2qCzfjJZgM",
        "outputId": "71ff270c-e1ac-4b16-f130-ef98573e2986"
      },
      "source": [
        "u_2067=quiz_users.loc[quiz_users['User']==4373]\n",
        "u_2067=u_2067.values.squeeze()\n",
        "u_2067=u_2067[1:]\n",
        "u_2067"
      ],
      "execution_count": 48,
      "outputs": [
        {
          "output_type": "execute_result",
          "data": {
            "text/plain": [
              "array([-0.1365496 , -0.08940568, -0.23539942,  0.12058533, -0.16816781,\n",
              "        0.12998995, -0.03508359, -0.32402785,  0.08753111,  0.04528984,\n",
              "        0.20784991, -0.02897165, -0.1751839 , -0.05828269,  0.14779738])"
            ]
          },
          "metadata": {
            "tags": []
          },
          "execution_count": 48
        }
      ]
    },
    {
      "cell_type": "code",
      "metadata": {
        "id": "67VZawpLJZjQ"
      },
      "source": [
        "all_item_factors=quiz_items.values[:, 2:]"
      ],
      "execution_count": 49,
      "outputs": []
    },
    {
      "cell_type": "code",
      "metadata": {
        "id": "48fRByTKJZmQ"
      },
      "source": [
        "quiz_ratings=np.dot(u_2067, all_item_factors.T)"
      ],
      "execution_count": 50,
      "outputs": []
    },
    {
      "cell_type": "code",
      "metadata": {
        "colab": {
          "base_uri": "https://localhost:8080/"
        },
        "id": "duX4MlsWJZoY",
        "outputId": "55d74d33-dfb7-480c-bac2-f03847f62629"
      },
      "source": [
        "np.argmax(quiz_ratings)"
      ],
      "execution_count": 51,
      "outputs": [
        {
          "output_type": "execute_result",
          "data": {
            "text/plain": [
              "50"
            ]
          },
          "metadata": {
            "tags": []
          },
          "execution_count": 51
        }
      ]
    },
    {
      "cell_type": "code",
      "metadata": {
        "colab": {
          "base_uri": "https://localhost:8080/"
        },
        "id": "LpVnWSurJZrd",
        "outputId": "f9fab693-ce6c-41e4-a52e-c705369fad3f"
      },
      "source": [
        "np.argsort(quiz_ratings)[::-1][:2]"
      ],
      "execution_count": 52,
      "outputs": [
        {
          "output_type": "execute_result",
          "data": {
            "text/plain": [
              "array([50, 11])"
            ]
          },
          "metadata": {
            "tags": []
          },
          "execution_count": 52
        }
      ]
    },
    {
      "cell_type": "code",
      "metadata": {
        "colab": {
          "base_uri": "https://localhost:8080/",
          "height": 298
        },
        "id": "pkp8u9yGJKDY",
        "outputId": "ed1306be-d141-4a8e-eb06-4a618483f405"
      },
      "source": [
        "quiz_items.loc[np.argsort(quiz_ratings)[::-1][:3], :]"
      ],
      "execution_count": 53,
      "outputs": [
        {
          "output_type": "execute_result",
          "data": {
            "text/html": [
              "<div>\n",
              "<style scoped>\n",
              "    .dataframe tbody tr th:only-of-type {\n",
              "        vertical-align: middle;\n",
              "    }\n",
              "\n",
              "    .dataframe tbody tr th {\n",
              "        vertical-align: top;\n",
              "    }\n",
              "\n",
              "    .dataframe thead th {\n",
              "        text-align: right;\n",
              "    }\n",
              "</style>\n",
              "<table border=\"1\" class=\"dataframe\">\n",
              "  <thead>\n",
              "    <tr style=\"text-align: right;\">\n",
              "      <th></th>\n",
              "      <th>Movie ID</th>\n",
              "      <th>Title</th>\n",
              "      <th>Factor1</th>\n",
              "      <th>Factor2</th>\n",
              "      <th>Factor3</th>\n",
              "      <th>Factor4</th>\n",
              "      <th>Factor5</th>\n",
              "      <th>Factor6</th>\n",
              "      <th>Factor7</th>\n",
              "      <th>Factor8</th>\n",
              "      <th>Factor9</th>\n",
              "      <th>Factor10</th>\n",
              "      <th>Factor11</th>\n",
              "      <th>Factor12</th>\n",
              "      <th>Factor13</th>\n",
              "      <th>Factor14</th>\n",
              "      <th>Factor15</th>\n",
              "    </tr>\n",
              "  </thead>\n",
              "  <tbody>\n",
              "    <tr>\n",
              "      <th>50</th>\n",
              "      <td>603</td>\n",
              "      <td>The Matrix (1999)</td>\n",
              "      <td>-3.063639</td>\n",
              "      <td>-1.319283</td>\n",
              "      <td>-0.043618</td>\n",
              "      <td>-0.994612</td>\n",
              "      <td>-0.954054</td>\n",
              "      <td>0.190838</td>\n",
              "      <td>0.197918</td>\n",
              "      <td>-0.093962</td>\n",
              "      <td>-1.082840</td>\n",
              "      <td>-0.003843</td>\n",
              "      <td>1.377453</td>\n",
              "      <td>-1.668189</td>\n",
              "      <td>-1.348377</td>\n",
              "      <td>0.223797</td>\n",
              "      <td>0.752413</td>\n",
              "    </tr>\n",
              "    <tr>\n",
              "      <th>11</th>\n",
              "      <td>105</td>\n",
              "      <td>Back to the Future (1985)</td>\n",
              "      <td>-1.107666</td>\n",
              "      <td>-0.039506</td>\n",
              "      <td>0.109809</td>\n",
              "      <td>0.169149</td>\n",
              "      <td>-1.625467</td>\n",
              "      <td>1.673495</td>\n",
              "      <td>-0.544459</td>\n",
              "      <td>0.420603</td>\n",
              "      <td>1.184404</td>\n",
              "      <td>0.396530</td>\n",
              "      <td>1.240446</td>\n",
              "      <td>0.016825</td>\n",
              "      <td>-0.582166</td>\n",
              "      <td>-0.757412</td>\n",
              "      <td>0.118024</td>\n",
              "    </tr>\n",
              "    <tr>\n",
              "      <th>35</th>\n",
              "      <td>329</td>\n",
              "      <td>Jurassic Park (1993)</td>\n",
              "      <td>-0.104238</td>\n",
              "      <td>-1.105404</td>\n",
              "      <td>-0.497630</td>\n",
              "      <td>0.459678</td>\n",
              "      <td>-1.146451</td>\n",
              "      <td>0.842279</td>\n",
              "      <td>0.224978</td>\n",
              "      <td>0.541354</td>\n",
              "      <td>1.570226</td>\n",
              "      <td>-0.633001</td>\n",
              "      <td>1.053255</td>\n",
              "      <td>-0.526942</td>\n",
              "      <td>0.082476</td>\n",
              "      <td>-0.005909</td>\n",
              "      <td>1.466918</td>\n",
              "    </tr>\n",
              "  </tbody>\n",
              "</table>\n",
              "</div>"
            ],
            "text/plain": [
              "    Movie ID                      Title   Factor1  ...  Factor13  Factor14  Factor15\n",
              "50       603          The Matrix (1999) -3.063639  ... -1.348377  0.223797  0.752413\n",
              "11       105  Back to the Future (1985) -1.107666  ... -0.582166 -0.757412  0.118024\n",
              "35       329       Jurassic Park (1993) -0.104238  ...  0.082476 -0.005909  1.466918\n",
              "\n",
              "[3 rows x 17 columns]"
            ]
          },
          "metadata": {
            "tags": []
          },
          "execution_count": 53
        }
      ]
    },
    {
      "cell_type": "code",
      "metadata": {
        "colab": {
          "base_uri": "https://localhost:8080/"
        },
        "id": "bFqXU4kVJirw",
        "outputId": "fdc04f1f-8d6a-4701-ae2b-e6d78bfcf134"
      },
      "source": [
        "u_4940=quiz_users.loc[quiz_users['User']==4373]\n",
        "u_4940=u_4940.values.squeeze()\n",
        "u_4940=u_4940[1:]\n",
        "u_4940"
      ],
      "execution_count": 54,
      "outputs": [
        {
          "output_type": "execute_result",
          "data": {
            "text/plain": [
              "array([-0.1365496 , -0.08940568, -0.23539942,  0.12058533, -0.16816781,\n",
              "        0.12998995, -0.03508359, -0.32402785,  0.08753111,  0.04528984,\n",
              "        0.20784991, -0.02897165, -0.1751839 , -0.05828269,  0.14779738])"
            ]
          },
          "metadata": {
            "tags": []
          },
          "execution_count": 54
        }
      ]
    },
    {
      "cell_type": "code",
      "metadata": {
        "colab": {
          "base_uri": "https://localhost:8080/"
        },
        "id": "EqyuWM1aJiu4",
        "outputId": "8f6e0eee-0862-478c-bf4f-2741044937e9"
      },
      "source": [
        "quiz_ratings=np.dot(u_2067, all_item_factors.T)\n",
        "np.argsort(quiz_ratings)[::-1][:2]"
      ],
      "execution_count": 55,
      "outputs": [
        {
          "output_type": "execute_result",
          "data": {
            "text/plain": [
              "array([50, 11])"
            ]
          },
          "metadata": {
            "tags": []
          },
          "execution_count": 55
        }
      ]
    },
    {
      "cell_type": "code",
      "metadata": {
        "colab": {
          "base_uri": "https://localhost:8080/",
          "height": 233
        },
        "id": "pPzU2mwtJixv",
        "outputId": "b27bceec-169b-4a7d-a2d7-2a8c300e7a5b"
      },
      "source": [
        "quiz_items.loc[np.argsort(quiz_ratings)[::-1][:2], :]"
      ],
      "execution_count": 56,
      "outputs": [
        {
          "output_type": "execute_result",
          "data": {
            "text/html": [
              "<div>\n",
              "<style scoped>\n",
              "    .dataframe tbody tr th:only-of-type {\n",
              "        vertical-align: middle;\n",
              "    }\n",
              "\n",
              "    .dataframe tbody tr th {\n",
              "        vertical-align: top;\n",
              "    }\n",
              "\n",
              "    .dataframe thead th {\n",
              "        text-align: right;\n",
              "    }\n",
              "</style>\n",
              "<table border=\"1\" class=\"dataframe\">\n",
              "  <thead>\n",
              "    <tr style=\"text-align: right;\">\n",
              "      <th></th>\n",
              "      <th>Movie ID</th>\n",
              "      <th>Title</th>\n",
              "      <th>Factor1</th>\n",
              "      <th>Factor2</th>\n",
              "      <th>Factor3</th>\n",
              "      <th>Factor4</th>\n",
              "      <th>Factor5</th>\n",
              "      <th>Factor6</th>\n",
              "      <th>Factor7</th>\n",
              "      <th>Factor8</th>\n",
              "      <th>Factor9</th>\n",
              "      <th>Factor10</th>\n",
              "      <th>Factor11</th>\n",
              "      <th>Factor12</th>\n",
              "      <th>Factor13</th>\n",
              "      <th>Factor14</th>\n",
              "      <th>Factor15</th>\n",
              "    </tr>\n",
              "  </thead>\n",
              "  <tbody>\n",
              "    <tr>\n",
              "      <th>50</th>\n",
              "      <td>603</td>\n",
              "      <td>The Matrix (1999)</td>\n",
              "      <td>-3.063639</td>\n",
              "      <td>-1.319283</td>\n",
              "      <td>-0.043618</td>\n",
              "      <td>-0.994612</td>\n",
              "      <td>-0.954054</td>\n",
              "      <td>0.190838</td>\n",
              "      <td>0.197918</td>\n",
              "      <td>-0.093962</td>\n",
              "      <td>-1.082840</td>\n",
              "      <td>-0.003843</td>\n",
              "      <td>1.377453</td>\n",
              "      <td>-1.668189</td>\n",
              "      <td>-1.348377</td>\n",
              "      <td>0.223797</td>\n",
              "      <td>0.752413</td>\n",
              "    </tr>\n",
              "    <tr>\n",
              "      <th>11</th>\n",
              "      <td>105</td>\n",
              "      <td>Back to the Future (1985)</td>\n",
              "      <td>-1.107666</td>\n",
              "      <td>-0.039506</td>\n",
              "      <td>0.109809</td>\n",
              "      <td>0.169149</td>\n",
              "      <td>-1.625467</td>\n",
              "      <td>1.673495</td>\n",
              "      <td>-0.544459</td>\n",
              "      <td>0.420603</td>\n",
              "      <td>1.184404</td>\n",
              "      <td>0.396530</td>\n",
              "      <td>1.240446</td>\n",
              "      <td>0.016825</td>\n",
              "      <td>-0.582166</td>\n",
              "      <td>-0.757412</td>\n",
              "      <td>0.118024</td>\n",
              "    </tr>\n",
              "  </tbody>\n",
              "</table>\n",
              "</div>"
            ],
            "text/plain": [
              "    Movie ID                      Title   Factor1  ...  Factor13  Factor14  Factor15\n",
              "50       603          The Matrix (1999) -3.063639  ... -1.348377  0.223797  0.752413\n",
              "11       105  Back to the Future (1985) -1.107666  ... -0.582166 -0.757412  0.118024\n",
              "\n",
              "[2 rows x 17 columns]"
            ]
          },
          "metadata": {
            "tags": []
          },
          "execution_count": 56
        }
      ]
    },
    {
      "cell_type": "code",
      "metadata": {
        "colab": {
          "base_uri": "https://localhost:8080/"
        },
        "id": "SpD6bMCCJo0z",
        "outputId": "9f317a61-2b8e-4be9-f620-32a25c6ce089"
      },
      "source": [
        "np.average(data.loc[:, 45].values[~np.isnan(data.loc[:, 45].values)])"
      ],
      "execution_count": 57,
      "outputs": [
        {
          "output_type": "execute_result",
          "data": {
            "text/plain": [
              "1.1086161781946073"
            ]
          },
          "metadata": {
            "tags": []
          },
          "execution_count": 57
        }
      ]
    },
    {
      "cell_type": "code",
      "metadata": {
        "id": "EiVX8wPxJo3v"
      },
      "source": [
        ""
      ],
      "execution_count": 57,
      "outputs": []
    },
    {
      "cell_type": "code",
      "metadata": {
        "id": "VqRtz3keJo7J"
      },
      "source": [
        ""
      ],
      "execution_count": 57,
      "outputs": []
    },
    {
      "cell_type": "code",
      "metadata": {
        "id": "a-Lq4OotJo9b"
      },
      "source": [
        ""
      ],
      "execution_count": 57,
      "outputs": []
    },
    {
      "cell_type": "code",
      "metadata": {
        "id": "yasdIl_YJpAS"
      },
      "source": [
        ""
      ],
      "execution_count": 57,
      "outputs": []
    }
  ]
}