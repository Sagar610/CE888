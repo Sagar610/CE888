{
  "nbformat": 4,
  "nbformat_minor": 0,
  "metadata": {
    "colab": {
      "name": "Lab7_Exercise2_DogvsCat_CNN.ipynb",
      "provenance": [],
      "collapsed_sections": [],
      "include_colab_link": true
    },
    "kernelspec": {
      "name": "python3",
      "display_name": "Python 3"
    },
    "accelerator": "GPU"
  },
  "cells": [
    {
      "cell_type": "markdown",
      "metadata": {
        "id": "view-in-github",
        "colab_type": "text"
      },
      "source": [
        "<a href=\"https://colab.research.google.com/github/Sagar610/CE888/blob/main/Lab7/Task2_DogvsCat_CNN.ipynb\" target=\"_parent\"><img src=\"https://colab.research.google.com/assets/colab-badge.svg\" alt=\"Open In Colab\"/></a>"
      ]
    },
    {
      "cell_type": "markdown",
      "metadata": {
        "id": "qTh9DiKVslsJ"
      },
      "source": [
        "## Dogs vs. Cats \n",
        "\n",
        "In this competition, you'll write an algorithm to classify whether images contain either a dog or a cat.  This is easy for humans, dogs, and cats. Your computer will find it a bit more difficult.\n",
        "\n",
        "![alt text](https://miro.medium.com/max/3000/1*bhFifratH9DjKqMBTeQG5A.gif)\n",
        "\n",
        "Ref: https://medium.com/@thegrigorian/rolling-in-the-deep-cnn-c8d3f7108c8c"
      ]
    },
    {
      "cell_type": "markdown",
      "metadata": {
        "id": "RSBI-_mSSY1g"
      },
      "source": [
        "Get your API Key from Kaggle using following steps:\n",
        "1. Login to [Kaggle](https://www.kaggle.com/) or Register if you don't have account\n",
        "2. Open Dataset (https://www.kaggle.com/c/dogs-vs-cats/rules) and accept terms and condition. \n",
        "3. On the top right corner click on your Icon and go to accounts and press a button \"Create New API Token\". It will download a JSON file containing your username and key. \n",
        "4. Now, paste both below. \n"
      ]
    },
    {
      "cell_type": "code",
      "metadata": {
        "id": "YmXSOc0tZIGA",
        "colab": {
          "base_uri": "https://localhost:8080/"
        },
        "outputId": "1cfd40ac-023f-466a-ed52-6661507d8707"
      },
      "source": [
        "import os\n",
        "os.environ['KAGGLE_USERNAME'] = \"priyankabhagwat\" # username from the json file\n",
        "os.environ['KAGGLE_KEY'] = \"58904535b6a18ff808eeb4af686142fa\" # key from the json file\n",
        "!kaggle competitions download -c dogs-vs-cats # api copied from kaggle (https://www.kaggle.com/c/dogs-vs-cats/data)"
      ],
      "execution_count": null,
      "outputs": [
        {
          "output_type": "stream",
          "text": [
            "Warning: Looks like you're using an outdated API Version, please consider updating (server 1.5.12 / client 1.5.4)\n",
            "Downloading train.zip to /content\n",
            " 96% 521M/543M [00:03<00:00, 130MB/s]\n",
            "100% 543M/543M [00:03<00:00, 157MB/s]\n",
            "Downloading test1.zip to /content\n",
            " 98% 267M/271M [00:02<00:00, 124MB/s]\n",
            "100% 271M/271M [00:03<00:00, 94.2MB/s]\n",
            "Downloading sampleSubmission.csv to /content\n",
            "  0% 0.00/86.8k [00:00<?, ?B/s]\n",
            "100% 86.8k/86.8k [00:00<00:00, 77.8MB/s]\n"
          ],
          "name": "stdout"
        }
      ]
    },
    {
      "cell_type": "code",
      "metadata": {
        "id": "PiwIL8d1n7eS",
        "colab": {
          "base_uri": "https://localhost:8080/"
        },
        "outputId": "b8429250-1ebe-4d1d-b9da-f6abf507faf5"
      },
      "source": [
        "# Unzip training data\n",
        "from zipfile import ZipFile\n",
        "file_name = \"/content/train.zip\"\n",
        "with ZipFile(file_name, 'r') as zip:\n",
        "  zip.extractall()\n",
        "  print('done')"
      ],
      "execution_count": null,
      "outputs": [
        {
          "output_type": "stream",
          "text": [
            "done\n"
          ],
          "name": "stdout"
        }
      ]
    },
    {
      "cell_type": "code",
      "metadata": {
        "id": "sa2Bj5i7pPKV",
        "colab": {
          "base_uri": "https://localhost:8080/"
        },
        "outputId": "503a5bac-d2f4-4b21-f4ef-a1457b6bfaa3"
      },
      "source": [
        "# Get all the paths\n",
        "data_dir_list = os.listdir('/content/train')\n",
        "#print(data_dir_list)\n",
        "path, dirs, files = next(os.walk(\"/content/train\"))\n",
        "file_count = len(files)\n",
        "print(file_count)"
      ],
      "execution_count": null,
      "outputs": [
        {
          "output_type": "stream",
          "text": [
            "25000\n"
          ],
          "name": "stdout"
        }
      ]
    },
    {
      "cell_type": "code",
      "metadata": {
        "id": "0ERlHkfHqpK8"
      },
      "source": [
        "# Make new base directory\n",
        "original_dataset_dir = '/content/train'\n",
        "base_dir = '/content/cats_and_dogs_small'\n",
        "os.mkdir(base_dir)"
      ],
      "execution_count": null,
      "outputs": []
    },
    {
      "cell_type": "code",
      "metadata": {
        "id": "AANB1UJ6rQhM"
      },
      "source": [
        "train_dir = os.path.join(base_dir, 'train')\n",
        "os.mkdir(train_dir)\n",
        "\n",
        "validation_dir = os.path.join(base_dir, 'validation')\n",
        "os.mkdir(validation_dir)\n",
        "\n",
        "test_dir = os.path.join(base_dir, 'test')\n",
        "os.mkdir(test_dir)\n",
        "\n",
        "train_cats_dir = os.path.join(train_dir, 'cats')\n",
        "os.mkdir(train_cats_dir)\n",
        "\n",
        "train_dogs_dir = os.path.join(train_dir, 'dogs')\n",
        "os.mkdir(train_dogs_dir)\n",
        "\n",
        "validation_cats_dir = os.path.join(validation_dir, 'cats')\n",
        "os.mkdir(validation_cats_dir)\n",
        "\n",
        "validation_dogs_dir = os.path.join(validation_dir, 'dogs')\n",
        "os.mkdir(validation_dogs_dir)\n",
        "\n",
        "test_cats_dir = os.path.join(test_dir, 'cats')\n",
        "os.mkdir(test_cats_dir)\n",
        "\n",
        "test_dogs_dir = os.path.join(test_dir, 'dogs')\n",
        "os.mkdir(test_dogs_dir)"
      ],
      "execution_count": null,
      "outputs": []
    },
    {
      "cell_type": "code",
      "metadata": {
        "id": "ULRgL9s9rV8T"
      },
      "source": [
        "import shutil\n",
        "fnames = ['cat.{}.jpg'.format(i) for i in range(1000)]\n",
        "for fname in fnames:\n",
        "    src = os.path.join(original_dataset_dir, fname)\n",
        "    dst = os.path.join(train_cats_dir, fname)\n",
        "    #print(src,dst)\n",
        "    shutil.copyfile(src, dst)\n",
        "    \n",
        "fnames = ['cat.{}.jpg'.format(i) for i in range(1000, 1500)]\n",
        "for fname in fnames:\n",
        "    src = os.path.join(original_dataset_dir, fname)\n",
        "    dst = os.path.join(validation_cats_dir, fname)\n",
        "    shutil.copyfile(src, dst)\n",
        "\n",
        "fnames = ['cat.{}.jpg'.format(i) for i in range(1500, 2000)]\n",
        "for fname in fnames:\n",
        "    src = os.path.join(original_dataset_dir, fname)\n",
        "    dst = os.path.join(test_cats_dir, fname)\n",
        "    shutil.copyfile(src, dst)\n",
        "    \n",
        "fnames = ['dog.{}.jpg'.format(i) for i in range(1000)]\n",
        "for fname in fnames:\n",
        "    src = os.path.join(original_dataset_dir, fname)\n",
        "    dst = os.path.join(train_dogs_dir, fname)\n",
        "    shutil.copyfile(src, dst)\n",
        "\n",
        "fnames = ['dog.{}.jpg'.format(i) for i in range(1000, 1500)]\n",
        "for fname in fnames:\n",
        "    src = os.path.join(original_dataset_dir, fname)\n",
        "    dst = os.path.join(validation_dogs_dir, fname)\n",
        "    shutil.copyfile(src, dst)\n",
        "\n",
        "fnames = ['dog.{}.jpg'.format(i) for i in range(1500, 2000)]\n",
        "for fname in fnames:\n",
        "    src = os.path.join(original_dataset_dir, fname)\n",
        "    dst = os.path.join(test_dogs_dir, fname)\n",
        "    shutil.copyfile(src, dst)"
      ],
      "execution_count": null,
      "outputs": []
    },
    {
      "cell_type": "code",
      "metadata": {
        "id": "ul3XAbIyr7vC",
        "colab": {
          "base_uri": "https://localhost:8080/"
        },
        "outputId": "48781e3a-fcae-4713-e2d2-3ddb4dcd7a83"
      },
      "source": [
        "print('total training cat images:', len(os.listdir(train_cats_dir)))\n",
        "print('total training dog images:', len(os.listdir(train_dogs_dir)))\n",
        "print('total validation cat images:', len(os.listdir(validation_cats_dir)))\n",
        "\n",
        "print('total validation dog images:', len(os.listdir(validation_dogs_dir)))\n",
        "print('total test cat images:', len(os.listdir(test_cats_dir)))\n",
        "print('total test dog images:', len(os.listdir(test_dogs_dir)))"
      ],
      "execution_count": null,
      "outputs": [
        {
          "output_type": "stream",
          "text": [
            "total training cat images: 1000\n",
            "total training dog images: 1000\n",
            "total validation cat images: 500\n",
            "total validation dog images: 500\n",
            "total test cat images: 500\n",
            "total test dog images: 500\n"
          ],
          "name": "stdout"
        }
      ]
    },
    {
      "cell_type": "code",
      "metadata": {
        "id": "o9yTA21_r-ma",
        "colab": {
          "base_uri": "https://localhost:8080/"
        },
        "outputId": "d4874bea-6db9-4eab-dacd-e56072eae659"
      },
      "source": [
        "from keras import layers\n",
        "from keras import models\n",
        "\n",
        "model = models.Sequential()\n",
        "model.add(layers.Conv2D(32, (3, 3), activation='relu', input_shape=(150, 150, 3)))\n",
        "model.add(layers.MaxPooling2D((2, 2)))\n",
        "model.add(layers.Conv2D(64, (3, 3), activation='relu'))\n",
        "model.add(layers.MaxPooling2D((2, 2)))\n",
        "model.add(layers.Conv2D(128, (3, 3), activation='relu'))\n",
        "model.add(layers.MaxPooling2D((2, 2)))\n",
        "model.add(layers.Conv2D(128, (3, 3), activation='relu'))\n",
        "model.add(layers.MaxPooling2D((2, 2)))\n",
        "model.add(layers.Flatten())\n",
        "model.add(layers.Dense(512, activation='relu'))\n",
        "model.add(layers.Dense(1, activation='sigmoid'))\n",
        "model.summary()"
      ],
      "execution_count": null,
      "outputs": [
        {
          "output_type": "stream",
          "text": [
            "Model: \"sequential\"\n",
            "_________________________________________________________________\n",
            "Layer (type)                 Output Shape              Param #   \n",
            "=================================================================\n",
            "conv2d (Conv2D)              (None, 148, 148, 32)      896       \n",
            "_________________________________________________________________\n",
            "max_pooling2d (MaxPooling2D) (None, 74, 74, 32)        0         \n",
            "_________________________________________________________________\n",
            "conv2d_1 (Conv2D)            (None, 72, 72, 64)        18496     \n",
            "_________________________________________________________________\n",
            "max_pooling2d_1 (MaxPooling2 (None, 36, 36, 64)        0         \n",
            "_________________________________________________________________\n",
            "conv2d_2 (Conv2D)            (None, 34, 34, 128)       73856     \n",
            "_________________________________________________________________\n",
            "max_pooling2d_2 (MaxPooling2 (None, 17, 17, 128)       0         \n",
            "_________________________________________________________________\n",
            "conv2d_3 (Conv2D)            (None, 15, 15, 128)       147584    \n",
            "_________________________________________________________________\n",
            "max_pooling2d_3 (MaxPooling2 (None, 7, 7, 128)         0         \n",
            "_________________________________________________________________\n",
            "flatten (Flatten)            (None, 6272)              0         \n",
            "_________________________________________________________________\n",
            "dense (Dense)                (None, 512)               3211776   \n",
            "_________________________________________________________________\n",
            "dense_1 (Dense)              (None, 1)                 513       \n",
            "=================================================================\n",
            "Total params: 3,453,121\n",
            "Trainable params: 3,453,121\n",
            "Non-trainable params: 0\n",
            "_________________________________________________________________\n"
          ],
          "name": "stdout"
        }
      ]
    },
    {
      "cell_type": "code",
      "metadata": {
        "id": "2mG8wekxsBVS"
      },
      "source": [
        "from keras import optimizers\n",
        "model.compile(loss='binary_crossentropy', \n",
        "              optimizer=optimizers.RMSprop(lr=1e-4),\n",
        "              metrics=['acc'])"
      ],
      "execution_count": null,
      "outputs": []
    },
    {
      "cell_type": "markdown",
      "metadata": {
        "id": "7zS4Klm8qWp6"
      },
      "source": [
        "## Using ImageDataGenerator to read images from directories\n",
        "As you know by now, data should be formatted into appropriately preprocessed floatingpoint tensors before being fed into the network. Currently, the data sits on a drive as JPEG files, so the steps for getting it into the network are roughly as follows:\n",
        "\n",
        "* Read the picture files.\n",
        "* Decode the JPEG content to RGB grids of pixels.\n",
        "* Convert these into floating-point tensors.\n",
        "* Rescale the pixel values (between 0 and 255) to the [0, 1] interval (as you know, neural networks prefer to deal with small input values).\n",
        "\n",
        "It may seem a bit daunting, but fortunately Keras has utilities to take care of these steps automatically. Keras has a module with image-processing helper tools, located at keras.preprocessing.image. In particular, it contains the class ImageDataGenerator,which lets you quickly set up Python generators that can automatically turn image files on disk into batches of preprocessed tensors."
      ]
    },
    {
      "cell_type": "code",
      "metadata": {
        "id": "XJ7XU7t9sEh6",
        "colab": {
          "base_uri": "https://localhost:8080/"
        },
        "outputId": "008e578e-2c16-419e-b46f-3330c5deac68"
      },
      "source": [
        "from keras.preprocessing.image import ImageDataGenerator\n",
        "\n",
        "train_datagen = ImageDataGenerator(rescale=1./255)\n",
        "test_datagen = ImageDataGenerator(rescale=1./255)\n",
        "\n",
        "train_generator = train_datagen.flow_from_directory(train_dir,\n",
        "                                                    target_size=(150, 150), \n",
        "                                                    batch_size=20,\n",
        "                                                    class_mode='binary')\n",
        "\n",
        "validation_generator = test_datagen.flow_from_directory(validation_dir,\n",
        "                                                        target_size=(150, 150),\n",
        "                                                        batch_size=20,\n",
        "                                                        class_mode='binary')"
      ],
      "execution_count": null,
      "outputs": [
        {
          "output_type": "stream",
          "text": [
            "Found 2000 images belonging to 2 classes.\n",
            "Found 1000 images belonging to 2 classes.\n"
          ],
          "name": "stdout"
        }
      ]
    },
    {
      "cell_type": "markdown",
      "metadata": {
        "id": "SEgLywySqm4u"
      },
      "source": [
        "Let’s fit the model to the data using the generator. You do so using the fit_generator method, the equivalent of fit for data generators like this one. It expects as its first argument a Python generator that will yield batches of inputs and targets indefinitely,like this one does. Because the data is being generated endlessly, the Keras model needs to know how many samples to draw from the generator before declaring anepoch over. This is the role of the `steps_per_epoch` argument: after having drawn `steps_per_epoch` batches from the generator—that is, after having run for `steps_per_epoch` gradient descent steps—the fitting process will go to the next epoch. In this case, batches are 20 samples, so it will take 100 batches until you see your target of 2,000 samples.\n",
        "\n",
        "When using fit_generator, you can pass a validation_data argument, much as with the fit method. It’s important to note that this argument is allowed to be a data generator, but it could also be a tuple of Numpy arrays. If you pass a generator as validation_data, then this generator is expected to yield batches of validation data endlessly; thus you should also specify the validation_steps argument, which tells the process how many batches to draw from the validation generator for evaluation."
      ]
    },
    {
      "cell_type": "code",
      "metadata": {
        "id": "yMyfPphJsJG6",
        "colab": {
          "base_uri": "https://localhost:8080/"
        },
        "outputId": "eea26d58-8890-436e-efc0-41a921001a69"
      },
      "source": [
        "history = model.fit_generator(train_generator,\n",
        "                              steps_per_epoch=100,\n",
        "                              epochs=30,\n",
        "                              validation_data=validation_generator,\n",
        "                              validation_steps=10)"
      ],
      "execution_count": null,
      "outputs": [
        {
          "output_type": "stream",
          "text": [
            "/usr/local/lib/python3.7/dist-packages/tensorflow/python/keras/engine/training.py:1844: UserWarning: `Model.fit_generator` is deprecated and will be removed in a future version. Please use `Model.fit`, which supports generators.\n",
            "  warnings.warn('`Model.fit_generator` is deprecated and '\n"
          ],
          "name": "stderr"
        },
        {
          "output_type": "stream",
          "text": [
            "Epoch 1/30\n",
            "100/100 [==============================] - 41s 75ms/step - loss: 0.6980 - acc: 0.5071 - val_loss: 0.6847 - val_acc: 0.5600\n",
            "Epoch 2/30\n",
            "100/100 [==============================] - 7s 73ms/step - loss: 0.6686 - acc: 0.6057 - val_loss: 0.6492 - val_acc: 0.6000\n",
            "Epoch 3/30\n",
            "100/100 [==============================] - 8s 75ms/step - loss: 0.6327 - acc: 0.6632 - val_loss: 0.6371 - val_acc: 0.6300\n",
            "Epoch 4/30\n",
            "100/100 [==============================] - 7s 73ms/step - loss: 0.6034 - acc: 0.6836 - val_loss: 0.6120 - val_acc: 0.6400\n",
            "Epoch 5/30\n",
            "100/100 [==============================] - 7s 71ms/step - loss: 0.5644 - acc: 0.7161 - val_loss: 0.6344 - val_acc: 0.6500\n",
            "Epoch 6/30\n",
            "100/100 [==============================] - 7s 72ms/step - loss: 0.5220 - acc: 0.7603 - val_loss: 0.5396 - val_acc: 0.7250\n",
            "Epoch 7/30\n",
            "100/100 [==============================] - 7s 73ms/step - loss: 0.4914 - acc: 0.7601 - val_loss: 0.5550 - val_acc: 0.7200\n",
            "Epoch 8/30\n",
            "100/100 [==============================] - 7s 74ms/step - loss: 0.4676 - acc: 0.7832 - val_loss: 0.5421 - val_acc: 0.7450\n",
            "Epoch 9/30\n",
            "100/100 [==============================] - 7s 74ms/step - loss: 0.4238 - acc: 0.8025 - val_loss: 0.5977 - val_acc: 0.6900\n",
            "Epoch 10/30\n",
            "100/100 [==============================] - 7s 74ms/step - loss: 0.4093 - acc: 0.8039 - val_loss: 0.5098 - val_acc: 0.7500\n",
            "Epoch 11/30\n",
            "100/100 [==============================] - 7s 74ms/step - loss: 0.3885 - acc: 0.8306 - val_loss: 0.5692 - val_acc: 0.7000\n",
            "Epoch 12/30\n",
            "100/100 [==============================] - 8s 75ms/step - loss: 0.3462 - acc: 0.8496 - val_loss: 0.5359 - val_acc: 0.7750\n",
            "Epoch 13/30\n",
            "100/100 [==============================] - 8s 75ms/step - loss: 0.3156 - acc: 0.8685 - val_loss: 0.7360 - val_acc: 0.6800\n",
            "Epoch 14/30\n",
            "100/100 [==============================] - 7s 74ms/step - loss: 0.3144 - acc: 0.8649 - val_loss: 0.4679 - val_acc: 0.7850\n",
            "Epoch 15/30\n",
            "100/100 [==============================] - 7s 74ms/step - loss: 0.2792 - acc: 0.8876 - val_loss: 0.6106 - val_acc: 0.7350\n",
            "Epoch 16/30\n",
            "100/100 [==============================] - 7s 73ms/step - loss: 0.2565 - acc: 0.9016 - val_loss: 0.5130 - val_acc: 0.8000\n",
            "Epoch 17/30\n",
            "100/100 [==============================] - 8s 75ms/step - loss: 0.2403 - acc: 0.9123 - val_loss: 0.5529 - val_acc: 0.7500\n",
            "Epoch 18/30\n",
            "100/100 [==============================] - 7s 74ms/step - loss: 0.2076 - acc: 0.9347 - val_loss: 0.7075 - val_acc: 0.7300\n",
            "Epoch 19/30\n",
            "100/100 [==============================] - 8s 76ms/step - loss: 0.1900 - acc: 0.9286 - val_loss: 0.7332 - val_acc: 0.7000\n",
            "Epoch 20/30\n",
            "100/100 [==============================] - 7s 75ms/step - loss: 0.1828 - acc: 0.9299 - val_loss: 0.6805 - val_acc: 0.7350\n",
            "Epoch 21/30\n",
            "100/100 [==============================] - 8s 75ms/step - loss: 0.1494 - acc: 0.9524 - val_loss: 0.5957 - val_acc: 0.7850\n",
            "Epoch 22/30\n",
            "100/100 [==============================] - 7s 75ms/step - loss: 0.1330 - acc: 0.9539 - val_loss: 0.6143 - val_acc: 0.7800\n",
            "Epoch 23/30\n",
            "100/100 [==============================] - 8s 75ms/step - loss: 0.1096 - acc: 0.9663 - val_loss: 0.8423 - val_acc: 0.7200\n",
            "Epoch 24/30\n",
            "100/100 [==============================] - 8s 75ms/step - loss: 0.1017 - acc: 0.9722 - val_loss: 1.0995 - val_acc: 0.6850\n",
            "Epoch 25/30\n",
            "100/100 [==============================] - 8s 76ms/step - loss: 0.1042 - acc: 0.9643 - val_loss: 0.7181 - val_acc: 0.7400\n",
            "Epoch 26/30\n",
            "100/100 [==============================] - 8s 76ms/step - loss: 0.0704 - acc: 0.9781 - val_loss: 0.9489 - val_acc: 0.7350\n",
            "Epoch 27/30\n",
            "100/100 [==============================] - 8s 76ms/step - loss: 0.0650 - acc: 0.9808 - val_loss: 1.3247 - val_acc: 0.6850\n",
            "Epoch 28/30\n",
            "100/100 [==============================] - 8s 75ms/step - loss: 0.0535 - acc: 0.9817 - val_loss: 1.2148 - val_acc: 0.6900\n",
            "Epoch 29/30\n",
            "100/100 [==============================] - 7s 74ms/step - loss: 0.0471 - acc: 0.9913 - val_loss: 1.0145 - val_acc: 0.7450\n",
            "Epoch 30/30\n",
            "100/100 [==============================] - 7s 73ms/step - loss: 0.0349 - acc: 0.9940 - val_loss: 0.8840 - val_acc: 0.7400\n"
          ],
          "name": "stdout"
        }
      ]
    },
    {
      "cell_type": "code",
      "metadata": {
        "id": "MZaZ2HWZsNUi",
        "colab": {
          "base_uri": "https://localhost:8080/",
          "height": 545
        },
        "outputId": "034e1369-88cc-486d-b3f9-f02be96f8602"
      },
      "source": [
        "model.save('cats_and_dogs_small_1.h5')\n",
        "\n",
        "import matplotlib.pyplot as plt\n",
        "\n",
        "acc = history.history['acc']\n",
        "val_acc = history.history['val_acc']\n",
        "loss = history.history['loss']\n",
        "val_loss = history.history['val_loss']\n",
        "\n",
        "epochs = range(1, len(acc) + 1)\n",
        "\n",
        "plt.plot(epochs, acc, 'bo', label='Training acc')\n",
        "plt.plot(epochs, val_acc, 'b', label='Validation acc')\n",
        "plt.title('Training and validation accuracy')\n",
        "plt.legend()\n",
        "\n",
        "plt.figure()\n",
        "\n",
        "plt.plot(epochs, loss, 'bo', label='Training loss')\n",
        "plt.plot(epochs, val_loss, 'b', label='Validation loss')\n",
        "plt.title('Training and validation loss')\n",
        "plt.legend()\n",
        "\n",
        "plt.show()"
      ],
      "execution_count": null,
      "outputs": [
        {
          "output_type": "display_data",
          "data": {
            "image/png": "[encoded data removed]",
            "text/plain": [
              "<Figure size 432x288 with 1 Axes>"
            ]
          },
          "metadata": {
            "tags": [],
            "needs_background": "light"
          }
        },
        {
          "output_type": "display_data",
          "data": {
            "image/png": "[encoded data removed]",
            "text/plain": [
              "<Figure size 432x288 with 1 Axes>"
            ]
          },
          "metadata": {
            "tags": [],
            "needs_background": "light"
          }
        }
      ]
    },
    {
      "cell_type": "markdown",
      "metadata": {
        "id": "XKZmXmBcq_8-"
      },
      "source": [
        "## Convolutional Networks with Dropout\n",
        "\n",
        "![alt text](https://camo.githubusercontent.com/ee6fa1073247cd2c3d241300caf110d7a7541bc5/68747470733a2f2f63646e2d696d616765732d312e6d656469756d2e636f6d2f6d61782f3830302f312a4972644a355067684439596f4f7956415137334d4a772e676966)\n",
        "\n",
        "Ref: https://github.com/mneha4/Training-Neural-Nets---Guidelines"
      ]
    },
    {
      "cell_type": "code",
      "metadata": {
        "id": "wu3cqeYQrDeN"
      },
      "source": [
        "from keras import layers\n",
        "from keras import models\n",
        "from keras import optimizers\n",
        "model = models.Sequential()\n",
        "model.add(layers.Conv2D(32, (3, 3), activation='relu',\n",
        "input_shape=(150, 150, 3)))\n",
        "model.add(layers.MaxPooling2D((2, 2)))\n",
        "model.add(layers.Conv2D(64, (3, 3), activation='relu'))\n",
        "model.add(layers.MaxPooling2D((2, 2)))\n",
        "model.add(layers.Conv2D(128, (3, 3), activation='relu'))\n",
        "model.add(layers.MaxPooling2D((2, 2)))\n",
        "model.add(layers.Conv2D(128, (3, 3), activation='relu'))\n",
        "model.add(layers.MaxPooling2D((2, 2)))\n",
        "model.add(layers.Flatten())\n",
        "model.add(layers.Dropout(0.5))\n",
        "model.add(layers.Dense(512, activation='relu'))\n",
        "model.add(layers.Dense(1, activation='sigmoid'))\n",
        "\n",
        "model.compile(loss='binary_crossentropy',\n",
        "              optimizer=optimizers.RMSprop(lr=1e-4),\n",
        "              metrics=['acc'])"
      ],
      "execution_count": null,
      "outputs": []
    },
    {
      "cell_type": "code",
      "metadata": {
        "id": "QSeLpvY0rH7F",
        "colab": {
          "base_uri": "https://localhost:8080/"
        },
        "outputId": "7197e71d-1594-4e38-9ae8-965724966073"
      },
      "source": [
        "\n",
        "train_datagen = ImageDataGenerator(rescale=1./255,\n",
        "                                   rotation_range=40,\n",
        "                                   width_shift_range=0.2,\n",
        "                                   height_shift_range=0.2,\n",
        "                                   shear_range=0.2,\n",
        "                                   zoom_range=0.2,\n",
        "                                   horizontal_flip=True,)\n",
        "\n",
        "test_datagen = ImageDataGenerator(rescale=1./255)\n",
        "\n",
        "train_generator = train_datagen.flow_from_directory(train_dir,\n",
        "                                                    target_size=(150, 150),\n",
        "                                                    batch_size=20,\n",
        "                                                    class_mode='binary')\n",
        "\n",
        "validation_generator = test_datagen.flow_from_directory(validation_dir,\n",
        "                                                        target_size=(150, 150),\n",
        "                                                        batch_size=20,\n",
        "                                                        class_mode='binary')\n",
        "\n"
      ],
      "execution_count": null,
      "outputs": [
        {
          "output_type": "stream",
          "text": [
            "Found 2000 images belonging to 2 classes.\n",
            "Found 1000 images belonging to 2 classes.\n"
          ],
          "name": "stdout"
        }
      ]
    },
    {
      "cell_type": "code",
      "metadata": {
        "id": "J9ETG4ISOaU9",
        "colab": {
          "base_uri": "https://localhost:8080/"
        },
        "outputId": "3bd9fa7c-da35-4825-822e-d5af12dc37d5"
      },
      "source": [
        "history = model.fit_generator(train_generator,\n",
        "                              steps_per_epoch=100,\n",
        "                              epochs=20,\n",
        "                              validation_data=validation_generator,\n",
        "                              validation_steps=50)"
      ],
      "execution_count": null,
      "outputs": [
        {
          "output_type": "stream",
          "text": [
            "/usr/local/lib/python3.7/dist-packages/tensorflow/python/keras/engine/training.py:1844: UserWarning: `Model.fit_generator` is deprecated and will be removed in a future version. Please use `Model.fit`, which supports generators.\n",
            "  warnings.warn('`Model.fit_generator` is deprecated and '\n"
          ],
          "name": "stderr"
        },
        {
          "output_type": "stream",
          "text": [
            "Epoch 1/20\n",
            "100/100 [==============================] - 20s 190ms/step - loss: 0.7001 - acc: 0.5172 - val_loss: 0.6867 - val_acc: 0.5480\n",
            "Epoch 2/20\n",
            "100/100 [==============================] - 19s 190ms/step - loss: 0.6891 - acc: 0.5455 - val_loss: 0.6690 - val_acc: 0.5740\n",
            "Epoch 3/20\n",
            "100/100 [==============================] - 19s 190ms/step - loss: 0.6810 - acc: 0.5579 - val_loss: 0.6713 - val_acc: 0.5860\n",
            "Epoch 4/20\n",
            "100/100 [==============================] - 19s 189ms/step - loss: 0.6683 - acc: 0.5821 - val_loss: 0.6739 - val_acc: 0.5800\n",
            "Epoch 5/20\n",
            "100/100 [==============================] - 19s 190ms/step - loss: 0.6686 - acc: 0.5904 - val_loss: 0.6507 - val_acc: 0.6090\n",
            "Epoch 6/20\n",
            "100/100 [==============================] - 19s 188ms/step - loss: 0.6595 - acc: 0.6000 - val_loss: 0.6543 - val_acc: 0.6190\n",
            "Epoch 7/20\n",
            "100/100 [==============================] - 19s 190ms/step - loss: 0.6486 - acc: 0.6171 - val_loss: 0.6438 - val_acc: 0.6270\n",
            "Epoch 8/20\n",
            "100/100 [==============================] - 19s 191ms/step - loss: 0.6329 - acc: 0.6288 - val_loss: 0.5855 - val_acc: 0.6820\n",
            "Epoch 9/20\n",
            "100/100 [==============================] - 19s 190ms/step - loss: 0.6088 - acc: 0.6699 - val_loss: 0.5979 - val_acc: 0.6580\n",
            "Epoch 10/20\n",
            "100/100 [==============================] - 19s 189ms/step - loss: 0.6019 - acc: 0.6770 - val_loss: 0.5697 - val_acc: 0.7010\n",
            "Epoch 11/20\n",
            "100/100 [==============================] - 19s 190ms/step - loss: 0.5911 - acc: 0.6614 - val_loss: 0.5656 - val_acc: 0.7020\n",
            "Epoch 12/20\n",
            "100/100 [==============================] - 19s 188ms/step - loss: 0.6044 - acc: 0.6569 - val_loss: 0.5658 - val_acc: 0.7110\n",
            "Epoch 13/20\n",
            "100/100 [==============================] - 19s 190ms/step - loss: 0.5749 - acc: 0.6982 - val_loss: 0.5728 - val_acc: 0.6990\n",
            "Epoch 14/20\n",
            "100/100 [==============================] - 19s 191ms/step - loss: 0.5760 - acc: 0.6936 - val_loss: 0.6533 - val_acc: 0.6290\n",
            "Epoch 15/20\n",
            "100/100 [==============================] - 19s 191ms/step - loss: 0.5700 - acc: 0.6992 - val_loss: 0.5583 - val_acc: 0.6940\n",
            "Epoch 16/20\n",
            "100/100 [==============================] - 19s 191ms/step - loss: 0.5554 - acc: 0.7179 - val_loss: 0.5518 - val_acc: 0.6960\n",
            "Epoch 17/20\n",
            "100/100 [==============================] - 19s 192ms/step - loss: 0.5854 - acc: 0.7036 - val_loss: 0.6423 - val_acc: 0.6560\n",
            "Epoch 18/20\n",
            "100/100 [==============================] - 19s 191ms/step - loss: 0.5674 - acc: 0.6906 - val_loss: 0.7379 - val_acc: 0.6420\n",
            "Epoch 19/20\n",
            "100/100 [==============================] - 19s 192ms/step - loss: 0.5527 - acc: 0.7023 - val_loss: 0.6145 - val_acc: 0.6700\n",
            "Epoch 20/20\n",
            "100/100 [==============================] - 19s 191ms/step - loss: 0.5640 - acc: 0.7083 - val_loss: 0.5340 - val_acc: 0.7310\n"
          ],
          "name": "stdout"
        }
      ]
    },
    {
      "cell_type": "markdown",
      "metadata": {
        "id": "BRdU5yrkUF_b"
      },
      "source": [
        "# Task 2:\n",
        "\n",
        "We have used Dropout to enhance the performance of the CNN model. Can you please use whatever you like to further enhance the performance from `val_acc: 0.7506`? "
      ]
    },
    {
      "cell_type": "code",
      "metadata": {
        "colab": {
          "base_uri": "https://localhost:8080/"
        },
        "id": "BwDM6MBeOP8v",
        "outputId": "d5016dab-daeb-4d9a-aee2-399249a0ba8d"
      },
      "source": [
        "train_generator = train_datagen.flow_from_directory(train_dir,\n",
        "                                                    target_size=(150, 150),\n",
        "                                                    batch_size=32,\n",
        "                                                    class_mode='binary')\n",
        "\n",
        "validation_generator = test_datagen.flow_from_directory(validation_dir,\n",
        "                                                        target_size=(150, 150),\n",
        "                                                        batch_size=32,\n",
        "                                                        class_mode='binary')\n",
        "\n",
        "model.fit_generator(train_generator,\n",
        "                              steps_per_epoch=1500//32,\n",
        "                              epochs=64,\n",
        "                              validation_data=validation_generator,\n",
        "                              validation_steps=1500//32)"
      ],
      "execution_count": null,
      "outputs": [
        {
          "output_type": "stream",
          "text": [
            "Found 2000 images belonging to 2 classes.\n",
            "Found 1000 images belonging to 2 classes.\n"
          ],
          "name": "stdout"
        },
        {
          "output_type": "stream",
          "text": [
            "/usr/local/lib/python3.7/dist-packages/tensorflow/python/keras/engine/training.py:1844: UserWarning: `Model.fit_generator` is deprecated and will be removed in a future version. Please use `Model.fit`, which supports generators.\n",
            "  warnings.warn('`Model.fit_generator` is deprecated and '\n"
          ],
          "name": "stderr"
        },
        {
          "output_type": "stream",
          "text": [
            "Epoch 1/64\n",
            "46/46 [==============================] - ETA: 0s - loss: 0.5406 - acc: 0.7198WARNING:tensorflow:Your input ran out of data; interrupting training. Make sure that your dataset or generator can generate at least `steps_per_epoch * epochs` batches (in this case, 46 batches). You may need to use the repeat() function when building your dataset.\n",
            "46/46 [==============================] - 15s 322ms/step - loss: 0.5406 - acc: 0.7198 - val_loss: 0.5510 - val_acc: 0.7130\n",
            "Epoch 2/64\n",
            "46/46 [==============================] - 12s 251ms/step - loss: 0.5597 - acc: 0.7040\n",
            "Epoch 3/64\n",
            "46/46 [==============================] - 12s 252ms/step - loss: 0.5317 - acc: 0.7404\n",
            "Epoch 4/64\n",
            "46/46 [==============================] - 12s 251ms/step - loss: 0.5502 - acc: 0.7260\n",
            "Epoch 5/64\n",
            "46/46 [==============================] - 12s 251ms/step - loss: 0.5492 - acc: 0.7109\n",
            "Epoch 6/64\n",
            "46/46 [==============================] - 12s 253ms/step - loss: 0.5314 - acc: 0.7218\n",
            "Epoch 7/64\n",
            "46/46 [==============================] - 12s 253ms/step - loss: 0.5325 - acc: 0.7431\n",
            "Epoch 8/64\n",
            "46/46 [==============================] - 12s 253ms/step - loss: 0.5471 - acc: 0.7260\n",
            "Epoch 9/64\n",
            "46/46 [==============================] - 12s 252ms/step - loss: 0.5102 - acc: 0.7569\n",
            "Epoch 10/64\n",
            "46/46 [==============================] - 12s 251ms/step - loss: 0.5271 - acc: 0.7266\n",
            "Epoch 11/64\n",
            "46/46 [==============================] - 12s 251ms/step - loss: 0.5222 - acc: 0.7493\n",
            "Epoch 12/64\n",
            "46/46 [==============================] - 11s 248ms/step - loss: 0.5209 - acc: 0.7246\n",
            "Epoch 13/64\n",
            "46/46 [==============================] - 11s 250ms/step - loss: 0.5161 - acc: 0.7424\n",
            "Epoch 14/64\n",
            "46/46 [==============================] - 11s 248ms/step - loss: 0.5209 - acc: 0.7349\n",
            "Epoch 15/64\n",
            "46/46 [==============================] - 12s 250ms/step - loss: 0.5187 - acc: 0.7588\n",
            "Epoch 16/64\n",
            "46/46 [==============================] - 11s 247ms/step - loss: 0.5048 - acc: 0.7596\n",
            "Epoch 17/64\n",
            "46/46 [==============================] - 12s 250ms/step - loss: 0.5294 - acc: 0.7273\n",
            "Epoch 18/64\n",
            "46/46 [==============================] - 12s 250ms/step - loss: 0.5156 - acc: 0.7376\n",
            "Epoch 19/64\n",
            "46/46 [==============================] - 11s 249ms/step - loss: 0.4985 - acc: 0.7555\n",
            "Epoch 20/64\n",
            "46/46 [==============================] - 12s 254ms/step - loss: 0.5100 - acc: 0.7405\n",
            "Epoch 21/64\n",
            "46/46 [==============================] - 12s 252ms/step - loss: 0.5153 - acc: 0.7466\n",
            "Epoch 22/64\n",
            "46/46 [==============================] - 12s 251ms/step - loss: 0.4926 - acc: 0.7562\n",
            "Epoch 23/64\n",
            "46/46 [==============================] - 12s 254ms/step - loss: 0.5204 - acc: 0.7269\n",
            "Epoch 24/64\n",
            "46/46 [==============================] - 12s 254ms/step - loss: 0.4902 - acc: 0.7649\n",
            "Epoch 25/64\n",
            "46/46 [==============================] - 12s 250ms/step - loss: 0.5046 - acc: 0.7445\n",
            "Epoch 26/64\n",
            "46/46 [==============================] - 11s 249ms/step - loss: 0.4942 - acc: 0.7569\n",
            "Epoch 27/64\n",
            "46/46 [==============================] - 11s 249ms/step - loss: 0.5087 - acc: 0.7500\n",
            "Epoch 28/64\n",
            "46/46 [==============================] - 12s 253ms/step - loss: 0.4958 - acc: 0.7445\n",
            "Epoch 29/64\n",
            "46/46 [==============================] - 11s 248ms/step - loss: 0.4995 - acc: 0.7603\n",
            "Epoch 30/64\n",
            "46/46 [==============================] - 11s 249ms/step - loss: 0.4916 - acc: 0.7596\n",
            "Epoch 31/64\n",
            "46/46 [==============================] - 11s 248ms/step - loss: 0.4884 - acc: 0.7644\n",
            "Epoch 32/64\n",
            "46/46 [==============================] - 12s 250ms/step - loss: 0.4883 - acc: 0.7582\n",
            "Epoch 33/64\n",
            "46/46 [==============================] - 11s 248ms/step - loss: 0.4764 - acc: 0.7692\n",
            "Epoch 34/64\n",
            "46/46 [==============================] - 11s 248ms/step - loss: 0.4817 - acc: 0.7617\n",
            "Epoch 35/64\n",
            "46/46 [==============================] - 11s 248ms/step - loss: 0.4897 - acc: 0.7610\n",
            "Epoch 36/64\n",
            "46/46 [==============================] - 11s 248ms/step - loss: 0.4830 - acc: 0.7685\n",
            "Epoch 37/64\n",
            "46/46 [==============================] - 11s 248ms/step - loss: 0.4685 - acc: 0.7672\n",
            "Epoch 38/64\n",
            "46/46 [==============================] - 11s 248ms/step - loss: 0.4892 - acc: 0.7527\n",
            "Epoch 39/64\n",
            "46/46 [==============================] - 11s 249ms/step - loss: 0.4823 - acc: 0.7644\n",
            "Epoch 40/64\n",
            "46/46 [==============================] - 11s 249ms/step - loss: 0.4648 - acc: 0.7720\n",
            "Epoch 41/64\n",
            "46/46 [==============================] - 11s 246ms/step - loss: 0.4645 - acc: 0.7768\n",
            "Epoch 42/64\n",
            "46/46 [==============================] - 12s 251ms/step - loss: 0.4831 - acc: 0.7656\n",
            "Epoch 43/64\n",
            "46/46 [==============================] - 11s 248ms/step - loss: 0.4739 - acc: 0.7610\n",
            "Epoch 44/64\n",
            "46/46 [==============================] - 12s 251ms/step - loss: 0.4660 - acc: 0.7761\n",
            "Epoch 45/64\n",
            "46/46 [==============================] - 11s 249ms/step - loss: 0.4735 - acc: 0.7761\n",
            "Epoch 46/64\n",
            "46/46 [==============================] - 12s 252ms/step - loss: 0.4589 - acc: 0.7812\n",
            "Epoch 47/64\n",
            "46/46 [==============================] - 11s 249ms/step - loss: 0.4519 - acc: 0.7933\n",
            "Epoch 48/64\n",
            "46/46 [==============================] - 11s 247ms/step - loss: 0.4557 - acc: 0.7816\n",
            "Epoch 49/64\n",
            "46/46 [==============================] - 11s 246ms/step - loss: 0.4644 - acc: 0.7761\n",
            "Epoch 50/64\n",
            "46/46 [==============================] - 11s 245ms/step - loss: 0.4539 - acc: 0.7898\n",
            "Epoch 51/64\n",
            "46/46 [==============================] - 11s 246ms/step - loss: 0.4526 - acc: 0.7823\n",
            "Epoch 52/64\n",
            "46/46 [==============================] - 11s 247ms/step - loss: 0.4565 - acc: 0.7826\n",
            "Epoch 53/64\n",
            "46/46 [==============================] - 11s 245ms/step - loss: 0.4609 - acc: 0.7823\n",
            "Epoch 54/64\n",
            "46/46 [==============================] - 11s 245ms/step - loss: 0.4480 - acc: 0.7953\n",
            "Epoch 55/64\n",
            "46/46 [==============================] - 11s 244ms/step - loss: 0.4537 - acc: 0.7816\n",
            "Epoch 56/64\n",
            "46/46 [==============================] - 11s 246ms/step - loss: 0.4518 - acc: 0.7857\n",
            "Epoch 57/64\n",
            "46/46 [==============================] - 11s 243ms/step - loss: 0.4589 - acc: 0.7823\n",
            "Epoch 58/64\n",
            "46/46 [==============================] - 11s 249ms/step - loss: 0.4564 - acc: 0.7928\n",
            "Epoch 59/64\n",
            "46/46 [==============================] - 11s 248ms/step - loss: 0.4571 - acc: 0.7795\n",
            "Epoch 60/64\n",
            "46/46 [==============================] - 11s 243ms/step - loss: 0.4375 - acc: 0.7864\n",
            "Epoch 61/64\n",
            "46/46 [==============================] - 11s 247ms/step - loss: 0.4512 - acc: 0.7830\n",
            "Epoch 62/64\n",
            "46/46 [==============================] - 11s 244ms/step - loss: 0.4474 - acc: 0.7878\n",
            "Epoch 63/64\n",
            "46/46 [==============================] - 11s 246ms/step - loss: 0.4521 - acc: 0.7926\n",
            "Epoch 64/64\n",
            "46/46 [==============================] - 11s 245ms/step - loss: 0.4507 - acc: 0.7857\n"
          ],
          "name": "stdout"
        },
        {
          "output_type": "execute_result",
          "data": {
            "text/plain": [
              "<tensorflow.python.keras.callbacks.History at 0x7fca97e5bad0>"
            ]
          },
          "metadata": {
            "tags": []
          },
          "execution_count": 16
        }
      ]
    },
    {
      "cell_type": "markdown",
      "metadata": {
        "id": "3WeNZwhmOnIg"
      },
      "source": [
        "We got 80% accuracy."
      ]
    },
    {
      "cell_type": "markdown",
      "metadata": {
        "id": "bi9w7ExXc05i"
      },
      "source": [
        "**Transfer Leanrning method**\n",
        "\n",
        "Code source: https://towardsdatascience.com/transfer-learning-and-image-classification-using-keras-on-kaggle-kernels-c76d3b030649\n"
      ]
    },
    {
      "cell_type": "code",
      "metadata": {
        "colab": {
          "base_uri": "https://localhost:8080/"
        },
        "id": "gGRdBNlJQHGC",
        "outputId": "b584bb04-0698-4e64-d766-41d663b92266"
      },
      "source": [
        "from keras.applications import InceptionResNetV2\n",
        "\n",
        "conv_base = InceptionResNetV2(weights='imagenet', include_top=False, input_shape=(150,150,3))"
      ],
      "execution_count": null,
      "outputs": [
        {
          "output_type": "stream",
          "text": [
            "Downloading data from https://storage.googleapis.com/tensorflow/keras-applications/inception_resnet_v2/inception_resnet_v2_weights_tf_dim_ordering_tf_kernels_notop.h5\n",
            "219062272/219055592 [==============================] - 2s 0us/step\n"
          ],
          "name": "stdout"
        }
      ]
    },
    {
      "cell_type": "code",
      "metadata": {
        "id": "87W2Dt_pc0Ly"
      },
      "source": [
        "from keras.preprocessing.image import ImageDataGenerator\n",
        "from keras.preprocessing.image import img_to_array, load_img\n",
        "from keras import optimizers\n",
        "\n",
        "model = models.Sequential()\n",
        "model.add(conv_base)\n",
        "model.add(layers.Flatten())\n",
        "model.add(layers.Dense(256, activation='relu'))\n",
        "model.add(layers.Dense(1, activation='sigmoid'))  #Sigmoid function at the end because we have just two classes"
      ],
      "execution_count": null,
      "outputs": []
    },
    {
      "cell_type": "code",
      "metadata": {
        "colab": {
          "base_uri": "https://localhost:8080/"
        },
        "id": "zEMiKnPMPISf",
        "outputId": "539f0b7e-9b39-4353-c8dd-83e46bc3d524"
      },
      "source": [
        "print('Number of trainable weights before freezing the conv base:', len(model.trainable_weights))\n",
        "conv_base.trainable = False\n",
        "print('Number of trainable weights after freezing the conv base:', len(model.trainable_weights))\n"
      ],
      "execution_count": null,
      "outputs": [
        {
          "output_type": "stream",
          "text": [
            "Number of trainable weights before freezing the conv base: 492\n",
            "Number of trainable weights after freezing the conv base: 4\n"
          ],
          "name": "stdout"
        }
      ]
    },
    {
      "cell_type": "code",
      "metadata": {
        "id": "fHRgQOovPMe6"
      },
      "source": [
        "from keras import optimizers\n",
        "\n",
        "model.compile(loss='binary_crossentropy', optimizer=optimizers.RMSprop(lr=2e-5), metrics=['acc'])"
      ],
      "execution_count": null,
      "outputs": []
    },
    {
      "cell_type": "code",
      "metadata": {
        "colab": {
          "base_uri": "https://localhost:8080/"
        },
        "id": "YUSW-6mmhhyR",
        "outputId": "f8788228-683e-4cd4-c44d-43afdb14e2e1"
      },
      "source": [
        "\n",
        "train_generator = train_datagen.flow_from_directory(train_dir,\n",
        "                                                    target_size=(150, 150),\n",
        "                                                    batch_size=32,\n",
        "                                                    class_mode='binary')\n",
        "\n",
        "validation_generator = test_datagen.flow_from_directory(validation_dir,\n",
        "                                                        target_size=(150, 150),\n",
        "                                                        batch_size=32,\n",
        "                                                        class_mode='binary')\n",
        "\n",
        "model.fit_generator(train_generator,\n",
        "                              steps_per_epoch=1500//32,\n",
        "                              epochs=20,\n",
        "                              validation_data=validation_generator,\n",
        "                              validation_steps=1500//32)\n"
      ],
      "execution_count": null,
      "outputs": [
        {
          "output_type": "stream",
          "text": [
            "Found 2000 images belonging to 2 classes.\n",
            "Found 1000 images belonging to 2 classes.\n"
          ],
          "name": "stdout"
        },
        {
          "output_type": "stream",
          "text": [
            "/usr/local/lib/python3.7/dist-packages/tensorflow/python/keras/engine/training.py:1844: UserWarning: `Model.fit_generator` is deprecated and will be removed in a future version. Please use `Model.fit`, which supports generators.\n",
            "  warnings.warn('`Model.fit_generator` is deprecated and '\n"
          ],
          "name": "stderr"
        },
        {
          "output_type": "stream",
          "text": [
            "Epoch 1/20\n",
            "46/46 [==============================] - ETA: 0s - loss: 0.7481 - acc: 0.7833WARNING:tensorflow:Your input ran out of data; interrupting training. Make sure that your dataset or generator can generate at least `steps_per_epoch * epochs` batches (in this case, 46 batches). You may need to use the repeat() function when building your dataset.\n",
            "46/46 [==============================] - 30s 434ms/step - loss: 0.7403 - acc: 0.7850 - val_loss: 0.0974 - val_acc: 0.9600\n",
            "Epoch 2/20\n",
            "46/46 [==============================] - 12s 269ms/step - loss: 0.2002 - acc: 0.9212\n",
            "Epoch 3/20\n",
            "46/46 [==============================] - 13s 281ms/step - loss: 0.1983 - acc: 0.9210\n",
            "Epoch 4/20\n",
            "46/46 [==============================] - 12s 269ms/step - loss: 0.1844 - acc: 0.9258\n",
            "Epoch 5/20\n",
            "46/46 [==============================] - 13s 272ms/step - loss: 0.1629 - acc: 0.9361\n",
            "Epoch 6/20\n",
            "46/46 [==============================] - 12s 266ms/step - loss: 0.1998 - acc: 0.9287\n",
            "Epoch 7/20\n",
            "46/46 [==============================] - 12s 264ms/step - loss: 0.1289 - acc: 0.9511\n",
            "Epoch 8/20\n",
            "46/46 [==============================] - 13s 271ms/step - loss: 0.1214 - acc: 0.9470\n",
            "Epoch 9/20\n",
            "46/46 [==============================] - 12s 270ms/step - loss: 0.1600 - acc: 0.9422\n",
            "Epoch 10/20\n",
            "46/46 [==============================] - 12s 266ms/step - loss: 0.1384 - acc: 0.9441\n",
            "Epoch 11/20\n",
            "46/46 [==============================] - 12s 269ms/step - loss: 0.1191 - acc: 0.9512\n",
            "Epoch 12/20\n",
            "46/46 [==============================] - 12s 268ms/step - loss: 0.1140 - acc: 0.9544\n",
            "Epoch 13/20\n",
            "46/46 [==============================] - 12s 269ms/step - loss: 0.1385 - acc: 0.9378\n",
            "Epoch 14/20\n",
            "46/46 [==============================] - 12s 266ms/step - loss: 0.1266 - acc: 0.9454\n",
            "Epoch 15/20\n",
            "46/46 [==============================] - 12s 266ms/step - loss: 0.1017 - acc: 0.9546\n",
            "Epoch 16/20\n",
            "46/46 [==============================] - 12s 266ms/step - loss: 0.1328 - acc: 0.9527\n",
            "Epoch 17/20\n",
            "46/46 [==============================] - 12s 264ms/step - loss: 0.1090 - acc: 0.9564\n",
            "Epoch 18/20\n",
            "46/46 [==============================] - 12s 269ms/step - loss: 0.1094 - acc: 0.9567\n",
            "Epoch 19/20\n",
            "46/46 [==============================] - 12s 266ms/step - loss: 0.1101 - acc: 0.9568\n",
            "Epoch 20/20\n",
            "46/46 [==============================] - 12s 266ms/step - loss: 0.0936 - acc: 0.9725\n"
          ],
          "name": "stdout"
        },
        {
          "output_type": "execute_result",
          "data": {
            "text/plain": [
              "<tensorflow.python.keras.callbacks.History at 0x7fca94812590>"
            ]
          },
          "metadata": {
            "tags": []
          },
          "execution_count": 21
        }
      ]
    },
    {
      "cell_type": "markdown",
      "metadata": {
        "id": "ZGtpvYBiRwXz"
      },
      "source": [
        "With transfer leaning the accuracy is raised to 95%"
      ]
    }
  ]
}